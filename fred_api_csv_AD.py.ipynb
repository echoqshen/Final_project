{
 "cells": [
  {
   "cell_type": "code",
   "execution_count": 3,
   "id": "128e2ed2",
   "metadata": {},
   "outputs": [
    {
     "ename": "ModuleNotFoundError",
     "evalue": "No module named 'fredapi'",
     "output_type": "error",
     "traceback": [
      "\u001b[1;31m---------------------------------------------------------------------------\u001b[0m",
      "\u001b[1;31mModuleNotFoundError\u001b[0m                       Traceback (most recent call last)",
      "\u001b[1;32m~\\AppData\\Local\\Temp\\ipykernel_13284\\2559253473.py\u001b[0m in \u001b[0;36m<module>\u001b[1;34m\u001b[0m\n\u001b[0;32m      1\u001b[0m \u001b[1;32mimport\u001b[0m \u001b[0mpandas\u001b[0m \u001b[1;32mas\u001b[0m \u001b[0mpd\u001b[0m\u001b[1;33m\u001b[0m\u001b[1;33m\u001b[0m\u001b[0m\n\u001b[1;32m----> 2\u001b[1;33m \u001b[1;32mfrom\u001b[0m \u001b[0mfredapi\u001b[0m \u001b[1;32mimport\u001b[0m \u001b[0mFred\u001b[0m\u001b[1;33m\u001b[0m\u001b[1;33m\u001b[0m\u001b[0m\n\u001b[0m\u001b[0;32m      3\u001b[0m \u001b[1;32mfrom\u001b[0m \u001b[0mconfig\u001b[0m \u001b[1;32mimport\u001b[0m \u001b[0mfred_key\u001b[0m\u001b[1;33m,\u001b[0m \u001b[0mmongo_user\u001b[0m\u001b[1;33m,\u001b[0m \u001b[0mmongo_password\u001b[0m\u001b[1;33m\u001b[0m\u001b[1;33m\u001b[0m\u001b[0m\n\u001b[0;32m      4\u001b[0m \u001b[1;32mfrom\u001b[0m \u001b[0mfunctools\u001b[0m \u001b[1;32mimport\u001b[0m \u001b[0mreduce\u001b[0m\u001b[1;33m\u001b[0m\u001b[1;33m\u001b[0m\u001b[0m\n\u001b[0;32m      5\u001b[0m \u001b[0mfred\u001b[0m \u001b[1;33m=\u001b[0m \u001b[0mFred\u001b[0m\u001b[1;33m(\u001b[0m\u001b[0mapi_key\u001b[0m\u001b[1;33m=\u001b[0m\u001b[0mfred_key\u001b[0m\u001b[1;33m)\u001b[0m\u001b[1;33m\u001b[0m\u001b[1;33m\u001b[0m\u001b[0m\n",
      "\u001b[1;31mModuleNotFoundError\u001b[0m: No module named 'fredapi'"
     ]
    }
   ],
   "source": [
    "import pandas as pd\n",
    "from fredapi import Fred\n",
    "from config import fred_key, mongo_user, mongo_password\n",
    "from functools import reduce\n",
    "fred = Fred(api_key=fred_key)\n",
    "from pymongo import MongoClient"
   ]
  },
  {
   "cell_type": "code",
   "execution_count": 4,
   "id": "b7e454cb",
   "metadata": {},
   "outputs": [],
   "source": [
    "# Federal Funds Effective Rate: FEDFUNDS\n",
    "# Consumer Price Index for All Urban Consumers: All Items in U.S. City Average: CPIAUCSL\n",
    "# Unemployment Rate: UNRATE\n",
    "# Interest Rates, Discount Rate for United States: INTDSRUSM193N\n",
    "# 10-Year Breakeven Inflation Rate: T10YIEM\n",
    "# 3-Month Treasury Bill Secondary Market Rate: TB3MS\n",
    "# Consumer Price Index: Total All Items for the United States: CPALTT01USM657N\n",
    "# Labor Force Participation Rate: CIVPART\n",
    "# Personal Saving Rate: PSAVERT\n",
    "# Bank Prime Loan Rate: MPRIME\n",
    "# Unemployment Rate - Black or African American: LNS14000006"
   ]
  },
  {
   "cell_type": "code",
   "execution_count": 5,
   "id": "f843bb35",
   "metadata": {},
   "outputs": [
    {
     "ename": "NameError",
     "evalue": "name 'fred' is not defined",
     "output_type": "error",
     "traceback": [
      "\u001b[1;31m---------------------------------------------------------------------------\u001b[0m",
      "\u001b[1;31mNameError\u001b[0m                                 Traceback (most recent call last)",
      "\u001b[1;32m~\\AppData\\Local\\Temp\\ipykernel_13284\\1707613176.py\u001b[0m in \u001b[0;36m<module>\u001b[1;34m\u001b[0m\n\u001b[0;32m      4\u001b[0m \u001b[0mdataframes\u001b[0m \u001b[1;33m=\u001b[0m \u001b[1;33m[\u001b[0m\u001b[1;33m]\u001b[0m\u001b[1;33m\u001b[0m\u001b[1;33m\u001b[0m\u001b[0m\n\u001b[0;32m      5\u001b[0m \u001b[1;32mfor\u001b[0m \u001b[0mind\u001b[0m \u001b[1;32min\u001b[0m \u001b[0mfred_indexes\u001b[0m\u001b[1;33m:\u001b[0m\u001b[1;33m\u001b[0m\u001b[1;33m\u001b[0m\u001b[0m\n\u001b[1;32m----> 6\u001b[1;33m     \u001b[0mdf\u001b[0m \u001b[1;33m=\u001b[0m \u001b[0mpd\u001b[0m\u001b[1;33m.\u001b[0m\u001b[0mDataFrame\u001b[0m\u001b[1;33m(\u001b[0m\u001b[0mfred\u001b[0m\u001b[1;33m.\u001b[0m\u001b[0mget_series\u001b[0m\u001b[1;33m(\u001b[0m\u001b[0mind\u001b[0m\u001b[1;33m,\u001b[0m \u001b[0mobservation_start\u001b[0m\u001b[1;33m=\u001b[0m\u001b[1;34m'2000-1-1'\u001b[0m\u001b[1;33m)\u001b[0m\u001b[1;33m)\u001b[0m\u001b[1;33m\u001b[0m\u001b[1;33m\u001b[0m\u001b[0m\n\u001b[0m\u001b[0;32m      7\u001b[0m     \u001b[0mdf\u001b[0m\u001b[1;33m.\u001b[0m\u001b[0mindex\u001b[0m\u001b[1;33m.\u001b[0m\u001b[0mnames\u001b[0m \u001b[1;33m=\u001b[0m \u001b[1;33m[\u001b[0m\u001b[1;34m'date'\u001b[0m\u001b[1;33m]\u001b[0m\u001b[1;33m\u001b[0m\u001b[1;33m\u001b[0m\u001b[0m\n\u001b[0;32m      8\u001b[0m     \u001b[0mdataframes\u001b[0m\u001b[1;33m.\u001b[0m\u001b[0mappend\u001b[0m\u001b[1;33m(\u001b[0m\u001b[0mdf\u001b[0m\u001b[1;33m)\u001b[0m\u001b[1;33m\u001b[0m\u001b[1;33m\u001b[0m\u001b[0m\n",
      "\u001b[1;31mNameError\u001b[0m: name 'fred' is not defined"
     ]
    }
   ],
   "source": [
    "\n",
    "fred_indexes = [\"UNRATE\",\"FEDFUNDS\",\"CPIAUCSL\",\"INTDSRUSM193N\",\"T10YIEM\",\"TB3MS\", \"CPALTT01USM657N\",\n",
    "\"CIVPART\",\"PSAVERT\",\"MPRIME\", \"LNS14000006\"]\n",
    "\n",
    "dataframes = []\n",
    "for ind in fred_indexes:\n",
    "    df = pd.DataFrame(fred.get_series(ind, observation_start='2000-1-1'))\n",
    "    df.index.names = ['date']\n",
    "    dataframes.append(df)\n",
    "\n",
    "counter = 0\n",
    "for dataframe in dataframes:\n",
    "    print(fred_indexes[counter])\n",
    "    print(df.head())\n",
    "    print(df.tail())\n",
    "    counter = counter + 1\n",
    "\n",
    "combined = reduce(lambda x, y: pd.merge(x, y, on='date'), dataframes)\n",
    "combined.columns = fred_indexes\n",
    "combined.to_csv(\"Resources/combine.csv\")\n"
   ]
  },
  {
   "cell_type": "code",
   "execution_count": 6,
   "id": "37d78182",
   "metadata": {},
   "outputs": [],
   "source": [
    "# Employment-Population Ratio (EMRATIO)\n",
    "# Unemployment Level (UNEMPLOY)\n",
    "# Job Openings: Total Nonfarm (JTSJOL)\n",
    "# Job Openings: Manufacturing (JTS3000JOL)\n",
    "# Job Openings: Education and Health Services (JTS6000JOL)\n",
    "# Job Openings: Government (JTS9000JOL)\n",
    "# Consumer Price Index for All Urban Consumers: Meats, Poultry, Fish, and Eggs in U.S. City Average (CUSR0000SAF112)\n",
    "# Job Openings: Information (JTU5100JOL)\n",
    "# Job Openings: Finance and Insurance (JTU5200JOL)"
   ]
  },
  {
   "cell_type": "code",
   "execution_count": 7,
   "id": "8d60ae97",
   "metadata": {},
   "outputs": [
    {
     "ename": "NameError",
     "evalue": "name 'fred_more' is not defined",
     "output_type": "error",
     "traceback": [
      "\u001b[1;31m---------------------------------------------------------------------------\u001b[0m",
      "\u001b[1;31mNameError\u001b[0m                                 Traceback (most recent call last)",
      "\u001b[1;32m~\\AppData\\Local\\Temp\\ipykernel_13284\\90905036.py\u001b[0m in \u001b[0;36m<module>\u001b[1;34m\u001b[0m\n\u001b[0;32m      1\u001b[0m \u001b[0mFred_more\u001b[0m \u001b[1;33m=\u001b[0m \u001b[1;33m[\u001b[0m\u001b[1;34m\"EMRATIO\"\u001b[0m\u001b[1;33m,\u001b[0m\u001b[1;34m\"UNEMPLOY\"\u001b[0m\u001b[1;33m,\u001b[0m \u001b[1;34m'JTSJOL'\u001b[0m\u001b[1;33m,\u001b[0m \u001b[1;34m'JTS3000JOL'\u001b[0m\u001b[1;33m,\u001b[0m \u001b[1;34m'JTS6000JOL'\u001b[0m\u001b[1;33m,\u001b[0m\u001b[1;34m'JTU5100JOL'\u001b[0m\u001b[1;33m,\u001b[0m\u001b[1;34m'JTU5200JOL'\u001b[0m\u001b[1;33m]\u001b[0m\u001b[1;33m\u001b[0m\u001b[1;33m\u001b[0m\u001b[0m\n\u001b[0;32m      2\u001b[0m \u001b[0mdataframes\u001b[0m \u001b[1;33m=\u001b[0m \u001b[1;33m[\u001b[0m\u001b[1;33m]\u001b[0m\u001b[1;33m\u001b[0m\u001b[1;33m\u001b[0m\u001b[0m\n\u001b[1;32m----> 3\u001b[1;33m \u001b[1;32mfor\u001b[0m \u001b[0mind\u001b[0m \u001b[1;32min\u001b[0m \u001b[0mfred_more\u001b[0m\u001b[1;33m:\u001b[0m\u001b[1;33m\u001b[0m\u001b[1;33m\u001b[0m\u001b[0m\n\u001b[0m\u001b[0;32m      4\u001b[0m     \u001b[0mdf\u001b[0m \u001b[1;33m=\u001b[0m \u001b[0mpd\u001b[0m\u001b[1;33m.\u001b[0m\u001b[0mDataFrame\u001b[0m\u001b[1;33m(\u001b[0m\u001b[0mfred\u001b[0m\u001b[1;33m.\u001b[0m\u001b[0mget_series\u001b[0m\u001b[1;33m(\u001b[0m\u001b[0mind\u001b[0m\u001b[1;33m,\u001b[0m \u001b[0mobservation_start\u001b[0m\u001b[1;33m=\u001b[0m\u001b[1;34m'2000-1-1'\u001b[0m\u001b[1;33m)\u001b[0m\u001b[1;33m)\u001b[0m\u001b[1;33m\u001b[0m\u001b[1;33m\u001b[0m\u001b[0m\n\u001b[0;32m      5\u001b[0m     \u001b[0mdf\u001b[0m\u001b[1;33m.\u001b[0m\u001b[0mindex\u001b[0m\u001b[1;33m.\u001b[0m\u001b[0mnames\u001b[0m \u001b[1;33m=\u001b[0m \u001b[1;33m[\u001b[0m\u001b[1;34m'date'\u001b[0m\u001b[1;33m]\u001b[0m\u001b[1;33m\u001b[0m\u001b[1;33m\u001b[0m\u001b[0m\n",
      "\u001b[1;31mNameError\u001b[0m: name 'fred_more' is not defined"
     ]
    }
   ],
   "source": [
    "Fred_more = [\"EMRATIO\",\"UNEMPLOY\", 'JTSJOL', 'JTS3000JOL', 'JTS6000JOL','JTU5100JOL','JTU5200JOL']\n",
    "dataframes = []\n",
    "for ind in fred_more:\n",
    "    df = pd.DataFrame(fred.get_series(ind, observation_start='2000-1-1'))\n",
    "    df.index.names = ['date']\n",
    "    dataframes.append(df)\n",
    "\n",
    "counter = 0\n",
    "for dataframe in dataframes:\n",
    "    print(fred_more[counter])\n",
    "    print(df.head())\n",
    "    print(df.tail())\n",
    "    counter = counter + 1\n",
    "\n",
    "addition = reduce(lambda x, y: pd.merge(x, y, on='date'), dataframes)\n",
    "addition.columns = fred_more\n",
    "addition.to_csv(\"Resources/additional.csv\")"
   ]
  },
  {
   "cell_type": "code",
   "execution_count": null,
   "id": "bf5b690b",
   "metadata": {},
   "outputs": [],
   "source": []
  }
 ],
 "metadata": {
  "kernelspec": {
   "display_name": "mlenv",
   "language": "python",
   "name": "mlenv"
  },
  "language_info": {
   "codemirror_mode": {
    "name": "ipython",
    "version": 3
   },
   "file_extension": ".py",
   "mimetype": "text/x-python",
   "name": "python",
   "nbconvert_exporter": "python",
   "pygments_lexer": "ipython3",
   "version": "3.7.10"
  }
 },
 "nbformat": 4,
 "nbformat_minor": 5
}
