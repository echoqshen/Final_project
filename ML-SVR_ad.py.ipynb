{
 "cells": [
  {
   "cell_type": "code",
   "execution_count": 86,
   "id": "1c2bc253",
   "metadata": {},
   "outputs": [
    {
     "name": "stdout",
     "output_type": "stream",
     "text": [
      "Requirement already satisfied: fredapi in c:\\users\\dadda\\anaconda3\\envs\\pythondata\\lib\\site-packages (0.5.0)\n",
      "Requirement already satisfied: pandas in c:\\users\\dadda\\appdata\\roaming\\python\\python37\\site-packages (from fredapi) (1.3.5)\n",
      "Requirement already satisfied: numpy>=1.17.3 in c:\\users\\dadda\\appdata\\roaming\\python\\python37\\site-packages (from pandas->fredapi) (1.21.5)\n",
      "Requirement already satisfied: python-dateutil>=2.7.3 in c:\\users\\dadda\\appdata\\roaming\\python\\python37\\site-packages (from pandas->fredapi) (2.8.2)\n",
      "Requirement already satisfied: pytz>=2017.3 in c:\\users\\dadda\\appdata\\roaming\\python\\python37\\site-packages (from pandas->fredapi) (2021.3)\n",
      "Requirement already satisfied: six>=1.5 in c:\\users\\dadda\\anaconda3\\envs\\pythondata\\lib\\site-packages (from python-dateutil>=2.7.3->pandas->fredapi) (1.15.0)\n",
      "Note: you may need to restart the kernel to use updated packages.\n"
     ]
    }
   ],
   "source": [
    "pip install fredapi"
   ]
  },
  {
   "cell_type": "code",
   "execution_count": 87,
   "id": "5d602a27",
   "metadata": {},
   "outputs": [],
   "source": [
    "import pandas as pd\n",
    "from fredapi import Fred\n",
    "from AD_CONFIG import fred_key\n",
    "from functools import reduce\n",
    "fred = Fred(api_key=fred_key)\n",
    "import matplotlib.pyplot as plt"
   ]
  },
  {
   "cell_type": "code",
   "execution_count": 98,
   "id": "3756f794",
   "metadata": {},
   "outputs": [],
   "source": [
    "# fred_indexes = [\"EMRATIO\",\"UNEMPLOY\", 'JTSJOL', 'JTS3000JOL', 'JTS6000JOL',\n",
    "# 'JTS9000JOL', 'CUSR0000SAF112','JTU5100JOL','JTU5200JOL']\n",
    "\n",
    "fred_indexes = [\"UNRATE\", \"M2SL\",\"M1SL\", \"CSUSHPINSA\",\n",
    "\"CIVPART\",\"PSAVERT\",\"CES0500000003\", \"LNS14000006\", \"LNS14000001\"]\n",
    "#fred_indexes = [\"UNRATE\",\"FEDFUNDS\",\"CPIAUCSL\",\"INTDSRUSM193N\",\"T10YIEM\",\"TB3MS\", \"CPALTT01USM657N\",\n",
    "#\"CIVPART\",\"PSAVERT\",\"MPRIME\", \"LNS14000006\"]"
   ]
  },
  {
   "cell_type": "code",
   "execution_count": 99,
   "id": "5fee48bd",
   "metadata": {},
   "outputs": [],
   "source": [
    "\n",
    "### we used a python library call fred api to query the API endpoint and create dataframes\n",
    "dataframes = []\n",
    "### loop thru all the different indexes and create a dataframe for each \n",
    "for ind in fred_indexes:\n",
    "    df = pd.DataFrame(fred.get_series(ind, observation_start='2000-1-1'))\n",
    "    df.index.names = ['date']\n",
    "    dataframes.append(df)\n",
    "\n",
    "counter = 0\n",
    "for dataframe in dataframes:\n",
    "   counter = counter + 1"
   ]
  },
  {
   "cell_type": "code",
   "execution_count": 100,
   "id": "84c991df",
   "metadata": {},
   "outputs": [
    {
     "name": "stderr",
     "output_type": "stream",
     "text": [
      "C:\\Users\\dadda\\AppData\\Roaming\\Python\\Python37\\site-packages\\ipykernel_launcher.py:2: FutureWarning:\n",
      "\n",
      "Passing 'suffixes' which cause duplicate columns {'0_x'} in the result is deprecated and will raise a MergeError in a future version.\n",
      "\n"
     ]
    }
   ],
   "source": [
    "### merge/join the dataframes on the date \n",
    "combined = reduce(lambda x, y: pd.merge(x, y, on='date'), dataframes)\n",
    "combined.columns = fred_indexes\n",
    "combined.to_csv(\"Resources/combine.csv\")\n"
   ]
  },
  {
   "cell_type": "code",
   "execution_count": 101,
   "id": "f9c6f0a7",
   "metadata": {},
   "outputs": [],
   "source": [
    "### SVR model\n",
    "df = combined"
   ]
  },
  {
   "cell_type": "code",
   "execution_count": 102,
   "id": "fc796d41",
   "metadata": {},
   "outputs": [],
   "source": [
    "# use pandas library to randomly sample data from the dataset\n",
    "## sklean has \"test train split\", this function randomly samples the data and splits into 2 groups \n",
    "## a treatment group and a control group or a training group for the model and a test group for the model\n",
    "from sklearn.model_selection import train_test_split\n",
    "train, test = train_test_split(df, test_size = 0.3)\n"
   ]
  },
  {
   "cell_type": "code",
   "execution_count": 103,
   "id": "41537119",
   "metadata": {},
   "outputs": [],
   "source": [
    "\n",
    "# we remove the unemployment because we are trying to predict it \n",
    "x_train = train.drop('UNRATE', axis=1)\n",
    "y_train = train['UNRATE']\n",
    "\n",
    "x_test = test.drop('UNRATE', axis = 1)\n",
    "y_test = test['UNRATE']\n"
   ]
  },
  {
   "cell_type": "code",
   "execution_count": 104,
   "id": "579c4f36",
   "metadata": {},
   "outputs": [],
   "source": [
    "# scale all the date which is all numerical values (no categorical) to values between zero and one\n",
    "from sklearn.preprocessing import MinMaxScaler\n",
    "scaler = MinMaxScaler(feature_range=(0, 1))\n",
    "\n",
    "x_train_scaled = scaler.fit_transform(x_train)\n",
    "x_train = pd.DataFrame(x_train_scaled)\n",
    "\n",
    "x_test_scaled = scaler.fit_transform(x_test)\n",
    "x_test = pd.DataFrame(x_test_scaled)\n",
    "\n",
    "\n",
    "from sklearn.svm import SVR\n",
    "# most important SVR parameter is Kernel type. \n",
    "# It can be #linear,polynomial or gaussian SVR. We have a non-linear condition \n",
    "# #so we can select polynomial or gaussian but here we select RBF(a #gaussian type) kernel."
   ]
  },
  {
   "cell_type": "code",
   "execution_count": 105,
   "id": "4bce974f",
   "metadata": {},
   "outputs": [
    {
     "name": "stdout",
     "output_type": "stream",
     "text": [
      "model score\n",
      "0.944707528875783\n"
     ]
    }
   ],
   "source": [
    "regressor = SVR(kernel='rbf')\n",
    "regressor.fit(x_train, y_train)\n",
    "y_pred = regressor.predict(x_test)\n",
    "\n",
    "score=regressor.score(x_train,y_train)\n",
    "print(\"model score\")\n",
    "print(score)"
   ]
  },
  {
   "cell_type": "code",
   "execution_count": 76,
   "id": "bda1a351",
   "metadata": {},
   "outputs": [],
   "source": [
    "# Visualizations\n",
    "import plotly.graph_objects as go # for data visualization\n",
    "import plotly.express as px # for data visualization\n",
    "from plotly.subplots import make_subplots\n"
   ]
  },
  {
   "cell_type": "code",
   "execution_count": 77,
   "id": "12921d37",
   "metadata": {},
   "outputs": [],
   "source": [
    "df = df.rename(columns = {\"LNS14000006\":\"Black or African American\"})"
   ]
  },
  {
   "cell_type": "code",
   "execution_count": 82,
   "id": "8ca35e71",
   "metadata": {},
   "outputs": [],
   "source": [
    "# # Create a scatter plot\n",
    "\n",
    "fig = px.scatter(df, x=df['Black or African American'], y=df['UNRATE'], \n",
    "opacity=0.8, color_discrete_sequence=['black'])"
   ]
  },
  {
   "cell_type": "code",
   "execution_count": 85,
   "id": "ca3d5b6b",
   "metadata": {},
   "outputs": [
    {
     "data": {
      "application/vnd.plotly.v1+json": {
       "config": {
        "plotlyServerURL": "https://plot.ly"
       },
       "data": [
        {
         "hovertemplate": "Black or African American=%{x}<br>UNRATE=%{y}<extra></extra>",
         "legendgroup": "",
         "marker": {
          "color": "black",
          "opacity": 0.8,
          "size": 3,
          "symbol": "circle"
         },
         "mode": "markers",
         "name": "",
         "orientation": "v",
         "showlegend": false,
         "type": "scatter",
         "x": [
          10.5,
          10.7,
          10.3,
          10.9,
          10.9,
          11.5,
          10.9,
          10.9,
          11.1,
          11.4,
          10.2,
          10.1,
          10.4,
          9.7,
          10.3,
          9.8,
          10.1,
          10.2,
          11,
          10.5,
          10.3,
          10.8,
          10.7,
          10.7,
          10.6,
          10.9,
          10.5,
          10.3,
          10.1,
          10.2,
          9.2,
          9.7,
          9.4,
          9.1,
          10.6,
          9.2,
          8.9,
          9.5,
          9.5,
          9.4,
          8.7,
          8.9,
          9.5,
          8.8,
          9,
          8.4,
          8.5,
          8.3,
          7.9,
          8,
          8.4,
          8.3,
          8.3,
          8.5,
          8.1,
          7.6,
          8,
          8.5,
          8.5,
          9,
          9.1,
          8.4,
          9.2,
          8.6,
          9.6,
          9.4,
          10,
          10.6,
          11.3,
          11.4,
          11.5,
          12.1,
          12.7,
          13.7,
          13.7,
          15,
          15,
          14.8,
          14.8,
          14.8,
          15.3,
          15.8,
          15.7,
          16.1,
          16.5,
          16.1,
          16.8,
          16.6,
          15.5,
          15.2,
          15.6,
          15.9,
          16,
          15.6,
          16.2,
          15.5,
          15.8,
          15.5,
          15.8,
          16.5,
          16.3,
          16.2,
          15.9,
          16.4,
          15.9,
          14.6,
          15.6,
          15.4,
          13.6,
          14,
          14,
          13.3,
          13.5,
          14.5,
          14.2,
          13.8,
          13.6,
          14.1,
          13.3,
          14,
          13.7,
          13.8,
          13,
          13.3,
          13.4,
          14.2,
          12.6,
          12.8,
          13,
          12.8,
          12.3,
          11.9,
          12.1,
          11.8,
          12.1,
          11.6,
          11.4,
          11,
          11.6,
          11.4,
          11,
          10.6,
          10.9,
          10.6,
          10.3,
          10.1,
          9.9,
          9.7,
          10.3,
          9.7,
          9.1,
          9.4,
          9.3,
          9,
          9.4,
          8.5,
          8.5,
          8.6,
          8.9,
          8.8,
          8.2,
          8.7,
          8.2,
          8,
          8.5,
          8.5,
          8.2,
          8,
          7.5,
          8,
          7.8,
          7.7,
          7.7,
          6.9,
          7.3,
          7.7,
          7.2,
          7.6,
          7.5,
          6.7,
          7.5,
          6.8,
          6.7,
          6.3,
          5.9,
          6.4,
          6.5,
          6.3,
          6.1,
          6.5,
          6.1,
          6.7,
          7,
          7.1,
          6.5,
          6.5,
          6.1,
          5.8,
          5.8,
          5.4,
          5.4,
          5.6,
          5.6,
          6,
          6.3,
          6,
          6.8,
          16.6,
          16.8,
          15.2,
          14.4,
          12.8,
          12.1,
          10.9,
          10.4,
          10,
          9.2,
          9.8,
          9.5,
          9.7,
          9.1,
          9.2,
          8.2,
          8.7
         ],
         "xaxis": "x",
         "y": [
          5.8,
          5.9,
          5.9,
          6,
          6.1,
          6.3,
          6.2,
          6.1,
          6.1,
          6,
          5.8,
          5.7,
          5.7,
          5.6,
          5.8,
          5.6,
          5.6,
          5.6,
          5.5,
          5.4,
          5.4,
          5.5,
          5.4,
          5.4,
          5.3,
          5.4,
          5.2,
          5.2,
          5.1,
          5,
          5,
          4.9,
          5,
          5,
          5,
          4.9,
          4.7,
          4.8,
          4.7,
          4.7,
          4.6,
          4.6,
          4.7,
          4.7,
          4.5,
          4.4,
          4.5,
          4.4,
          4.6,
          4.5,
          4.4,
          4.5,
          4.4,
          4.6,
          4.7,
          4.6,
          4.7,
          4.7,
          4.7,
          5,
          5,
          4.9,
          5.1,
          5,
          5.4,
          5.6,
          5.8,
          6.1,
          6.1,
          6.5,
          6.8,
          7.3,
          7.8,
          8.3,
          8.7,
          9,
          9.4,
          9.5,
          9.5,
          9.6,
          9.8,
          10,
          9.9,
          9.9,
          9.8,
          9.8,
          9.9,
          9.9,
          9.6,
          9.4,
          9.4,
          9.5,
          9.5,
          9.4,
          9.8,
          9.3,
          9.1,
          9,
          9,
          9.1,
          9,
          9.1,
          9,
          9,
          9,
          8.8,
          8.6,
          8.5,
          8.3,
          8.3,
          8.2,
          8.2,
          8.2,
          8.2,
          8.2,
          8.1,
          7.8,
          7.8,
          7.7,
          7.9,
          8,
          7.7,
          7.5,
          7.6,
          7.5,
          7.5,
          7.3,
          7.2,
          7.2,
          7.2,
          6.9,
          6.7,
          6.6,
          6.7,
          6.7,
          6.2,
          6.3,
          6.1,
          6.2,
          6.1,
          5.9,
          5.7,
          5.8,
          5.6,
          5.7,
          5.5,
          5.4,
          5.4,
          5.6,
          5.3,
          5.2,
          5.1,
          5,
          5,
          5.1,
          5,
          4.8,
          4.9,
          5,
          5.1,
          4.8,
          4.9,
          4.8,
          4.9,
          5,
          4.9,
          4.7,
          4.7,
          4.7,
          4.6,
          4.4,
          4.4,
          4.4,
          4.3,
          4.3,
          4.4,
          4.3,
          4.2,
          4.2,
          4.1,
          4,
          4.1,
          4,
          4,
          3.8,
          4,
          3.8,
          3.8,
          3.7,
          3.8,
          3.8,
          3.9,
          4,
          3.8,
          3.8,
          3.6,
          3.6,
          3.6,
          3.7,
          3.7,
          3.5,
          3.6,
          3.6,
          3.6,
          3.5,
          3.5,
          4.4,
          14.7,
          13.2,
          11,
          10.2,
          8.4,
          7.9,
          6.9,
          6.7,
          6.7,
          6.4,
          6.2,
          6,
          6,
          5.8,
          5.9,
          5.4,
          5.2
         ],
         "yaxis": "y"
        }
       ],
       "layout": {
        "legend": {
         "tracegroupgap": 0
        },
        "margin": {
         "t": 60
        },
        "plot_bgcolor": "white",
        "template": {
         "data": {
          "bar": [
           {
            "error_x": {
             "color": "#2a3f5f"
            },
            "error_y": {
             "color": "#2a3f5f"
            },
            "marker": {
             "line": {
              "color": "#E5ECF6",
              "width": 0.5
             },
             "pattern": {
              "fillmode": "overlay",
              "size": 10,
              "solidity": 0.2
             }
            },
            "type": "bar"
           }
          ],
          "barpolar": [
           {
            "marker": {
             "line": {
              "color": "#E5ECF6",
              "width": 0.5
             },
             "pattern": {
              "fillmode": "overlay",
              "size": 10,
              "solidity": 0.2
             }
            },
            "type": "barpolar"
           }
          ],
          "carpet": [
           {
            "aaxis": {
             "endlinecolor": "#2a3f5f",
             "gridcolor": "white",
             "linecolor": "white",
             "minorgridcolor": "white",
             "startlinecolor": "#2a3f5f"
            },
            "baxis": {
             "endlinecolor": "#2a3f5f",
             "gridcolor": "white",
             "linecolor": "white",
             "minorgridcolor": "white",
             "startlinecolor": "#2a3f5f"
            },
            "type": "carpet"
           }
          ],
          "choropleth": [
           {
            "colorbar": {
             "outlinewidth": 0,
             "ticks": ""
            },
            "type": "choropleth"
           }
          ],
          "contour": [
           {
            "colorbar": {
             "outlinewidth": 0,
             "ticks": ""
            },
            "colorscale": [
             [
              0,
              "#0d0887"
             ],
             [
              0.1111111111111111,
              "#46039f"
             ],
             [
              0.2222222222222222,
              "#7201a8"
             ],
             [
              0.3333333333333333,
              "#9c179e"
             ],
             [
              0.4444444444444444,
              "#bd3786"
             ],
             [
              0.5555555555555556,
              "#d8576b"
             ],
             [
              0.6666666666666666,
              "#ed7953"
             ],
             [
              0.7777777777777778,
              "#fb9f3a"
             ],
             [
              0.8888888888888888,
              "#fdca26"
             ],
             [
              1,
              "#f0f921"
             ]
            ],
            "type": "contour"
           }
          ],
          "contourcarpet": [
           {
            "colorbar": {
             "outlinewidth": 0,
             "ticks": ""
            },
            "type": "contourcarpet"
           }
          ],
          "heatmap": [
           {
            "colorbar": {
             "outlinewidth": 0,
             "ticks": ""
            },
            "colorscale": [
             [
              0,
              "#0d0887"
             ],
             [
              0.1111111111111111,
              "#46039f"
             ],
             [
              0.2222222222222222,
              "#7201a8"
             ],
             [
              0.3333333333333333,
              "#9c179e"
             ],
             [
              0.4444444444444444,
              "#bd3786"
             ],
             [
              0.5555555555555556,
              "#d8576b"
             ],
             [
              0.6666666666666666,
              "#ed7953"
             ],
             [
              0.7777777777777778,
              "#fb9f3a"
             ],
             [
              0.8888888888888888,
              "#fdca26"
             ],
             [
              1,
              "#f0f921"
             ]
            ],
            "type": "heatmap"
           }
          ],
          "heatmapgl": [
           {
            "colorbar": {
             "outlinewidth": 0,
             "ticks": ""
            },
            "colorscale": [
             [
              0,
              "#0d0887"
             ],
             [
              0.1111111111111111,
              "#46039f"
             ],
             [
              0.2222222222222222,
              "#7201a8"
             ],
             [
              0.3333333333333333,
              "#9c179e"
             ],
             [
              0.4444444444444444,
              "#bd3786"
             ],
             [
              0.5555555555555556,
              "#d8576b"
             ],
             [
              0.6666666666666666,
              "#ed7953"
             ],
             [
              0.7777777777777778,
              "#fb9f3a"
             ],
             [
              0.8888888888888888,
              "#fdca26"
             ],
             [
              1,
              "#f0f921"
             ]
            ],
            "type": "heatmapgl"
           }
          ],
          "histogram": [
           {
            "marker": {
             "pattern": {
              "fillmode": "overlay",
              "size": 10,
              "solidity": 0.2
             }
            },
            "type": "histogram"
           }
          ],
          "histogram2d": [
           {
            "colorbar": {
             "outlinewidth": 0,
             "ticks": ""
            },
            "colorscale": [
             [
              0,
              "#0d0887"
             ],
             [
              0.1111111111111111,
              "#46039f"
             ],
             [
              0.2222222222222222,
              "#7201a8"
             ],
             [
              0.3333333333333333,
              "#9c179e"
             ],
             [
              0.4444444444444444,
              "#bd3786"
             ],
             [
              0.5555555555555556,
              "#d8576b"
             ],
             [
              0.6666666666666666,
              "#ed7953"
             ],
             [
              0.7777777777777778,
              "#fb9f3a"
             ],
             [
              0.8888888888888888,
              "#fdca26"
             ],
             [
              1,
              "#f0f921"
             ]
            ],
            "type": "histogram2d"
           }
          ],
          "histogram2dcontour": [
           {
            "colorbar": {
             "outlinewidth": 0,
             "ticks": ""
            },
            "colorscale": [
             [
              0,
              "#0d0887"
             ],
             [
              0.1111111111111111,
              "#46039f"
             ],
             [
              0.2222222222222222,
              "#7201a8"
             ],
             [
              0.3333333333333333,
              "#9c179e"
             ],
             [
              0.4444444444444444,
              "#bd3786"
             ],
             [
              0.5555555555555556,
              "#d8576b"
             ],
             [
              0.6666666666666666,
              "#ed7953"
             ],
             [
              0.7777777777777778,
              "#fb9f3a"
             ],
             [
              0.8888888888888888,
              "#fdca26"
             ],
             [
              1,
              "#f0f921"
             ]
            ],
            "type": "histogram2dcontour"
           }
          ],
          "mesh3d": [
           {
            "colorbar": {
             "outlinewidth": 0,
             "ticks": ""
            },
            "type": "mesh3d"
           }
          ],
          "parcoords": [
           {
            "line": {
             "colorbar": {
              "outlinewidth": 0,
              "ticks": ""
             }
            },
            "type": "parcoords"
           }
          ],
          "pie": [
           {
            "automargin": true,
            "type": "pie"
           }
          ],
          "scatter": [
           {
            "marker": {
             "colorbar": {
              "outlinewidth": 0,
              "ticks": ""
             }
            },
            "type": "scatter"
           }
          ],
          "scatter3d": [
           {
            "line": {
             "colorbar": {
              "outlinewidth": 0,
              "ticks": ""
             }
            },
            "marker": {
             "colorbar": {
              "outlinewidth": 0,
              "ticks": ""
             }
            },
            "type": "scatter3d"
           }
          ],
          "scattercarpet": [
           {
            "marker": {
             "colorbar": {
              "outlinewidth": 0,
              "ticks": ""
             }
            },
            "type": "scattercarpet"
           }
          ],
          "scattergeo": [
           {
            "marker": {
             "colorbar": {
              "outlinewidth": 0,
              "ticks": ""
             }
            },
            "type": "scattergeo"
           }
          ],
          "scattergl": [
           {
            "marker": {
             "colorbar": {
              "outlinewidth": 0,
              "ticks": ""
             }
            },
            "type": "scattergl"
           }
          ],
          "scattermapbox": [
           {
            "marker": {
             "colorbar": {
              "outlinewidth": 0,
              "ticks": ""
             }
            },
            "type": "scattermapbox"
           }
          ],
          "scatterpolar": [
           {
            "marker": {
             "colorbar": {
              "outlinewidth": 0,
              "ticks": ""
             }
            },
            "type": "scatterpolar"
           }
          ],
          "scatterpolargl": [
           {
            "marker": {
             "colorbar": {
              "outlinewidth": 0,
              "ticks": ""
             }
            },
            "type": "scatterpolargl"
           }
          ],
          "scatterternary": [
           {
            "marker": {
             "colorbar": {
              "outlinewidth": 0,
              "ticks": ""
             }
            },
            "type": "scatterternary"
           }
          ],
          "surface": [
           {
            "colorbar": {
             "outlinewidth": 0,
             "ticks": ""
            },
            "colorscale": [
             [
              0,
              "#0d0887"
             ],
             [
              0.1111111111111111,
              "#46039f"
             ],
             [
              0.2222222222222222,
              "#7201a8"
             ],
             [
              0.3333333333333333,
              "#9c179e"
             ],
             [
              0.4444444444444444,
              "#bd3786"
             ],
             [
              0.5555555555555556,
              "#d8576b"
             ],
             [
              0.6666666666666666,
              "#ed7953"
             ],
             [
              0.7777777777777778,
              "#fb9f3a"
             ],
             [
              0.8888888888888888,
              "#fdca26"
             ],
             [
              1,
              "#f0f921"
             ]
            ],
            "type": "surface"
           }
          ],
          "table": [
           {
            "cells": {
             "fill": {
              "color": "#EBF0F8"
             },
             "line": {
              "color": "white"
             }
            },
            "header": {
             "fill": {
              "color": "#C8D4E3"
             },
             "line": {
              "color": "white"
             }
            },
            "type": "table"
           }
          ]
         },
         "layout": {
          "annotationdefaults": {
           "arrowcolor": "#2a3f5f",
           "arrowhead": 0,
           "arrowwidth": 1
          },
          "autotypenumbers": "strict",
          "coloraxis": {
           "colorbar": {
            "outlinewidth": 0,
            "ticks": ""
           }
          },
          "colorscale": {
           "diverging": [
            [
             0,
             "#8e0152"
            ],
            [
             0.1,
             "#c51b7d"
            ],
            [
             0.2,
             "#de77ae"
            ],
            [
             0.3,
             "#f1b6da"
            ],
            [
             0.4,
             "#fde0ef"
            ],
            [
             0.5,
             "#f7f7f7"
            ],
            [
             0.6,
             "#e6f5d0"
            ],
            [
             0.7,
             "#b8e186"
            ],
            [
             0.8,
             "#7fbc41"
            ],
            [
             0.9,
             "#4d9221"
            ],
            [
             1,
             "#276419"
            ]
           ],
           "sequential": [
            [
             0,
             "#0d0887"
            ],
            [
             0.1111111111111111,
             "#46039f"
            ],
            [
             0.2222222222222222,
             "#7201a8"
            ],
            [
             0.3333333333333333,
             "#9c179e"
            ],
            [
             0.4444444444444444,
             "#bd3786"
            ],
            [
             0.5555555555555556,
             "#d8576b"
            ],
            [
             0.6666666666666666,
             "#ed7953"
            ],
            [
             0.7777777777777778,
             "#fb9f3a"
            ],
            [
             0.8888888888888888,
             "#fdca26"
            ],
            [
             1,
             "#f0f921"
            ]
           ],
           "sequentialminus": [
            [
             0,
             "#0d0887"
            ],
            [
             0.1111111111111111,
             "#46039f"
            ],
            [
             0.2222222222222222,
             "#7201a8"
            ],
            [
             0.3333333333333333,
             "#9c179e"
            ],
            [
             0.4444444444444444,
             "#bd3786"
            ],
            [
             0.5555555555555556,
             "#d8576b"
            ],
            [
             0.6666666666666666,
             "#ed7953"
            ],
            [
             0.7777777777777778,
             "#fb9f3a"
            ],
            [
             0.8888888888888888,
             "#fdca26"
            ],
            [
             1,
             "#f0f921"
            ]
           ]
          },
          "colorway": [
           "#636efa",
           "#EF553B",
           "#00cc96",
           "#ab63fa",
           "#FFA15A",
           "#19d3f3",
           "#FF6692",
           "#B6E880",
           "#FF97FF",
           "#FECB52"
          ],
          "font": {
           "color": "#2a3f5f"
          },
          "geo": {
           "bgcolor": "white",
           "lakecolor": "white",
           "landcolor": "#E5ECF6",
           "showlakes": true,
           "showland": true,
           "subunitcolor": "white"
          },
          "hoverlabel": {
           "align": "left"
          },
          "hovermode": "closest",
          "mapbox": {
           "style": "light"
          },
          "paper_bgcolor": "white",
          "plot_bgcolor": "#E5ECF6",
          "polar": {
           "angularaxis": {
            "gridcolor": "white",
            "linecolor": "white",
            "ticks": ""
           },
           "bgcolor": "#E5ECF6",
           "radialaxis": {
            "gridcolor": "white",
            "linecolor": "white",
            "ticks": ""
           }
          },
          "scene": {
           "xaxis": {
            "backgroundcolor": "#E5ECF6",
            "gridcolor": "white",
            "gridwidth": 2,
            "linecolor": "white",
            "showbackground": true,
            "ticks": "",
            "zerolinecolor": "white"
           },
           "yaxis": {
            "backgroundcolor": "#E5ECF6",
            "gridcolor": "white",
            "gridwidth": 2,
            "linecolor": "white",
            "showbackground": true,
            "ticks": "",
            "zerolinecolor": "white"
           },
           "zaxis": {
            "backgroundcolor": "#E5ECF6",
            "gridcolor": "white",
            "gridwidth": 2,
            "linecolor": "white",
            "showbackground": true,
            "ticks": "",
            "zerolinecolor": "white"
           }
          },
          "shapedefaults": {
           "line": {
            "color": "#2a3f5f"
           }
          },
          "ternary": {
           "aaxis": {
            "gridcolor": "white",
            "linecolor": "white",
            "ticks": ""
           },
           "baxis": {
            "gridcolor": "white",
            "linecolor": "white",
            "ticks": ""
           },
           "bgcolor": "#E5ECF6",
           "caxis": {
            "gridcolor": "white",
            "linecolor": "white",
            "ticks": ""
           }
          },
          "title": {
           "x": 0.05
          },
          "xaxis": {
           "automargin": true,
           "gridcolor": "white",
           "linecolor": "white",
           "ticks": "",
           "title": {
            "standoff": 15
           },
           "zerolinecolor": "white",
           "zerolinewidth": 2
          },
          "yaxis": {
           "automargin": true,
           "gridcolor": "white",
           "linecolor": "white",
           "ticks": "",
           "title": {
            "standoff": 15
           },
           "zerolinecolor": "white",
           "zerolinewidth": 2
          }
         }
        },
        "title": {
         "font": {
          "color": "black"
         },
         "text": "What the Overall Unemployment rate is versus the Black or African American Unemployment rate"
        },
        "xaxis": {
         "anchor": "y",
         "domain": [
          0,
          1
         ],
         "gridcolor": "lightgrey",
         "gridwidth": 1,
         "linecolor": "black",
         "linewidth": 1,
         "showgrid": true,
         "showline": true,
         "title": {
          "text": "Black or African American"
         },
         "zeroline": true,
         "zerolinecolor": "lightgrey",
         "zerolinewidth": 1
        },
        "yaxis": {
         "anchor": "x",
         "domain": [
          0,
          1
         ],
         "gridcolor": "lightgrey",
         "gridwidth": 1,
         "linecolor": "black",
         "linewidth": 1,
         "showgrid": true,
         "showline": true,
         "title": {
          "text": "UNRATE"
         },
         "zeroline": true,
         "zerolinecolor": "lightgrey",
         "zerolinewidth": 1
        }
       }
      },
      "text/html": [
       "<div>                            <div id=\"85ffbe2d-78c5-4878-8d9c-4bd0a10af67e\" class=\"plotly-graph-div\" style=\"height:525px; width:100%;\"></div>            <script type=\"text/javascript\">                require([\"plotly\"], function(Plotly) {                    window.PLOTLYENV=window.PLOTLYENV || {};                                    if (document.getElementById(\"85ffbe2d-78c5-4878-8d9c-4bd0a10af67e\")) {                    Plotly.newPlot(                        \"85ffbe2d-78c5-4878-8d9c-4bd0a10af67e\",                        [{\"hovertemplate\":\"Black or African American=%{x}<br>UNRATE=%{y}<extra></extra>\",\"legendgroup\":\"\",\"marker\":{\"color\":\"black\",\"opacity\":0.8,\"symbol\":\"circle\",\"size\":3},\"mode\":\"markers\",\"name\":\"\",\"orientation\":\"v\",\"showlegend\":false,\"x\":[10.5,10.7,10.3,10.9,10.9,11.5,10.9,10.9,11.1,11.4,10.2,10.1,10.4,9.7,10.3,9.8,10.1,10.2,11.0,10.5,10.3,10.8,10.7,10.7,10.6,10.9,10.5,10.3,10.1,10.2,9.2,9.7,9.4,9.1,10.6,9.2,8.9,9.5,9.5,9.4,8.7,8.9,9.5,8.8,9.0,8.4,8.5,8.3,7.9,8.0,8.4,8.3,8.3,8.5,8.1,7.6,8.0,8.5,8.5,9.0,9.1,8.4,9.2,8.6,9.6,9.4,10.0,10.6,11.3,11.4,11.5,12.1,12.7,13.7,13.7,15.0,15.0,14.8,14.8,14.8,15.3,15.8,15.7,16.1,16.5,16.1,16.8,16.6,15.5,15.2,15.6,15.9,16.0,15.6,16.2,15.5,15.8,15.5,15.8,16.5,16.3,16.2,15.9,16.4,15.9,14.6,15.6,15.4,13.6,14.0,14.0,13.3,13.5,14.5,14.2,13.8,13.6,14.1,13.3,14.0,13.7,13.8,13.0,13.3,13.4,14.2,12.6,12.8,13.0,12.8,12.3,11.9,12.1,11.8,12.1,11.6,11.4,11.0,11.6,11.4,11.0,10.6,10.9,10.6,10.3,10.1,9.9,9.7,10.3,9.7,9.1,9.4,9.3,9.0,9.4,8.5,8.5,8.6,8.9,8.8,8.2,8.7,8.2,8.0,8.5,8.5,8.2,8.0,7.5,8.0,7.8,7.7,7.7,6.9,7.3,7.7,7.2,7.6,7.5,6.7,7.5,6.8,6.7,6.3,5.9,6.4,6.5,6.3,6.1,6.5,6.1,6.7,7.0,7.1,6.5,6.5,6.1,5.8,5.8,5.4,5.4,5.6,5.6,6.0,6.3,6.0,6.8,16.6,16.8,15.2,14.4,12.8,12.1,10.9,10.4,10.0,9.2,9.8,9.5,9.7,9.1,9.2,8.2,8.7],\"xaxis\":\"x\",\"y\":[5.8,5.9,5.9,6.0,6.1,6.3,6.2,6.1,6.1,6.0,5.8,5.7,5.7,5.6,5.8,5.6,5.6,5.6,5.5,5.4,5.4,5.5,5.4,5.4,5.3,5.4,5.2,5.2,5.1,5.0,5.0,4.9,5.0,5.0,5.0,4.9,4.7,4.8,4.7,4.7,4.6,4.6,4.7,4.7,4.5,4.4,4.5,4.4,4.6,4.5,4.4,4.5,4.4,4.6,4.7,4.6,4.7,4.7,4.7,5.0,5.0,4.9,5.1,5.0,5.4,5.6,5.8,6.1,6.1,6.5,6.8,7.3,7.8,8.3,8.7,9.0,9.4,9.5,9.5,9.6,9.8,10.0,9.9,9.9,9.8,9.8,9.9,9.9,9.6,9.4,9.4,9.5,9.5,9.4,9.8,9.3,9.1,9.0,9.0,9.1,9.0,9.1,9.0,9.0,9.0,8.8,8.6,8.5,8.3,8.3,8.2,8.2,8.2,8.2,8.2,8.1,7.8,7.8,7.7,7.9,8.0,7.7,7.5,7.6,7.5,7.5,7.3,7.2,7.2,7.2,6.9,6.7,6.6,6.7,6.7,6.2,6.3,6.1,6.2,6.1,5.9,5.7,5.8,5.6,5.7,5.5,5.4,5.4,5.6,5.3,5.2,5.1,5.0,5.0,5.1,5.0,4.8,4.9,5.0,5.1,4.8,4.9,4.8,4.9,5.0,4.9,4.7,4.7,4.7,4.6,4.4,4.4,4.4,4.3,4.3,4.4,4.3,4.2,4.2,4.1,4.0,4.1,4.0,4.0,3.8,4.0,3.8,3.8,3.7,3.8,3.8,3.9,4.0,3.8,3.8,3.6,3.6,3.6,3.7,3.7,3.5,3.6,3.6,3.6,3.5,3.5,4.4,14.7,13.2,11.0,10.2,8.4,7.9,6.9,6.7,6.7,6.4,6.2,6.0,6.0,5.8,5.9,5.4,5.2],\"yaxis\":\"y\",\"type\":\"scatter\"}],                        {\"template\":{\"data\":{\"bar\":[{\"error_x\":{\"color\":\"#2a3f5f\"},\"error_y\":{\"color\":\"#2a3f5f\"},\"marker\":{\"line\":{\"color\":\"#E5ECF6\",\"width\":0.5},\"pattern\":{\"fillmode\":\"overlay\",\"size\":10,\"solidity\":0.2}},\"type\":\"bar\"}],\"barpolar\":[{\"marker\":{\"line\":{\"color\":\"#E5ECF6\",\"width\":0.5},\"pattern\":{\"fillmode\":\"overlay\",\"size\":10,\"solidity\":0.2}},\"type\":\"barpolar\"}],\"carpet\":[{\"aaxis\":{\"endlinecolor\":\"#2a3f5f\",\"gridcolor\":\"white\",\"linecolor\":\"white\",\"minorgridcolor\":\"white\",\"startlinecolor\":\"#2a3f5f\"},\"baxis\":{\"endlinecolor\":\"#2a3f5f\",\"gridcolor\":\"white\",\"linecolor\":\"white\",\"minorgridcolor\":\"white\",\"startlinecolor\":\"#2a3f5f\"},\"type\":\"carpet\"}],\"choropleth\":[{\"colorbar\":{\"outlinewidth\":0,\"ticks\":\"\"},\"type\":\"choropleth\"}],\"contour\":[{\"colorbar\":{\"outlinewidth\":0,\"ticks\":\"\"},\"colorscale\":[[0.0,\"#0d0887\"],[0.1111111111111111,\"#46039f\"],[0.2222222222222222,\"#7201a8\"],[0.3333333333333333,\"#9c179e\"],[0.4444444444444444,\"#bd3786\"],[0.5555555555555556,\"#d8576b\"],[0.6666666666666666,\"#ed7953\"],[0.7777777777777778,\"#fb9f3a\"],[0.8888888888888888,\"#fdca26\"],[1.0,\"#f0f921\"]],\"type\":\"contour\"}],\"contourcarpet\":[{\"colorbar\":{\"outlinewidth\":0,\"ticks\":\"\"},\"type\":\"contourcarpet\"}],\"heatmap\":[{\"colorbar\":{\"outlinewidth\":0,\"ticks\":\"\"},\"colorscale\":[[0.0,\"#0d0887\"],[0.1111111111111111,\"#46039f\"],[0.2222222222222222,\"#7201a8\"],[0.3333333333333333,\"#9c179e\"],[0.4444444444444444,\"#bd3786\"],[0.5555555555555556,\"#d8576b\"],[0.6666666666666666,\"#ed7953\"],[0.7777777777777778,\"#fb9f3a\"],[0.8888888888888888,\"#fdca26\"],[1.0,\"#f0f921\"]],\"type\":\"heatmap\"}],\"heatmapgl\":[{\"colorbar\":{\"outlinewidth\":0,\"ticks\":\"\"},\"colorscale\":[[0.0,\"#0d0887\"],[0.1111111111111111,\"#46039f\"],[0.2222222222222222,\"#7201a8\"],[0.3333333333333333,\"#9c179e\"],[0.4444444444444444,\"#bd3786\"],[0.5555555555555556,\"#d8576b\"],[0.6666666666666666,\"#ed7953\"],[0.7777777777777778,\"#fb9f3a\"],[0.8888888888888888,\"#fdca26\"],[1.0,\"#f0f921\"]],\"type\":\"heatmapgl\"}],\"histogram\":[{\"marker\":{\"pattern\":{\"fillmode\":\"overlay\",\"size\":10,\"solidity\":0.2}},\"type\":\"histogram\"}],\"histogram2d\":[{\"colorbar\":{\"outlinewidth\":0,\"ticks\":\"\"},\"colorscale\":[[0.0,\"#0d0887\"],[0.1111111111111111,\"#46039f\"],[0.2222222222222222,\"#7201a8\"],[0.3333333333333333,\"#9c179e\"],[0.4444444444444444,\"#bd3786\"],[0.5555555555555556,\"#d8576b\"],[0.6666666666666666,\"#ed7953\"],[0.7777777777777778,\"#fb9f3a\"],[0.8888888888888888,\"#fdca26\"],[1.0,\"#f0f921\"]],\"type\":\"histogram2d\"}],\"histogram2dcontour\":[{\"colorbar\":{\"outlinewidth\":0,\"ticks\":\"\"},\"colorscale\":[[0.0,\"#0d0887\"],[0.1111111111111111,\"#46039f\"],[0.2222222222222222,\"#7201a8\"],[0.3333333333333333,\"#9c179e\"],[0.4444444444444444,\"#bd3786\"],[0.5555555555555556,\"#d8576b\"],[0.6666666666666666,\"#ed7953\"],[0.7777777777777778,\"#fb9f3a\"],[0.8888888888888888,\"#fdca26\"],[1.0,\"#f0f921\"]],\"type\":\"histogram2dcontour\"}],\"mesh3d\":[{\"colorbar\":{\"outlinewidth\":0,\"ticks\":\"\"},\"type\":\"mesh3d\"}],\"parcoords\":[{\"line\":{\"colorbar\":{\"outlinewidth\":0,\"ticks\":\"\"}},\"type\":\"parcoords\"}],\"pie\":[{\"automargin\":true,\"type\":\"pie\"}],\"scatter\":[{\"marker\":{\"colorbar\":{\"outlinewidth\":0,\"ticks\":\"\"}},\"type\":\"scatter\"}],\"scatter3d\":[{\"line\":{\"colorbar\":{\"outlinewidth\":0,\"ticks\":\"\"}},\"marker\":{\"colorbar\":{\"outlinewidth\":0,\"ticks\":\"\"}},\"type\":\"scatter3d\"}],\"scattercarpet\":[{\"marker\":{\"colorbar\":{\"outlinewidth\":0,\"ticks\":\"\"}},\"type\":\"scattercarpet\"}],\"scattergeo\":[{\"marker\":{\"colorbar\":{\"outlinewidth\":0,\"ticks\":\"\"}},\"type\":\"scattergeo\"}],\"scattergl\":[{\"marker\":{\"colorbar\":{\"outlinewidth\":0,\"ticks\":\"\"}},\"type\":\"scattergl\"}],\"scattermapbox\":[{\"marker\":{\"colorbar\":{\"outlinewidth\":0,\"ticks\":\"\"}},\"type\":\"scattermapbox\"}],\"scatterpolar\":[{\"marker\":{\"colorbar\":{\"outlinewidth\":0,\"ticks\":\"\"}},\"type\":\"scatterpolar\"}],\"scatterpolargl\":[{\"marker\":{\"colorbar\":{\"outlinewidth\":0,\"ticks\":\"\"}},\"type\":\"scatterpolargl\"}],\"scatterternary\":[{\"marker\":{\"colorbar\":{\"outlinewidth\":0,\"ticks\":\"\"}},\"type\":\"scatterternary\"}],\"surface\":[{\"colorbar\":{\"outlinewidth\":0,\"ticks\":\"\"},\"colorscale\":[[0.0,\"#0d0887\"],[0.1111111111111111,\"#46039f\"],[0.2222222222222222,\"#7201a8\"],[0.3333333333333333,\"#9c179e\"],[0.4444444444444444,\"#bd3786\"],[0.5555555555555556,\"#d8576b\"],[0.6666666666666666,\"#ed7953\"],[0.7777777777777778,\"#fb9f3a\"],[0.8888888888888888,\"#fdca26\"],[1.0,\"#f0f921\"]],\"type\":\"surface\"}],\"table\":[{\"cells\":{\"fill\":{\"color\":\"#EBF0F8\"},\"line\":{\"color\":\"white\"}},\"header\":{\"fill\":{\"color\":\"#C8D4E3\"},\"line\":{\"color\":\"white\"}},\"type\":\"table\"}]},\"layout\":{\"annotationdefaults\":{\"arrowcolor\":\"#2a3f5f\",\"arrowhead\":0,\"arrowwidth\":1},\"autotypenumbers\":\"strict\",\"coloraxis\":{\"colorbar\":{\"outlinewidth\":0,\"ticks\":\"\"}},\"colorscale\":{\"diverging\":[[0,\"#8e0152\"],[0.1,\"#c51b7d\"],[0.2,\"#de77ae\"],[0.3,\"#f1b6da\"],[0.4,\"#fde0ef\"],[0.5,\"#f7f7f7\"],[0.6,\"#e6f5d0\"],[0.7,\"#b8e186\"],[0.8,\"#7fbc41\"],[0.9,\"#4d9221\"],[1,\"#276419\"]],\"sequential\":[[0.0,\"#0d0887\"],[0.1111111111111111,\"#46039f\"],[0.2222222222222222,\"#7201a8\"],[0.3333333333333333,\"#9c179e\"],[0.4444444444444444,\"#bd3786\"],[0.5555555555555556,\"#d8576b\"],[0.6666666666666666,\"#ed7953\"],[0.7777777777777778,\"#fb9f3a\"],[0.8888888888888888,\"#fdca26\"],[1.0,\"#f0f921\"]],\"sequentialminus\":[[0.0,\"#0d0887\"],[0.1111111111111111,\"#46039f\"],[0.2222222222222222,\"#7201a8\"],[0.3333333333333333,\"#9c179e\"],[0.4444444444444444,\"#bd3786\"],[0.5555555555555556,\"#d8576b\"],[0.6666666666666666,\"#ed7953\"],[0.7777777777777778,\"#fb9f3a\"],[0.8888888888888888,\"#fdca26\"],[1.0,\"#f0f921\"]]},\"colorway\":[\"#636efa\",\"#EF553B\",\"#00cc96\",\"#ab63fa\",\"#FFA15A\",\"#19d3f3\",\"#FF6692\",\"#B6E880\",\"#FF97FF\",\"#FECB52\"],\"font\":{\"color\":\"#2a3f5f\"},\"geo\":{\"bgcolor\":\"white\",\"lakecolor\":\"white\",\"landcolor\":\"#E5ECF6\",\"showlakes\":true,\"showland\":true,\"subunitcolor\":\"white\"},\"hoverlabel\":{\"align\":\"left\"},\"hovermode\":\"closest\",\"mapbox\":{\"style\":\"light\"},\"paper_bgcolor\":\"white\",\"plot_bgcolor\":\"#E5ECF6\",\"polar\":{\"angularaxis\":{\"gridcolor\":\"white\",\"linecolor\":\"white\",\"ticks\":\"\"},\"bgcolor\":\"#E5ECF6\",\"radialaxis\":{\"gridcolor\":\"white\",\"linecolor\":\"white\",\"ticks\":\"\"}},\"scene\":{\"xaxis\":{\"backgroundcolor\":\"#E5ECF6\",\"gridcolor\":\"white\",\"gridwidth\":2,\"linecolor\":\"white\",\"showbackground\":true,\"ticks\":\"\",\"zerolinecolor\":\"white\"},\"yaxis\":{\"backgroundcolor\":\"#E5ECF6\",\"gridcolor\":\"white\",\"gridwidth\":2,\"linecolor\":\"white\",\"showbackground\":true,\"ticks\":\"\",\"zerolinecolor\":\"white\"},\"zaxis\":{\"backgroundcolor\":\"#E5ECF6\",\"gridcolor\":\"white\",\"gridwidth\":2,\"linecolor\":\"white\",\"showbackground\":true,\"ticks\":\"\",\"zerolinecolor\":\"white\"}},\"shapedefaults\":{\"line\":{\"color\":\"#2a3f5f\"}},\"ternary\":{\"aaxis\":{\"gridcolor\":\"white\",\"linecolor\":\"white\",\"ticks\":\"\"},\"baxis\":{\"gridcolor\":\"white\",\"linecolor\":\"white\",\"ticks\":\"\"},\"bgcolor\":\"#E5ECF6\",\"caxis\":{\"gridcolor\":\"white\",\"linecolor\":\"white\",\"ticks\":\"\"}},\"title\":{\"x\":0.05},\"xaxis\":{\"automargin\":true,\"gridcolor\":\"white\",\"linecolor\":\"white\",\"ticks\":\"\",\"title\":{\"standoff\":15},\"zerolinecolor\":\"white\",\"zerolinewidth\":2},\"yaxis\":{\"automargin\":true,\"gridcolor\":\"white\",\"linecolor\":\"white\",\"ticks\":\"\",\"title\":{\"standoff\":15},\"zerolinecolor\":\"white\",\"zerolinewidth\":2}}},\"xaxis\":{\"anchor\":\"y\",\"domain\":[0.0,1.0],\"title\":{\"text\":\"Black or African American\"},\"showgrid\":true,\"gridwidth\":1,\"gridcolor\":\"lightgrey\",\"zeroline\":true,\"zerolinewidth\":1,\"zerolinecolor\":\"lightgrey\",\"showline\":true,\"linewidth\":1,\"linecolor\":\"black\"},\"yaxis\":{\"anchor\":\"x\",\"domain\":[0.0,1.0],\"title\":{\"text\":\"UNRATE\"},\"showgrid\":true,\"gridwidth\":1,\"gridcolor\":\"lightgrey\",\"zeroline\":true,\"zerolinewidth\":1,\"zerolinecolor\":\"lightgrey\",\"showline\":true,\"linewidth\":1,\"linecolor\":\"black\"},\"legend\":{\"tracegroupgap\":0},\"margin\":{\"t\":60},\"plot_bgcolor\":\"white\",\"title\":{\"font\":{\"color\":\"black\"},\"text\":\"What the Overall Unemployment rate is versus the Black or African American Unemployment rate\"}},                        {\"responsive\": true}                    ).then(function(){\n",
       "                            \n",
       "var gd = document.getElementById('85ffbe2d-78c5-4878-8d9c-4bd0a10af67e');\n",
       "var x = new MutationObserver(function (mutations, observer) {{\n",
       "        var display = window.getComputedStyle(gd).display;\n",
       "        if (!display || display === 'none') {{\n",
       "            console.log([gd, 'removed!']);\n",
       "            Plotly.purge(gd);\n",
       "            observer.disconnect();\n",
       "        }}\n",
       "}});\n",
       "\n",
       "// Listen for the removal of the full notebook cells\n",
       "var notebookContainer = gd.closest('#notebook-container');\n",
       "if (notebookContainer) {{\n",
       "    x.observe(notebookContainer, {childList: true});\n",
       "}}\n",
       "\n",
       "// Listen for the clearing of the current output cell\n",
       "var outputEl = gd.closest('.output');\n",
       "if (outputEl) {{\n",
       "    x.observe(outputEl, {childList: true});\n",
       "}}\n",
       "\n",
       "                        })                };                });            </script>        </div>"
      ]
     },
     "metadata": {},
     "output_type": "display_data"
    }
   ],
   "source": [
    "# Change chart background color\n",
    "fig.update_layout(dict(plot_bgcolor = 'white'))\n",
    "\n",
    "# Update axes lines\n",
    "fig.update_xaxes(showgrid=True, gridwidth=1, gridcolor='lightgrey', \n",
    "zeroline=True, zerolinewidth=1, zerolinecolor='lightgrey', \n",
    "showline=True, linewidth=1, linecolor='black')\n",
    "\n",
    "fig.update_yaxes(showgrid=True, gridwidth=1, gridcolor='lightgrey', \n",
    "zeroline=True, zerolinewidth=1, zerolinecolor='lightgrey', \n",
    "showline=True, linewidth=1, linecolor='black')\n",
    "\n",
    "# Set figure title\n",
    "fig.update_layout(title=dict(text=\"What the Overall Unemployment rate is versus the Black or African American Unemployment rate\", \n",
    "font=dict(color='black')))\n",
    "\n",
    "# Update marker size\n",
    "fig.update_traces(marker=dict(size=3))\n",
    "\n",
    "fig.show()"
   ]
  },
  {
   "cell_type": "code",
   "execution_count": null,
   "id": "a28a6d53",
   "metadata": {},
   "outputs": [],
   "source": []
  },
  {
   "cell_type": "code",
   "execution_count": null,
   "id": "103b6a87",
   "metadata": {},
   "outputs": [],
   "source": []
  },
  {
   "cell_type": "code",
   "execution_count": null,
   "id": "78a0d58e",
   "metadata": {},
   "outputs": [],
   "source": []
  }
 ],
 "metadata": {
  "kernelspec": {
   "display_name": "mlenv",
   "language": "python",
   "name": "mlenv"
  },
  "language_info": {
   "codemirror_mode": {
    "name": "ipython",
    "version": 3
   },
   "file_extension": ".py",
   "mimetype": "text/x-python",
   "name": "python",
   "nbconvert_exporter": "python",
   "pygments_lexer": "ipython3",
   "version": "3.7.10"
  }
 },
 "nbformat": 4,
 "nbformat_minor": 5
}
