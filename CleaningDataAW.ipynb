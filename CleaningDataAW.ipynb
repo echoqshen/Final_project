{
 "cells": [
  {
   "cell_type": "code",
   "execution_count": 1,
   "id": "061b00a1",
   "metadata": {},
   "outputs": [],
   "source": [
    "import pandas as pd"
   ]
  },
  {
   "cell_type": "code",
   "execution_count": 2,
   "id": "820fa2f9",
   "metadata": {},
   "outputs": [],
   "source": [
    "asian_df = pd.read_csv('Resources/asian.csv')\n",
    "black_df = pd.read_csv('Resources/black.csv')\n",
    "white_df = pd.read_csv('Resources/white.csv')\n",
    "latino_df = pd.read_csv('Resources/latino.csv')"
   ]
  },
  {
   "cell_type": "code",
   "execution_count": 3,

   "id": "467f7419",

   "metadata": {},
   "outputs": [
    {
     "data": {
      "text/html": [
       "<div>\n",
       "<style scoped>\n",
       "    .dataframe tbody tr th:only-of-type {\n",
       "        vertical-align: middle;\n",
       "    }\n",
       "\n",
       "    .dataframe tbody tr th {\n",
       "        vertical-align: top;\n",
       "    }\n",
       "\n",
       "    .dataframe thead th {\n",
       "        text-align: right;\n",
       "    }\n",
       "</style>\n",
       "<table border=\"1\" class=\"dataframe\">\n",
       "  <thead>\n",
       "    <tr style=\"text-align: right;\">\n",
       "      <th></th>\n",
       "      <th>DATE</th>\n",

       "      <th>Rate_Asian</th>\n",
       "      <th>Rate_Black</th>\n",

       "    </tr>\n",
       "  </thead>\n",
       "  <tbody>\n",
       "    <tr>\n",
       "      <th>0</th>\n",
       "      <td>1/1/2000</td>\n",
       "      <td>4.0</td>\n",
       "      <td>8.2</td>\n",
       "    </tr>\n",
       "    <tr>\n",
       "      <th>1</th>\n",
       "      <td>2/1/2000</td>\n",
       "      <td>3.4</td>\n",
       "      <td>8.1</td>\n",
       "    </tr>\n",
       "    <tr>\n",
       "      <th>2</th>\n",
       "      <td>3/1/2000</td>\n",
       "      <td>4.1</td>\n",
       "      <td>7.4</td>\n",
       "    </tr>\n",
       "    <tr>\n",
       "      <th>3</th>\n",
       "      <td>4/1/2000</td>\n",
       "      <td>3.1</td>\n",

       "      <td>7</td>\n",

       "    </tr>\n",
       "    <tr>\n",
       "      <th>4</th>\n",
       "      <td>5/1/2000</td>\n",
       "      <td>3.5</td>\n",
       "      <td>7.7</td>\n",
       "    </tr>\n",
       "  </tbody>\n",
       "</table>\n",
       "</div>"
      ],
      "text/plain": [

       "       DATE  Rate_Asian Rate_Black\n",
       "0  1/1/2000         4.0        8.2\n",
       "1  2/1/2000         3.4        8.1\n",
       "2  3/1/2000         4.1        7.4\n",
       "3  4/1/2000         3.1          7\n",
       "4  5/1/2000         3.5        7.7"

      ]
     },
     "execution_count": 3,
     "metadata": {},
     "output_type": "execute_result"
    }
   ],
   "source": [
    "ab_df = pd.merge(asian_df, black_df, on='DATE', how='right')\n",
    "ab_df.head()"
   ]
  },
  {
   "cell_type": "code",
   "execution_count": 4,

   "id": "26267070",

   "metadata": {},
   "outputs": [
    {
     "data": {
      "text/html": [
       "<div>\n",
       "<style scoped>\n",
       "    .dataframe tbody tr th:only-of-type {\n",
       "        vertical-align: middle;\n",
       "    }\n",
       "\n",
       "    .dataframe tbody tr th {\n",
       "        vertical-align: top;\n",
       "    }\n",
       "\n",
       "    .dataframe thead th {\n",
       "        text-align: right;\n",
       "    }\n",
       "</style>\n",
       "<table border=\"1\" class=\"dataframe\">\n",
       "  <thead>\n",
       "    <tr style=\"text-align: right;\">\n",
       "      <th></th>\n",
       "      <th>DATE</th>\n",

       "      <th>Rate_Asian</th>\n",
       "      <th>Rate_Black</th>\n",
       "      <th>Rate_White</th>\n",

       "    </tr>\n",
       "  </thead>\n",
       "  <tbody>\n",
       "    <tr>\n",
       "      <th>0</th>\n",
       "      <td>1/1/2000</td>\n",
       "      <td>4.0</td>\n",
       "      <td>8.2</td>\n",
       "      <td>3.4</td>\n",
       "    </tr>\n",
       "    <tr>\n",
       "      <th>1</th>\n",

       "      <td>1/1/2000</td>\n",
       "      <td>4.0</td>\n",
       "      <td>8.2</td>\n",
       "      <td>3.4</td>\n",
       "    </tr>\n",
       "    <tr>\n",
       "      <th>2</th>\n",
       "      <td>2/1/2000</td>\n",
       "      <td>3.4</td>\n",
       "      <td>8.1</td>\n",
       "      <td>3.6</td>\n",
       "    </tr>\n",
       "    <tr>\n",
       "      <th>3</th>\n",
       "      <td>2/1/2000</td>\n",
       "      <td>3.4</td>\n",
       "      <td>8.1</td>\n",
       "      <td>3.6</td>\n",
       "    </tr>\n",
       "    <tr>\n",
       "      <th>4</th>\n",
       "      <td>3/1/2000</td>\n",
       "      <td>4.1</td>\n",
       "      <td>7.4</td>\n",

       "      <td>3.5</td>\n",
       "    </tr>\n",
       "  </tbody>\n",
       "</table>\n",
       "</div>"
      ],
      "text/plain": [

       "       DATE  Rate_Asian Rate_Black Rate_White\n",
       "0  1/1/2000         4.0        8.2        3.4\n",
       "1  1/1/2000         4.0        8.2        3.4\n",
       "2  2/1/2000         3.4        8.1        3.6\n",
       "3  2/1/2000         3.4        8.1        3.6\n",
       "4  3/1/2000         4.1        7.4        3.5"

      ]
     },
     "execution_count": 4,
     "metadata": {},
     "output_type": "execute_result"
    }
   ],
   "source": [
    "abw_df = pd.merge(ab_df, white_df, on='DATE', how='right')\n",
    "abw_df.head()"
   ]
  },
  {
   "cell_type": "code",
   "execution_count": 5,

   "id": "42ba5234",

   "metadata": {},
   "outputs": [
    {
     "data": {
      "text/html": [
       "<div>\n",
       "<style scoped>\n",
       "    .dataframe tbody tr th:only-of-type {\n",
       "        vertical-align: middle;\n",
       "    }\n",
       "\n",
       "    .dataframe tbody tr th {\n",
       "        vertical-align: top;\n",
       "    }\n",
       "\n",
       "    .dataframe thead th {\n",
       "        text-align: right;\n",
       "    }\n",
       "</style>\n",
       "<table border=\"1\" class=\"dataframe\">\n",
       "  <thead>\n",
       "    <tr style=\"text-align: right;\">\n",
       "      <th></th>\n",
       "      <th>DATE</th>\n",

       "      <th>Rate_Asian</th>\n",
       "      <th>Rate_Black</th>\n",
       "      <th>Rate_White</th>\n",
       "      <th>Rate_Latino</th>\n",

       "    </tr>\n",
       "  </thead>\n",
       "  <tbody>\n",
       "    <tr>\n",
       "      <th>0</th>\n",
       "      <td>1/1/2000</td>\n",
       "      <td>4.0</td>\n",
       "      <td>8.2</td>\n",
       "      <td>3.4</td>\n",
       "      <td>5.6</td>\n",
       "    </tr>\n",
       "    <tr>\n",
       "      <th>1</th>\n",

       "      <td>1/1/2000</td>\n",
       "      <td>4.0</td>\n",
       "      <td>8.2</td>\n",
       "      <td>3.4</td>\n",
       "      <td>5.6</td>\n",
       "    </tr>\n",
       "    <tr>\n",
       "      <th>2</th>\n",
       "      <td>1/1/2000</td>\n",
       "      <td>4.0</td>\n",
       "      <td>8.2</td>\n",
       "      <td>3.4</td>\n",
       "      <td>5.6</td>\n",
       "    </tr>\n",
       "    <tr>\n",
       "      <th>3</th>\n",
       "      <td>1/1/2000</td>\n",
       "      <td>4.0</td>\n",
       "      <td>8.2</td>\n",
       "      <td>3.4</td>\n",
       "      <td>5.6</td>\n",
       "    </tr>\n",
       "    <tr>\n",
       "      <th>4</th>\n",
       "      <td>2/1/2000</td>\n",
       "      <td>3.4</td>\n",
       "      <td>8.1</td>\n",
       "      <td>3.6</td>\n",
       "      <td>5.7</td>\n",

       "    </tr>\n",
       "  </tbody>\n",
       "</table>\n",
       "</div>"
      ],
      "text/plain": [

       "       DATE  Rate_Asian Rate_Black Rate_White  Rate_Latino\n",
       "0  1/1/2000         4.0        8.2        3.4          5.6\n",
       "1  1/1/2000         4.0        8.2        3.4          5.6\n",
       "2  1/1/2000         4.0        8.2        3.4          5.6\n",
       "3  1/1/2000         4.0        8.2        3.4          5.6\n",
       "4  2/1/2000         3.4        8.1        3.6          5.7"

      ]
     },
     "execution_count": 5,
     "metadata": {},
     "output_type": "execute_result"
    }
   ],
   "source": [
    "race_df = pd.merge(abw_df, latino_df, on='DATE', how='right')\n",
    "race_df.head()"
   ]
  },
  {
   "cell_type": "code",
   "execution_count": 6,

   "id": "c1ec24ca",

   "metadata": {},
   "outputs": [],
   "source": [
    "men_df = pd.read_csv('Resources/men_rate.csv')\n",
    "women_df = pd.read_csv('Resources/women_rate.csv')"
   ]
  },
  {
   "cell_type": "code",
   "execution_count": 7,

   "id": "d411106a",

   "metadata": {},
   "outputs": [
    {
     "data": {
      "text/html": [
       "<div>\n",
       "<style scoped>\n",
       "    .dataframe tbody tr th:only-of-type {\n",
       "        vertical-align: middle;\n",
       "    }\n",
       "\n",
       "    .dataframe tbody tr th {\n",
       "        vertical-align: top;\n",
       "    }\n",
       "\n",
       "    .dataframe thead th {\n",
       "        text-align: right;\n",
       "    }\n",
       "</style>\n",
       "<table border=\"1\" class=\"dataframe\">\n",
       "  <thead>\n",
       "    <tr style=\"text-align: right;\">\n",
       "      <th></th>\n",
       "      <th>DATE</th>\n",

       "      <th>Rate_Men</th>\n",
       "      <th>Rate_Women</th>\n",

       "    </tr>\n",
       "  </thead>\n",
       "  <tbody>\n",
       "    <tr>\n",
       "      <th>0</th>\n",
       "      <td>1/1/2000</td>\n",
       "      <td>3.9</td>\n",
       "      <td>4.1</td>\n",
       "    </tr>\n",
       "    <tr>\n",
       "      <th>1</th>\n",

       "      <td>1/1/2000</td>\n",
       "      <td>3.9</td>\n",

       "      <td>4.1</td>\n",
       "    </tr>\n",
       "    <tr>\n",
       "      <th>2</th>\n",

       "      <td>2/1/2000</td>\n",
       "      <td>4.1</td>\n",
       "      <td>4.1</td>\n",
       "    </tr>\n",
       "    <tr>\n",
       "      <th>3</th>\n",
       "      <td>2/1/2000</td>\n",
       "      <td>4.1</td>\n",
       "      <td>4.1</td>\n",
       "    </tr>\n",
       "    <tr>\n",
       "      <th>4</th>\n",
       "      <td>3/1/2000</td>\n",
       "      <td>3.8</td>\n",
       "      <td>4.3</td>\n",

       "    </tr>\n",
       "  </tbody>\n",
       "</table>\n",
       "</div>"
      ],
      "text/plain": [

       "       DATE Rate_Men Rate_Women\n",
       "0  1/1/2000      3.9        4.1\n",
       "1  1/1/2000      3.9        4.1\n",
       "2  2/1/2000      4.1        4.1\n",
       "3  2/1/2000      4.1        4.1\n",
       "4  3/1/2000      3.8        4.3"

      ]
     },
     "execution_count": 7,
     "metadata": {},
     "output_type": "execute_result"
    }
   ],
   "source": [
    "gender_df = pd.merge(men_df, women_df, on='DATE', how='right')\n",
    "gender_df.head()"
   ]
  },
  {
   "cell_type": "code",
   "execution_count": 8,

   "id": "b1b74d16",

   "metadata": {},
   "outputs": [],
   "source": [
    "high_df = pd.read_csv('Resources/highschool.csv')\n",
    "bachelors_df = pd.read_csv('Resources/bachelors.csv')\n",
    "masters_df = pd.read_csv('Resources/masters.csv')\n",
    "doctoral_df = pd.read_csv('Resources/doctorals.csv')"
   ]
  },
  {
   "cell_type": "code",
   "execution_count": 9,

   "id": "6c85275f",

   "metadata": {},
   "outputs": [
    {
     "data": {
      "text/html": [
       "<div>\n",
       "<style scoped>\n",
       "    .dataframe tbody tr th:only-of-type {\n",
       "        vertical-align: middle;\n",
       "    }\n",
       "\n",
       "    .dataframe tbody tr th {\n",
       "        vertical-align: top;\n",
       "    }\n",
       "\n",
       "    .dataframe thead th {\n",
       "        text-align: right;\n",
       "    }\n",
       "</style>\n",
       "<table border=\"1\" class=\"dataframe\">\n",
       "  <thead>\n",
       "    <tr style=\"text-align: right;\">\n",
       "      <th></th>\n",
       "      <th>DATE</th>\n",

       "      <th>Rate _High_School</th>\n",
       "      <th>Rate_Bachelors</th>\n",

       "    </tr>\n",
       "  </thead>\n",
       "  <tbody>\n",
       "    <tr>\n",
       "      <th>0</th>\n",
       "      <td>1/1/2000</td>\n",
       "      <td>3.4</td>\n",
       "      <td>1.8</td>\n",
       "    </tr>\n",
       "    <tr>\n",
       "      <th>1</th>\n",

       "      <td>1/1/2000</td>\n",
       "      <td>3.4</td>\n",
       "      <td>1.8</td>\n",
       "    </tr>\n",
       "    <tr>\n",
       "      <th>2</th>\n",
       "      <td>2/1/2000</td>\n",
       "      <td>3.4</td>\n",
       "      <td>1.6</td>\n",
       "    </tr>\n",
       "    <tr>\n",
       "      <th>3</th>\n",
       "      <td>2/1/2000</td>\n",
       "      <td>3.4</td>\n",
       "      <td>1.6</td>\n",
       "    </tr>\n",
       "    <tr>\n",
       "      <th>4</th>\n",
       "      <td>3/1/2000</td>\n",
       "      <td>3.3</td>\n",
       "      <td>1.7</td>\n",

       "    </tr>\n",
       "  </tbody>\n",
       "</table>\n",
       "</div>"
      ],
      "text/plain": [

       "       DATE Rate _High_School Rate_Bachelors\n",
       "0  1/1/2000               3.4            1.8\n",
       "1  1/1/2000               3.4            1.8\n",
       "2  2/1/2000               3.4            1.6\n",
       "3  2/1/2000               3.4            1.6\n",
       "4  3/1/2000               3.3            1.7"

      ]
     },
     "execution_count": 9,
     "metadata": {},
     "output_type": "execute_result"
    }
   ],
   "source": [
    "hb_df = pd.merge(high_df, bachelors_df, on='DATE', how='right')\n",
    "hb_df.head()"
   ]
  },
  {
   "cell_type": "code",

   "execution_count": 10,
   "id": "93548b3a",

   "metadata": {},
   "outputs": [
    {
     "data": {
      "text/html": [
       "<div>\n",
       "<style scoped>\n",
       "    .dataframe tbody tr th:only-of-type {\n",
       "        vertical-align: middle;\n",
       "    }\n",
       "\n",
       "    .dataframe tbody tr th {\n",
       "        vertical-align: top;\n",
       "    }\n",
       "\n",
       "    .dataframe thead th {\n",
       "        text-align: right;\n",
       "    }\n",
       "</style>\n",
       "<table border=\"1\" class=\"dataframe\">\n",
       "  <thead>\n",
       "    <tr style=\"text-align: right;\">\n",
       "      <th></th>\n",
       "      <th>DATE</th>\n",

       "      <th>Rate _High_School</th>\n",
       "      <th>Rate_Bachelors</th>\n",
       "      <th>Rate_Masters</th>\n",

       "    </tr>\n",
       "  </thead>\n",
       "  <tbody>\n",
       "    <tr>\n",
       "      <th>0</th>\n",
       "      <td>1/1/2000</td>\n",
       "      <td>3.4</td>\n",
       "      <td>1.8</td>\n",
       "      <td>1.6</td>\n",
       "    </tr>\n",
       "    <tr>\n",
       "      <th>1</th>\n",

       "      <td>1/1/2000</td>\n",
       "      <td>3.4</td>\n",
       "      <td>1.8</td>\n",

       "      <td>1.6</td>\n",
       "    </tr>\n",
       "    <tr>\n",
       "      <th>2</th>\n",

       "      <td>1/1/2000</td>\n",
       "      <td>3.4</td>\n",
       "      <td>1.8</td>\n",
       "      <td>1.6</td>\n",
       "    </tr>\n",
       "    <tr>\n",
       "      <th>3</th>\n",
       "      <td>1/1/2000</td>\n",
       "      <td>3.4</td>\n",
       "      <td>1.8</td>\n",
       "      <td>1.6</td>\n",
       "    </tr>\n",
       "    <tr>\n",
       "      <th>4</th>\n",
       "      <td>2/1/2000</td>\n",
       "      <td>3.4</td>\n",
       "      <td>1.6</td>\n",
       "      <td>1.6</td>\n",

       "    </tr>\n",
       "  </tbody>\n",
       "</table>\n",
       "</div>"
      ],
      "text/plain": [

       "       DATE Rate _High_School Rate_Bachelors Rate_Masters\n",
       "0  1/1/2000               3.4            1.8          1.6\n",
       "1  1/1/2000               3.4            1.8          1.6\n",
       "2  1/1/2000               3.4            1.8          1.6\n",
       "3  1/1/2000               3.4            1.8          1.6\n",
       "4  2/1/2000               3.4            1.6          1.6"
      ]
     },
     "execution_count": 10,

     "metadata": {},
     "output_type": "execute_result"
    }
   ],
   "source": [
    "hbm_df = pd.merge(hb_df, masters_df, on='DATE', how='right')\n",
    "hbm_df.head()"
   ]
  },
  {
   "cell_type": "code",

   "execution_count": 11,
   "id": "9b95227d",

   "metadata": {},
   "outputs": [
    {
     "data": {
      "text/html": [
       "<div>\n",
       "<style scoped>\n",
       "    .dataframe tbody tr th:only-of-type {\n",
       "        vertical-align: middle;\n",
       "    }\n",
       "\n",
       "    .dataframe tbody tr th {\n",
       "        vertical-align: top;\n",
       "    }\n",
       "\n",
       "    .dataframe thead th {\n",
       "        text-align: right;\n",
       "    }\n",
       "</style>\n",
       "<table border=\"1\" class=\"dataframe\">\n",
       "  <thead>\n",
       "    <tr style=\"text-align: right;\">\n",
       "      <th></th>\n",
       "      <th>DATE</th>\n",

       "      <th>Rate _High_School</th>\n",
       "      <th>Rate_Bachelors</th>\n",
       "      <th>Rate_Masters</th>\n",
       "      <th>Rate_Doctoral</th>\n",

       "    </tr>\n",
       "  </thead>\n",
       "  <tbody>\n",
       "    <tr>\n",
       "      <th>0</th>\n",
       "      <td>1/1/2000</td>\n",
       "      <td>3.4</td>\n",
       "      <td>1.8</td>\n",
       "      <td>1.6</td>\n",
       "      <td>1.4</td>\n",
       "    </tr>\n",
       "    <tr>\n",
       "      <th>1</th>\n",

       "      <td>1/1/2000</td>\n",
       "      <td>3.4</td>\n",
       "      <td>1.8</td>\n",

       "      <td>1.6</td>\n",
       "      <td>1.4</td>\n",
       "    </tr>\n",
       "    <tr>\n",
       "      <th>2</th>\n",

       "      <td>1/1/2000</td>\n",
       "      <td>3.4</td>\n",
       "      <td>1.8</td>\n",
       "      <td>1.6</td>\n",
       "      <td>1.4</td>\n",
       "    </tr>\n",
       "    <tr>\n",
       "      <th>3</th>\n",
       "      <td>1/1/2000</td>\n",
       "      <td>3.4</td>\n",
       "      <td>1.8</td>\n",
       "      <td>1.6</td>\n",
       "      <td>1.4</td>\n",
       "    </tr>\n",
       "    <tr>\n",
       "      <th>4</th>\n",
       "      <td>1/1/2000</td>\n",
       "      <td>3.4</td>\n",
       "      <td>1.8</td>\n",
       "      <td>1.6</td>\n",
       "      <td>1.4</td>\n",

       "    </tr>\n",
       "  </tbody>\n",
       "</table>\n",
       "</div>"
      ],
      "text/plain": [

       "       DATE Rate _High_School Rate_Bachelors Rate_Masters Rate_Doctoral\n",
       "0  1/1/2000               3.4            1.8          1.6           1.4\n",
       "1  1/1/2000               3.4            1.8          1.6           1.4\n",
       "2  1/1/2000               3.4            1.8          1.6           1.4\n",
       "3  1/1/2000               3.4            1.8          1.6           1.4\n",
       "4  1/1/2000               3.4            1.8          1.6           1.4"
      ]
     },
     "execution_count": 11,

     "metadata": {},
     "output_type": "execute_result"
    }
   ],
   "source": [
    "education_df = pd.merge(hbm_df, doctoral_df, on='DATE', how='right')\n",
    "education_df.head()"
   ]
  },
  {
   "cell_type": "code",

   "execution_count": 12,
   "id": "b3eded29",
   "metadata": {},
   "outputs": [],
   "source": [
    "race_df.to_csv('Resources/race.csv')"

   ]
  },
  {
   "cell_type": "code",

   "execution_count": 13,
   "id": "fa337ec1",
   "metadata": {},
   "outputs": [],
   "source": [
    "gender_df.to_csv('Resources/gender.csv')"

   ]
  },
  {
   "cell_type": "code",

   "execution_count": 14,
   "id": "9016c627",
   "metadata": {},
   "outputs": [],
   "source": [
    "education_df.to_csv('Resources/education.csv')"

   ]
  },
  {
   "cell_type": "code",
   "execution_count": null,

   "id": "6b71e2ca",

   "metadata": {},
   "outputs": [],
   "source": []
  }
 ],
 "metadata": {
  "kernelspec": {
   "display_name": "PythonData",
   "language": "python",
   "name": "pythondata"
  },
  "language_info": {
   "codemirror_mode": {
    "name": "ipython",
    "version": 3
   },
   "file_extension": ".py",
   "mimetype": "text/x-python",
   "name": "python",
   "nbconvert_exporter": "python",
   "pygments_lexer": "ipython3",
   "version": "3.7.10"
  }
 },
 "nbformat": 4,
 "nbformat_minor": 5
}
