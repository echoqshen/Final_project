{
 "cells": [
  {
   "cell_type": "code",
   "execution_count": 1,
   "id": "ce2caac9",
   "metadata": {},
   "outputs": [
    {
     "name": "stdout",
     "output_type": "stream",
     "text": [
      "            LNS14027660\n",
      "DATE                   \n",
      "2000-01-01          3.4\n",
      "2000-02-01          3.4\n",
      "2000-03-01          3.3\n",
      "2000-04-01          3.3\n",
      "2000-05-01          3.4\n",
      "2000-06-01          3.4\n",
      "2000-07-01          3.4\n",
      "2000-08-01          3.7\n",
      "2000-09-01          3.5\n",
      "2000-10-01          3.6\n",
      "2000-11-01          3.5\n",
      "2000-12-01          3.5\n",
      "2001-01-01          3.8\n",
      "2001-02-01          3.7\n",
      "2001-03-01          3.8\n",
      "2001-04-01          3.7\n",
      "2001-05-01          3.9\n",
      "2001-06-01          3.8\n",
      "2001-07-01          4.1\n",
      "2001-08-01          4.4\n"
     ]
    }
   ],
   "source": [
    "# line plot of time series\n",
    "from pandas import read_csv\n",
    "from matplotlib import pyplot\n",
    "# load dataset\n",
    "series = read_csv('Resources/highschool.csv', header=0, index_col=0)\n",
    "# display first few rows\n",
    "print(series.head(20))"
   ]
  },
  {
   "cell_type": "code",
   "execution_count": 2,
   "id": "5f71374f",
   "metadata": {},
   "outputs": [
    {
     "data": {
      "image/png": "[encoded data removed]",
      "text/plain": [
       "<Figure size 432x288 with 1 Axes>"
      ]
     },
     "metadata": {
      "needs_background": "light"
     },
     "output_type": "display_data"
    }
   ],
   "source": [
    "# line plot of dataset\n",
    "series.plot()\n",
    "pyplot.show()"
   ]
  },
  {
   "cell_type": "markdown",
   "id": "280419a5",
   "metadata": {},
   "source": [
    "## Split the Dataset"
   ]
  },
  {
   "cell_type": "code",
   "execution_count": 3,
   "id": "956da704",
   "metadata": {},
   "outputs": [
    {
     "name": "stdout",
     "output_type": "stream",
     "text": [
      "Dataset 258, Validation 7\n"
     ]
    }
   ],
   "source": [
    "# split the dataset\n",
    "split_point = len(series) - 7\n",
    "dataset, validation = series[0:split_point], series[split_point:]\n",
    "print('Dataset %d, Validation %d' % (len(dataset), len(validation)))"
   ]
  },
  {
   "cell_type": "code",
   "execution_count": 4,
   "id": "d23dd458",
   "metadata": {},
   "outputs": [],
   "source": [
    "dataset.to_csv('dataset.csv', index=False)\n",
    "validation.to_csv('validation.csv', index=False)"
   ]
  },
  {
   "cell_type": "markdown",
   "id": "062abc12",
   "metadata": {},
   "source": [
    "## Develop the Model"
   ]
  },
  {
   "cell_type": "code",
   "execution_count": 5,
   "id": "e1072a2b",
   "metadata": {},
   "outputs": [],
   "source": [
    "# create a differenced series\n",
    "def difference(dataset, interval=1):\n",
    "    diff = list()\n",
    "    for i in range(interval, len(dataset)):\n",
    "        value = dataset[i] - dataset[i - interval]\n",
    "        diff.append(value)\n",
    "    return numpy.array(diff)"
   ]
  },
  {
   "cell_type": "code",
   "execution_count": 6,
   "id": "a84d0691",
   "metadata": {},
   "outputs": [],
   "source": [
    "# invert differenced value\n",
    "def inverse_difference(history, yhat, interval=1):\n",
    "    return yhat + history[-interval]"
   ]
  },
  {
   "cell_type": "code",
   "execution_count": 7,
   "id": "0a95fb00",
   "metadata": {},
   "outputs": [],
   "source": [
    "from statsmodels.tsa.arima.model import ARIMA\n",
    "import numpy\n",
    " \n",
    "# create a differenced series\n",
    "def difference(dataset, interval=1):\n",
    "    diff = list()\n",
    "    for i in range(interval, len(dataset)):\n",
    "        value = dataset[i] - dataset[i - interval]\n",
    "        diff.append(value)\n",
    "    return numpy.array(diff)"
   ]
  },
  {
   "cell_type": "code",
   "execution_count": 8,
   "id": "18ba1087",
   "metadata": {},
   "outputs": [
    {
     "name": "stdout",
     "output_type": "stream",
     "text": [
      "                               SARIMAX Results                                \n",
      "==============================================================================\n",
      "Dep. Variable:                      y   No. Observations:                  246\n",
      "Model:                 ARIMA(7, 0, 1)   Log Likelihood                -397.874\n",
      "Date:                Thu, 10 Mar 2022   AIC                            815.749\n",
      "Time:                        20:22:17   BIC                            850.802\n",
      "Sample:                             0   HQIC                           829.863\n",
      "                                - 246                                         \n",
      "Covariance Type:                  opg                                         \n",
      "==============================================================================\n",
      "                 coef    std err          z      P>|z|      [0.025      0.975]\n",
      "------------------------------------------------------------------------------\n",
      "const          0.0631      0.869      0.073      0.942      -1.640       1.766\n",
      "ar.L1          1.6682      0.378      4.409      0.000       0.927       2.410\n",
      "ar.L2         -0.9346      0.412     -2.267      0.023      -1.743      -0.127\n",
      "ar.L3          0.4669      0.301      1.554      0.120      -0.122       1.056\n",
      "ar.L4         -0.3452      0.504     -0.685      0.493      -1.333       0.642\n",
      "ar.L5          0.2316      0.700      0.331      0.741      -1.141       1.604\n",
      "ar.L6         -0.0968      0.414     -0.234      0.815      -0.909       0.715\n",
      "ar.L7         -0.0498      0.140     -0.357      0.721      -0.323       0.224\n",
      "ma.L1         -0.7707      0.386     -1.999      0.046      -1.526      -0.015\n",
      "sigma2         1.4752      0.076     19.380      0.000       1.326       1.624\n",
      "===================================================================================\n",
      "Ljung-Box (L1) (Q):                   0.00   Jarque-Bera (JB):             83706.29\n",
      "Prob(Q):                              1.00   Prob(JB):                         0.00\n",
      "Heteroskedasticity (H):              55.15   Skew:                             1.93\n",
      "Prob(H) (two-sided):                  0.00   Kurtosis:                        93.29\n",
      "===================================================================================\n",
      "\n",
      "Warnings:\n",
      "[1] Covariance matrix calculated using the outer product of gradients (complex-step).\n"
     ]
    }
   ],
   "source": [
    "# load dataset\n",
    "series1 = read_csv('dataset.csv', header=0)\n",
    "# seasonal difference\n",
    "X = series1.values\n",
    "months_in_year = 12\n",
    "differenced = difference(X, months_in_year)\n",
    "# fit model\n",
    "model = ARIMA(differenced, order=(7,0,1))\n",
    "model_fit = model.fit()\n",
    "# print summary of fit model\n",
    "print(model_fit.summary())"
   ]
  },
  {
   "cell_type": "markdown",
   "id": "55fe8b76",
   "metadata": {},
   "source": [
    "## One-Step-Out-of-Sample Forecast"
   ]
  },
  {
   "cell_type": "markdown",
   "id": "e021c909",
   "metadata": {},
   "source": [
    "### Forecast Function"
   ]
  },
  {
   "cell_type": "code",
   "execution_count": 9,
   "id": "b23aeea1",
   "metadata": {},
   "outputs": [],
   "source": [
    "# one-step out-of sample forecast\n",
    "forecast = model_fit.forecast()[0]"
   ]
  },
  {
   "cell_type": "code",
   "execution_count": 10,
   "id": "aca56cbd",
   "metadata": {},
   "outputs": [],
   "source": [
    "# invert the differenced forecast to something usable\n",
    "forecast = inverse_difference(X, forecast, months_in_year)"
   ]
  },
  {
   "cell_type": "code",
   "execution_count": 11,
   "id": "4ba2b37c",
   "metadata": {},
   "outputs": [
    {
     "name": "stdout",
     "output_type": "stream",
     "text": [
      "Forecast: 4.274351\n"
     ]
    }
   ],
   "source": [
    "print('Forecast: %f' % forecast)"
   ]
  },
  {
   "cell_type": "markdown",
   "id": "929246f9",
   "metadata": {},
   "source": [
    "### Predict Function"
   ]
  },
  {
   "cell_type": "code",
   "execution_count": 12,
   "id": "b3809005",
   "metadata": {},
   "outputs": [],
   "source": [
    "# one-step out of sample forecast\n",
    "start_index = len(differenced)\n",
    "end_index = len(differenced)\n",
    "forecast = model_fit.predict(start=start_index, end=end_index)"
   ]
  },
  {
   "cell_type": "code",
   "execution_count": 13,
   "id": "f4a70035",
   "metadata": {},
   "outputs": [
    {
     "name": "stdout",
     "output_type": "stream",
     "text": [
      "Forecast: 4.274351\n"
     ]
    }
   ],
   "source": [
    "# invert the differenced forecast to something usable\n",
    "forecast = inverse_difference(X, forecast, months_in_year)\n",
    "print('Forecast: %f' % forecast)"
   ]
  },
  {
   "cell_type": "markdown",
   "id": "20aacc0e",
   "metadata": {},
   "source": [
    "## Multi-Step Out-of-Sample Forecast"
   ]
  },
  {
   "cell_type": "markdown",
   "id": "018631e9",
   "metadata": {},
   "source": [
    "### Forecast Function"
   ]
  },
  {
   "cell_type": "code",
   "execution_count": 14,
   "id": "6217fc72",
   "metadata": {},
   "outputs": [],
   "source": [
    "# multi-step out-of-sample forecast\n",
    "forecast = model_fit.forecast(steps=7)[0]"
   ]
  },
  {
   "cell_type": "code",
   "execution_count": 16,
   "id": "28c212dc",
   "metadata": {},
   "outputs": [
    {
     "name": "stdout",
     "output_type": "stream",
     "text": [
      "Month 1: 4.274351\n",
      "Month 2: 3.496537\n",
      "Month 3: 2.497345\n",
      "Month 4: 0.681363\n",
      "Month 5: 1.020753\n",
      "Month 6: 1.981457\n",
      "Month 7: 1.877796\n"
     ]
    }
   ],
   "source": [
    "from pandas import read_csv\n",
    "from statsmodels.tsa.arima.model import ARIMA\n",
    "import numpy\n",
    " \n",
    "# create a differenced series\n",
    "def difference(dataset, interval=1):\n",
    "\tdiff = list()\n",
    "\tfor i in range(interval, len(dataset)):\n",
    "\t\tvalue = dataset[i] - dataset[i - interval]\n",
    "\t\tdiff.append(value)\n",
    "\treturn numpy.array(diff)\n",
    " \n",
    "# invert differenced value\n",
    "def inverse_difference(history, yhat, interval=1):\n",
    "\treturn yhat + history[-interval]\n",
    " \n",
    "# load dataset\n",
    "series = read_csv('dataset.csv', header=0)\n",
    "# seasonal difference\n",
    "X = series.values\n",
    "months_in_year = 12\n",
    "differenced = difference(X, months_in_year)\n",
    "# fit model\n",
    "model = ARIMA(differenced, order=(7,0,1))\n",
    "model_fit = model.fit()\n",
    "# multi-step out-of-sample forecast\n",
    "forecast = model_fit.forecast(steps=7)\n",
    "# invert the differenced forecast to something usable\n",
    "history = [x for x in X]\n",
    "month = 1\n",
    "for yhat in forecast:\n",
    "\tinverted = inverse_difference(history, yhat, months_in_year)\n",
    "\tprint('Month %d: %f' % (month, inverted))\n",
    "\thistory.append(inverted)\n",
    "\tmonth += 1"
   ]
  },
  {
   "cell_type": "markdown",
   "id": "2a65c8f2",
   "metadata": {},
   "source": [
    "### Predict Function"
   ]
  },
  {
   "cell_type": "code",
   "execution_count": 18,
   "id": "9508566e",
   "metadata": {},
   "outputs": [
    {
     "name": "stdout",
     "output_type": "stream",
     "text": [
      "Month 1: 4.274351\n",
      "Month 2: 3.496537\n",
      "Month 3: 2.497345\n",
      "Month 4: 0.681363\n",
      "Month 5: 1.020753\n",
      "Month 6: 1.981457\n",
      "Month 7: 1.877796\n"
     ]
    }
   ],
   "source": [
    "# Predict Function\n",
    "from pandas import read_csv\n",
    "from statsmodels.tsa.arima.model import ARIMA\n",
    "import numpy\n",
    " \n",
    "# create a differenced series\n",
    "def difference(dataset, interval=1):\n",
    "\tdiff = list()\n",
    "\tfor i in range(interval, len(dataset)):\n",
    "\t\tvalue = dataset[i] - dataset[i - interval]\n",
    "\t\tdiff.append(value)\n",
    "\treturn numpy.array(diff)\n",
    " \n",
    "# invert differenced value\n",
    "def inverse_difference(history, yhat, interval=1):\n",
    "\treturn yhat + history[-interval]\n",
    " \n",
    "# load dataset\n",
    "series = read_csv('dataset.csv', header=0)\n",
    "# seasonal difference\n",
    "X = series.values\n",
    "months_in_year = 12\n",
    "differenced = difference(X, months_in_year)\n",
    "# fit model\n",
    "model = ARIMA(differenced, order=(7,0,1))\n",
    "model_fit = model.fit()\n",
    "# multi-step out-of-sample forecast\n",
    "start_index = len(differenced)\n",
    "end_index = start_index + 6\n",
    "forecast = model_fit.predict(start=start_index, end=end_index)\n",
    "# invert the differenced forecast to something usable\n",
    "history = [x for x in X]\n",
    "month = 1\n",
    "for yhat in forecast:\n",
    "\tinverted = inverse_difference(history, yhat, months_in_year)\n",
    "\tprint('Month %d: %f' % (month, inverted))\n",
    "\thistory.append(inverted)\n",
    "\tmonth += 1"
   ]
  },
  {
   "cell_type": "code",
   "execution_count": null,
   "id": "a070f093",
   "metadata": {},
   "outputs": [],
   "source": []
  }
 ],
 "metadata": {
  "kernelspec": {
   "display_name": "mlenv",
   "language": "python",
   "name": "mlenv"
  },
  "language_info": {
   "codemirror_mode": {
    "name": "ipython",
    "version": 3
   },
   "file_extension": ".py",
   "mimetype": "text/x-python",
   "name": "python",
   "nbconvert_exporter": "python",
   "pygments_lexer": "ipython3",
   "version": "3.7.10"
  }
 },
 "nbformat": 4,
 "nbformat_minor": 5
}
