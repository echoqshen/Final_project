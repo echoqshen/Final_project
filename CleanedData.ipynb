{
 "cells": [
  {
   "cell_type": "code",
   "execution_count": 1,
   "id": "f8ccbbb5",
   "metadata": {},
   "outputs": [],
   "source": [
    "import csv\n",
    "import pandas as pd"
   ]
  },
  {
   "cell_type": "code",
   "execution_count": 2,
   "id": "0a5db538",
   "metadata": {},
   "outputs": [],
   "source": [
    "df=pd.read_csv('Resources/climate_df.csv')"
   ]
  },
  {
   "cell_type": "code",
   "execution_count": 3,
   "id": "4a65c012",
   "metadata": {},
   "outputs": [
    {
     "data": {
      "text/html": [
       "<div>\n",
       "<style scoped>\n",
       "    .dataframe tbody tr th:only-of-type {\n",
       "        vertical-align: middle;\n",
       "    }\n",
       "\n",
       "    .dataframe tbody tr th {\n",
       "        vertical-align: top;\n",
       "    }\n",
       "\n",
       "    .dataframe thead th {\n",
       "        text-align: right;\n",
       "    }\n",
       "</style>\n",
       "<table border=\"1\" class=\"dataframe\">\n",
       "  <thead>\n",
       "    <tr style=\"text-align: right;\">\n",
       "      <th></th>\n",
       "      <th>Unnamed: 0</th>\n",
       "      <th>EVENT_ID</th>\n",
       "      <th>STATE</th>\n",
       "      <th>YEAR</th>\n",
       "      <th>MONTH_NAME</th>\n",
       "      <th>EVENT_TYPE</th>\n",
       "      <th>FLOOD_CAUSE</th>\n",
       "      <th>CATEGORY</th>\n",
       "      <th>EVENT_NARRATIVE</th>\n",
       "    </tr>\n",
       "  </thead>\n",
       "  <tbody>\n",
       "    <tr>\n",
       "      <th>0</th>\n",
       "      <td>0</td>\n",
       "      <td>254780</td>\n",
       "      <td>NEW HAMPSHIRE</td>\n",
       "      <td>2010</td>\n",
       "      <td>July</td>\n",
       "      <td>Heat</td>\n",
       "      <td>NaN</td>\n",
       "      <td>NaN</td>\n",
       "      <td>Heat index values at the Nashua Boire Field (K...</td>\n",
       "    </tr>\n",
       "    <tr>\n",
       "      <th>1</th>\n",
       "      <td>1</td>\n",
       "      <td>211550</td>\n",
       "      <td>NEW HAMPSHIRE</td>\n",
       "      <td>2010</td>\n",
       "      <td>January</td>\n",
       "      <td>Heavy Snow</td>\n",
       "      <td>NaN</td>\n",
       "      <td>NaN</td>\n",
       "      <td>Four to eight inches fell across eastern Hills...</td>\n",
       "    </tr>\n",
       "    <tr>\n",
       "      <th>2</th>\n",
       "      <td>2</td>\n",
       "      <td>260014</td>\n",
       "      <td>NEW HAMPSHIRE</td>\n",
       "      <td>2010</td>\n",
       "      <td>October</td>\n",
       "      <td>Strong Wind</td>\n",
       "      <td>NaN</td>\n",
       "      <td>NaN</td>\n",
       "      <td>In Manchester, firefighters responded to about...</td>\n",
       "    </tr>\n",
       "    <tr>\n",
       "      <th>3</th>\n",
       "      <td>3</td>\n",
       "      <td>254779</td>\n",
       "      <td>NEW HAMPSHIRE</td>\n",
       "      <td>2010</td>\n",
       "      <td>July</td>\n",
       "      <td>Heat</td>\n",
       "      <td>NaN</td>\n",
       "      <td>NaN</td>\n",
       "      <td>Heat index values at the Manchester Airport (K...</td>\n",
       "    </tr>\n",
       "    <tr>\n",
       "      <th>4</th>\n",
       "      <td>4</td>\n",
       "      <td>273769</td>\n",
       "      <td>NEW HAMPSHIRE</td>\n",
       "      <td>2010</td>\n",
       "      <td>December</td>\n",
       "      <td>Winter Storm</td>\n",
       "      <td>NaN</td>\n",
       "      <td>NaN</td>\n",
       "      <td>Snowfall totals of 6 to 10 inches were observe...</td>\n",
       "    </tr>\n",
       "  </tbody>\n",
       "</table>\n",
       "</div>"
      ],
      "text/plain": [
       "   Unnamed: 0  EVENT_ID          STATE  YEAR MONTH_NAME    EVENT_TYPE  \\\n",
       "0           0    254780  NEW HAMPSHIRE  2010       July          Heat   \n",
       "1           1    211550  NEW HAMPSHIRE  2010    January    Heavy Snow   \n",
       "2           2    260014  NEW HAMPSHIRE  2010    October   Strong Wind   \n",
       "3           3    254779  NEW HAMPSHIRE  2010       July          Heat   \n",
       "4           4    273769  NEW HAMPSHIRE  2010   December  Winter Storm   \n",
       "\n",
       "  FLOOD_CAUSE  CATEGORY                                    EVENT_NARRATIVE  \n",
       "0         NaN       NaN  Heat index values at the Nashua Boire Field (K...  \n",
       "1         NaN       NaN  Four to eight inches fell across eastern Hills...  \n",
       "2         NaN       NaN  In Manchester, firefighters responded to about...  \n",
       "3         NaN       NaN  Heat index values at the Manchester Airport (K...  \n",
       "4         NaN       NaN  Snowfall totals of 6 to 10 inches were observe...  "
      ]
     },
     "execution_count": 3,
     "metadata": {},
     "output_type": "execute_result"
    }
   ],
   "source": [
    "df.head()"
   ]
  },
  {
   "cell_type": "code",
   "execution_count": 4,
   "id": "ebc12cb7",
   "metadata": {},
   "outputs": [
    {
     "data": {
      "text/html": [
       "<div>\n",
       "<style scoped>\n",
       "    .dataframe tbody tr th:only-of-type {\n",
       "        vertical-align: middle;\n",
       "    }\n",
       "\n",
       "    .dataframe tbody tr th {\n",
       "        vertical-align: top;\n",
       "    }\n",
       "\n",
       "    .dataframe thead th {\n",
       "        text-align: right;\n",
       "    }\n",
       "</style>\n",
       "<table border=\"1\" class=\"dataframe\">\n",
       "  <thead>\n",
       "    <tr style=\"text-align: right;\">\n",
       "      <th></th>\n",
       "      <th>EVENT_ID</th>\n",
       "      <th>STATE</th>\n",
       "      <th>YEAR</th>\n",
       "      <th>MONTH_NAME</th>\n",
       "      <th>EVENT_TYPE</th>\n",
       "      <th>EVENT_NARRATIVE</th>\n",
       "    </tr>\n",
       "  </thead>\n",
       "  <tbody>\n",
       "    <tr>\n",
       "      <th>0</th>\n",
       "      <td>254780</td>\n",
       "      <td>NEW HAMPSHIRE</td>\n",
       "      <td>2010</td>\n",
       "      <td>July</td>\n",
       "      <td>Heat</td>\n",
       "      <td>Heat index values at the Nashua Boire Field (K...</td>\n",
       "    </tr>\n",
       "    <tr>\n",
       "      <th>1</th>\n",
       "      <td>211550</td>\n",
       "      <td>NEW HAMPSHIRE</td>\n",
       "      <td>2010</td>\n",
       "      <td>January</td>\n",
       "      <td>Heavy Snow</td>\n",
       "      <td>Four to eight inches fell across eastern Hills...</td>\n",
       "    </tr>\n",
       "    <tr>\n",
       "      <th>2</th>\n",
       "      <td>260014</td>\n",
       "      <td>NEW HAMPSHIRE</td>\n",
       "      <td>2010</td>\n",
       "      <td>October</td>\n",
       "      <td>Strong Wind</td>\n",
       "      <td>In Manchester, firefighters responded to about...</td>\n",
       "    </tr>\n",
       "    <tr>\n",
       "      <th>3</th>\n",
       "      <td>254779</td>\n",
       "      <td>NEW HAMPSHIRE</td>\n",
       "      <td>2010</td>\n",
       "      <td>July</td>\n",
       "      <td>Heat</td>\n",
       "      <td>Heat index values at the Manchester Airport (K...</td>\n",
       "    </tr>\n",
       "    <tr>\n",
       "      <th>4</th>\n",
       "      <td>273769</td>\n",
       "      <td>NEW HAMPSHIRE</td>\n",
       "      <td>2010</td>\n",
       "      <td>December</td>\n",
       "      <td>Winter Storm</td>\n",
       "      <td>Snowfall totals of 6 to 10 inches were observe...</td>\n",
       "    </tr>\n",
       "  </tbody>\n",
       "</table>\n",
       "</div>"
      ],
      "text/plain": [
       "   EVENT_ID          STATE  YEAR MONTH_NAME    EVENT_TYPE  \\\n",
       "0    254780  NEW HAMPSHIRE  2010       July          Heat   \n",
       "1    211550  NEW HAMPSHIRE  2010    January    Heavy Snow   \n",
       "2    260014  NEW HAMPSHIRE  2010    October   Strong Wind   \n",
       "3    254779  NEW HAMPSHIRE  2010       July          Heat   \n",
       "4    273769  NEW HAMPSHIRE  2010   December  Winter Storm   \n",
       "\n",
       "                                     EVENT_NARRATIVE  \n",
       "0  Heat index values at the Nashua Boire Field (K...  \n",
       "1  Four to eight inches fell across eastern Hills...  \n",
       "2  In Manchester, firefighters responded to about...  \n",
       "3  Heat index values at the Manchester Airport (K...  \n",
       "4  Snowfall totals of 6 to 10 inches were observe...  "
      ]
     },
     "execution_count": 4,
     "metadata": {},
     "output_type": "execute_result"
    }
   ],
   "source": [
    "#drop two additional rows and unnamed as they have nothing to do with our question\n",
    "df = df.drop(['Unnamed: 0', 'FLOOD_CAUSE', 'CATEGORY'], axis=1)\n",
    "df.head()"
   ]
  },
  {
   "cell_type": "code",
   "execution_count": 5,
   "id": "8e0765e4",
   "metadata": {},
   "outputs": [
    {
     "data": {
      "text/plain": [
       "EVENT_ID                0\n",
       "STATE                   0\n",
       "YEAR                    0\n",
       "MONTH_NAME              0\n",
       "EVENT_TYPE              0\n",
       "EVENT_NARRATIVE    182826\n",
       "dtype: int64"
      ]
     },
     "execution_count": 5,
     "metadata": {},
     "output_type": "execute_result"
    }
   ],
   "source": [
    "#check for null values\n",
    "df.isnull().sum()"
   ]
  },
  {
   "cell_type": "code",
   "execution_count": 6,
   "id": "3f344fef",
   "metadata": {},
   "outputs": [
    {
     "data": {
      "text/plain": [
       "EVENT_ID           0\n",
       "STATE              0\n",
       "YEAR               0\n",
       "MONTH_NAME         0\n",
       "EVENT_TYPE         0\n",
       "EVENT_NARRATIVE    0\n",
       "dtype: int64"
      ]
     },
     "execution_count": 6,
     "metadata": {},
     "output_type": "execute_result"
    }
   ],
   "source": [
    "#fill event_narrative null values with \"no event description\"\n",
    "df['EVENT_NARRATIVE'] =  df['EVENT_NARRATIVE'].fillna('No event description')\n",
    "df.isnull().sum()"
   ]
  },
  {
   "cell_type": "code",
   "execution_count": 7,
   "id": "73e41e06",
   "metadata": {},
   "outputs": [],
   "source": [
    "#create a new copy of cleaned data for later use\n",
    "df.to_csv('Resources/cleaneddata.csv')"
   ]
  },
  {
   "cell_type": "code",
   "execution_count": 9,
   "id": "84d51267",
   "metadata": {},
   "outputs": [
    {
     "data": {
      "text/html": [
       "<div>\n",
       "<style scoped>\n",
       "    .dataframe tbody tr th:only-of-type {\n",
       "        vertical-align: middle;\n",
       "    }\n",
       "\n",
       "    .dataframe tbody tr th {\n",
       "        vertical-align: top;\n",
       "    }\n",
       "\n",
       "    .dataframe thead th {\n",
       "        text-align: right;\n",
       "    }\n",
       "</style>\n",
       "<table border=\"1\" class=\"dataframe\">\n",
       "  <thead>\n",
       "    <tr style=\"text-align: right;\">\n",
       "      <th></th>\n",
       "      <th>EVENT_ID</th>\n",
       "      <th>STATE</th>\n",
       "      <th>YEAR</th>\n",
       "      <th>MONTH_NAME</th>\n",
       "      <th>EVENT_TYPE</th>\n",
       "      <th>EVENT_NARRATIVE</th>\n",
       "    </tr>\n",
       "  </thead>\n",
       "  <tbody>\n",
       "    <tr>\n",
       "      <th>0</th>\n",
       "      <td>254780</td>\n",
       "      <td>NEW HAMPSHIRE</td>\n",
       "      <td>2010</td>\n",
       "      <td>July</td>\n",
       "      <td>Heat</td>\n",
       "      <td>Heat index values at the Nashua Boire Field (K...</td>\n",
       "    </tr>\n",
       "    <tr>\n",
       "      <th>1</th>\n",
       "      <td>211550</td>\n",
       "      <td>NEW HAMPSHIRE</td>\n",
       "      <td>2010</td>\n",
       "      <td>January</td>\n",
       "      <td>Heavy Snow</td>\n",
       "      <td>Four to eight inches fell across eastern Hills...</td>\n",
       "    </tr>\n",
       "    <tr>\n",
       "      <th>2</th>\n",
       "      <td>260014</td>\n",
       "      <td>NEW HAMPSHIRE</td>\n",
       "      <td>2010</td>\n",
       "      <td>October</td>\n",
       "      <td>Strong Wind</td>\n",
       "      <td>In Manchester, firefighters responded to about...</td>\n",
       "    </tr>\n",
       "    <tr>\n",
       "      <th>3</th>\n",
       "      <td>254779</td>\n",
       "      <td>NEW HAMPSHIRE</td>\n",
       "      <td>2010</td>\n",
       "      <td>July</td>\n",
       "      <td>Heat</td>\n",
       "      <td>Heat index values at the Manchester Airport (K...</td>\n",
       "    </tr>\n",
       "    <tr>\n",
       "      <th>4</th>\n",
       "      <td>273769</td>\n",
       "      <td>NEW HAMPSHIRE</td>\n",
       "      <td>2010</td>\n",
       "      <td>December</td>\n",
       "      <td>Winter Storm</td>\n",
       "      <td>Snowfall totals of 6 to 10 inches were observe...</td>\n",
       "    </tr>\n",
       "  </tbody>\n",
       "</table>\n",
       "</div>"
      ],
      "text/plain": [
       "   EVENT_ID          STATE  YEAR MONTH_NAME    EVENT_TYPE  \\\n",
       "0    254780  NEW HAMPSHIRE  2010       July          Heat   \n",
       "1    211550  NEW HAMPSHIRE  2010    January    Heavy Snow   \n",
       "2    260014  NEW HAMPSHIRE  2010    October   Strong Wind   \n",
       "3    254779  NEW HAMPSHIRE  2010       July          Heat   \n",
       "4    273769  NEW HAMPSHIRE  2010   December  Winter Storm   \n",
       "\n",
       "                                     EVENT_NARRATIVE  \n",
       "0  Heat index values at the Nashua Boire Field (K...  \n",
       "1  Four to eight inches fell across eastern Hills...  \n",
       "2  In Manchester, firefighters responded to about...  \n",
       "3  Heat index values at the Manchester Airport (K...  \n",
       "4  Snowfall totals of 6 to 10 inches were observe...  "
      ]
     },
     "execution_count": 9,
     "metadata": {},
     "output_type": "execute_result"
    }
   ],
   "source": [
    "#slice first 1000 entries for sample data for model\n",
    "sliced = df.iloc[0:999]\n",
    "sliced.head()"
   ]
  },
  {
   "cell_type": "code",
   "execution_count": 10,
   "id": "2a28cd79",
   "metadata": {},
   "outputs": [],
   "source": [
    "#create a csv copy of the sliced df for sample data\n",
    "sliced.to_csv('Resources/sampledata.csv')"
   ]
  },
  {
   "cell_type": "code",
   "execution_count": null,
   "id": "1457658a",
   "metadata": {},
   "outputs": [],
   "source": []
  }
 ],
 "metadata": {
  "kernelspec": {
   "display_name": "PythonData",
   "language": "python",
   "name": "pythondata"
  },
  "language_info": {
   "codemirror_mode": {
    "name": "ipython",
    "version": 3
   },
   "file_extension": ".py",
   "mimetype": "text/x-python",
   "name": "python",
   "nbconvert_exporter": "python",
   "pygments_lexer": "ipython3",
   "version": "3.7.10"
  }
 },
 "nbformat": 4,
 "nbformat_minor": 5
}
