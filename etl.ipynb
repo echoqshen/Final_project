{
 "cells": [
  {
   "cell_type": "code",
   "execution_count": 1,
   "metadata": {},
   "outputs": [],
   "source": [
    "import sys\n",
    "sys.path.append('../../')\n",
    "import pandas as pd\n",
    "import sqlalchemy\n",
    "import pymongo\n",
    "import csv\n",
    "import plotly.express as px\n",
    "from pymongo import MongoClient\n",
    "from flask import Flask, jsonify, render_template"
   ]
  },
  {
   "cell_type": "code",
   "execution_count": 6,
   "metadata": {},
   "outputs": [],
   "source": [
    "ten=pd.read_csv('Resources/StormEvents_details-2010.csv')\n",
    "eleven=pd.read_csv('Resources/StormEvents_details-2011.csv')\n",
    "twelve=pd.read_csv('Resources/StormEvents_details-2012.csv')\n",
    "thirteen=pd.read_csv('Resources/StormEvents_details-2013.csv')\n",
    "forteen=pd.read_csv('Resources/StormEvents_details-2014.csv')\n",
    "fifteen=pd.read_csv('Resources/StormEvents_details-2015.csv')\n",
    "sixteen=pd.read_csv('Resources/StormEvents_details-2016.csv')\n",
    "seventeen=pd.read_csv('Resources/StormEvents_details-2017.csv')\n",
    "eighteen=pd.read_csv('Resources/StormEvents_details-2018.csv')\n",
    "ninteen=pd.read_csv('Resources/StormEvents_details-2019.csv')\n",
    "twenty=pd.read_csv('Resources/StormEvents_details-2020.csv')\n",
    "twoone=pd.read_csv('Resources/StormEvents_details-2021.csv')"
   ]
  },
  {
   "cell_type": "code",
   "execution_count": 12,
   "metadata": {},
   "outputs": [
    {
     "name": "stdout",
     "output_type": "stream",
     "text": [
      "743987\n",
      "Index(['BEGIN_YEARMONTH', 'BEGIN_DAY', 'BEGIN_TIME', 'END_YEARMONTH',\n",
      "       'END_DAY', 'END_TIME', 'EPISODE_ID', 'EVENT_ID', 'STATE', 'STATE_FIPS',\n",
      "       'YEAR', 'MONTH_NAME', 'EVENT_TYPE', 'CZ_TYPE', 'CZ_FIPS', 'CZ_NAME',\n",
      "       'WFO', 'BEGIN_DATE_TIME', 'CZ_TIMEZONE', 'END_DATE_TIME',\n",
      "       'INJURIES_DIRECT', 'INJURIES_INDIRECT', 'DEATHS_DIRECT',\n",
      "       'DEATHS_INDIRECT', 'DAMAGE_PROPERTY', 'DAMAGE_CROPS', 'SOURCE',\n",
      "       'MAGNITUDE', 'MAGNITUDE_TYPE', 'FLOOD_CAUSE', 'CATEGORY', 'TOR_F_SCALE',\n",
      "       'TOR_LENGTH', 'TOR_WIDTH', 'TOR_OTHER_WFO', 'TOR_OTHER_CZ_STATE',\n",
      "       'TOR_OTHER_CZ_FIPS', 'TOR_OTHER_CZ_NAME', 'BEGIN_RANGE',\n",
      "       'BEGIN_AZIMUTH', 'BEGIN_LOCATION', 'END_RANGE', 'END_AZIMUTH',\n",
      "       'END_LOCATION', 'BEGIN_LAT', 'BEGIN_LON', 'END_LAT', 'END_LON',\n",
      "       'EPISODE_NARRATIVE', 'EVENT_NARRATIVE', 'DATA_SOURCE'],\n",
      "      dtype='object')\n"
     ]
    }
   ],
   "source": [
    "master=pd.concat([ten,eleven,twelve,thirteen,forteen,\n",
    "fifteen,sixteen,seventeen,eighteen,ninteen,twenty,twoone],ignore_index=True)\n",
    "print(len(master))\n",
    "print(master.columns)"
   ]
  },
  {
   "cell_type": "code",
   "execution_count": 13,
   "metadata": {},
   "outputs": [
    {
     "name": "stdout",
     "output_type": "stream",
     "text": [
      "Index(['disasterNumber', 'ihProgramDeclared', 'iaProgramDeclared',\n",
      "       'paProgramDeclared', 'hmProgramDeclared', 'state', 'declarationDate',\n",
      "       'fyDeclared', 'disasterType', 'incidentType', 'title',\n",
      "       'incidentBeginDate', 'incidentEndDate', 'disasterCloseOutDate',\n",
      "       'declaredCountyArea', 'placeCode', 'hash', 'lastRefresh', 'id'],\n",
      "      dtype='object')\n"
     ]
    }
   ],
   "source": [
    "sum=pd.read_csv('Resources/DisasterDeclarationsSummaries.csv')\n",
    "print(sum.columns)"
   ]
  }
 ],
 "metadata": {
  "interpreter": {
   "hash": "1b5c001111c126a4139bfc007ca60b0224b5e3485c57aded7f9c3dba353534cb"
  },
  "kernelspec": {
   "display_name": "Python 3.7.10",
   "language": "python",
   "name": "python3"
  },
  "language_info": {
   "codemirror_mode": {
    "name": "ipython",
    "version": 3
   },
   "file_extension": ".py",
   "mimetype": "text/x-python",
   "name": "python",
   "nbconvert_exporter": "python",
   "pygments_lexer": "ipython3",
   "version": "3.7.10"
  },
  "orig_nbformat": 4
 },
 "nbformat": 4,
 "nbformat_minor": 2
}
