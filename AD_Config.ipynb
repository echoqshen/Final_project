{
 "cells": [
  {
   "cell_type": "code",
   "execution_count": 1,
   "id": "98bda40a",
   "metadata": {},
   "outputs": [],
   "source": [
    "fred_key= \"5d898dd8f945e9190745a8e4f666f64c\""
   ]
  }
 ],
 "metadata": {
  "kernelspec": {
   "display_name": "PythonData",
   "language": "python",
   "name": "pythondata"
  },
  "language_info": {
   "codemirror_mode": {
    "name": "ipython",
    "version": 3
   },
   "file_extension": ".py",
   "mimetype": "text/x-python",
   "name": "python",
   "nbconvert_exporter": "python",
   "pygments_lexer": "ipython3",
   "version": "3.8.8"
  }
 },
 "nbformat": 4,
 "nbformat_minor": 5
}
