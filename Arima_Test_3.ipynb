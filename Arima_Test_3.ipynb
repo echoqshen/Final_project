{
 "cells": [
  {
   "cell_type": "markdown",
   "id": "ede9685a",
   "metadata": {},
   "source": [
    "## ARIMA with Python"
   ]
  },
  {
   "cell_type": "code",
   "execution_count": 1,
   "id": "785afe2e",
   "metadata": {},
   "outputs": [
    {
     "name": "stderr",
     "output_type": "stream",
     "text": [
      "C:\\Users\\Aaron\\anaconda3\\envs\\mlenv\\lib\\site-packages\\ipykernel_launcher.py:3: FutureWarning: The pandas.datetime class is deprecated and will be removed from pandas in a future version. Import from datetime module instead.\n",
      "  This is separate from the ipykernel package so we can avoid doing imports until\n"
     ]
    }
   ],
   "source": [
    "import pandas as pd\n",
    "from pandas import read_csv\n",
    "from pandas import datetime\n",
    "from matplotlib import pyplot\n",
    "from pandas.plotting import autocorrelation_plot\n",
    "from statsmodels.tsa.arima.model import ARIMA\n",
    "from pandas import DataFrame\n",
    "from statsmodels.tsa.stattools import adfuller\n",
    "from pmdarima import auto_arima\n",
    "from sklearn.metrics import mean_squared_error\n",
    "from math import sqrt\n",
    "import warnings\n",
    "warnings.filterwarnings(\"ignore\")"
   ]
  },
  {
   "cell_type": "markdown",
   "id": "b9f5ac90",
   "metadata": {},
   "source": [
    "### Read the Data"
   ]
  },
  {
   "cell_type": "code",
   "execution_count": 2,
   "id": "d1ad4a6a",
   "metadata": {},
   "outputs": [
    {
     "name": "stdout",
     "output_type": "stream",
     "text": [
      "DATE\n",
      "2000-01-01    4.0\n",
      "2000-02-01    4.1\n",
      "2000-03-01    4.0\n",
      "2000-04-01    3.8\n",
      "2000-05-01    4.0\n",
      "Name: Rate_Overall, dtype: float64\n"
     ]
    }
   ],
   "source": [
    "series = read_csv('Resources/overall_monthly.csv', header=0, parse_dates=True, index_col='DATE', squeeze=True)\n",
    "print(series.head())"
   ]
  },
  {
   "cell_type": "markdown",
   "id": "5c7226bf",
   "metadata": {},
   "source": [
    "### Plot the Data"
   ]
  },
  {
   "cell_type": "code",
   "execution_count": 3,
   "id": "156482af",
   "metadata": {},
   "outputs": [
    {
     "data": {
      "image/png": "[encoded data removed]",
      "text/plain": [
       "<Figure size 432x288 with 1 Axes>"
      ]
     },
     "metadata": {
      "needs_background": "light"
     },
     "output_type": "display_data"
    }
   ],
   "source": [
    "series.plot()\n",
    "pyplot.show()"
   ]
  },
  {
   "cell_type": "markdown",
   "id": "b35e2608",
   "metadata": {},
   "source": [
    "### Auto-Correlation Plot"
   ]
  },
  {
   "cell_type": "code",
   "execution_count": 4,
   "id": "558c16bb",
   "metadata": {},
   "outputs": [
    {
     "data": {
      "image/png": "[encoded data removed]",
      "text/plain": [
       "<Figure size 432x288 with 1 Axes>"
      ]
     },
     "metadata": {
      "needs_background": "light"
     },
     "output_type": "display_data"
    }
   ],
   "source": [
    "autocorrelation_plot(series)\n",
    "pyplot.show()"
   ]
  },
  {
   "cell_type": "code",
   "execution_count": 5,
   "id": "fc35bfca",
   "metadata": {},
   "outputs": [],
   "source": [
    "series.index = series.index.to_period('M')"
   ]
  },
  {
   "cell_type": "markdown",
   "id": "9f5516fe",
   "metadata": {},
   "source": [
    "### Fit the Model"
   ]
  },
  {
   "cell_type": "code",
   "execution_count": 6,
   "id": "e93ec267",
   "metadata": {},
   "outputs": [
    {
     "name": "stdout",
     "output_type": "stream",
     "text": [
      "                               SARIMAX Results                                \n",
      "==============================================================================\n",
      "Dep. Variable:           Rate_Overall   No. Observations:                  264\n",
      "Model:                 ARIMA(0, 1, 0)   Log Likelihood                -276.737\n",
      "Date:                Sun, 20 Mar 2022   AIC                            555.474\n",
      "Time:                        20:03:10   BIC                            559.046\n",
      "Sample:                    01-31-2000   HQIC                           556.909\n",
      "                         - 12-31-2021                                         \n",
      "Covariance Type:                  opg                                         \n",
      "==============================================================================\n",
      "                 coef    std err          z      P>|z|      [0.025      0.975]\n",
      "------------------------------------------------------------------------------\n",
      "sigma2         0.4803      0.004    110.357      0.000       0.472       0.489\n",
      "===================================================================================\n",
      "Ljung-Box (L1) (Q):                   0.21   Jarque-Bera (JB):            374579.88\n",
      "Prob(Q):                              0.64   Prob(JB):                         0.00\n",
      "Heteroskedasticity (H):              89.15   Skew:                            12.25\n",
      "Prob(H) (two-sided):                  0.00   Kurtosis:                       186.25\n",
      "===================================================================================\n",
      "\n",
      "Warnings:\n",
      "[1] Covariance matrix calculated using the outer product of gradients (complex-step).\n"
     ]
    }
   ],
   "source": [
    "# fit model\n",
    "model = ARIMA(series, order=(0,1,0))\n",
    "model_fit = model.fit()\n",
    "# summary of fit model\n",
    "print(model_fit.summary())"
   ]
  },
  {
   "cell_type": "markdown",
   "id": "e661d494",
   "metadata": {},
   "source": [
    "### Plot the Residuals"
   ]
  },
  {
   "cell_type": "code",
   "execution_count": 7,
   "id": "92a81ab7",
   "metadata": {},
   "outputs": [
    {
     "data": {
      "image/png": "[encoded data removed]",
      "text/plain": [
       "<Figure size 432x288 with 1 Axes>"
      ]
     },
     "metadata": {
      "needs_background": "light"
     },
     "output_type": "display_data"
    }
   ],
   "source": [
    "# line plot of residuals\n",
    "residuals = DataFrame(model_fit.resid)\n",
    "residuals.plot()\n",
    "pyplot.show()"
   ]
  },
  {
   "cell_type": "code",
   "execution_count": 8,
   "id": "6feb32ab",
   "metadata": {},
   "outputs": [
    {
     "data": {
      "image/png": "[encoded data removed]",
      "text/plain": [
       "<Figure size 432x288 with 1 Axes>"
      ]
     },
     "metadata": {
      "needs_background": "light"
     },
     "output_type": "display_data"
    }
   ],
   "source": [
    "# density plot of residuals\n",
    "residuals.plot(kind='kde')\n",
    "pyplot.show()"
   ]
  },
  {
   "cell_type": "code",
   "execution_count": 9,
   "id": "a6205e59",
   "metadata": {},
   "outputs": [
    {
     "name": "stdout",
     "output_type": "stream",
     "text": [
      "                0\n",
      "count  264.000000\n",
      "mean     0.014773\n",
      "std      0.735448\n",
      "min     -2.200000\n",
      "25%     -0.100000\n",
      "50%      0.000000\n",
      "75%      0.100000\n",
      "max     10.300000\n"
     ]
    }
   ],
   "source": [
    "# summary stats of residuals\n",
    "print(residuals.describe())"
   ]
  },
  {
   "cell_type": "markdown",
   "id": "e6d38f5c",
   "metadata": {},
   "source": [
    "## Rolling Forecast ARIMA Model"
   ]
  },
  {
   "cell_type": "code",
   "execution_count": 10,
   "id": "c9e77abf",
   "metadata": {},
   "outputs": [],
   "source": [
    "# evaluate an ARIMA model using a walk-forward validation\n",
    "from pandas import read_csv\n",
    "from pandas import datetime\n",
    "from matplotlib import pyplot\n",
    "from statsmodels.tsa.arima.model import ARIMA\n",
    "from sklearn.metrics import mean_squared_error\n",
    "from math import sqrt"
   ]
  },
  {
   "cell_type": "code",
   "execution_count": 11,
   "id": "99f5af27",
   "metadata": {},
   "outputs": [
    {
     "name": "stdout",
     "output_type": "stream",
     "text": [
      "            Rate_Overall\n",
      "DATE                    \n",
      "2000-01-01           4.0\n",
      "2000-02-01           4.1\n",
      "2000-03-01           4.0\n",
      "2000-04-01           3.8\n",
      "2000-05-01           4.0\n"
     ]
    }
   ],
   "source": [
    "# load dataset\n",
    "#def parser(x):\n",
    "#\treturn datetime.strptime('190'+x, '%Y-%m')\n",
    "series = read_csv('Resources/overall_monthly.csv', header=0, parse_dates=True, index_col='DATE')\n",
    "print(series.head())\n",
    "#series.index = series.index.to_period('M')"
   ]
  },
  {
   "cell_type": "markdown",
   "id": "f2ee90e0",
   "metadata": {},
   "source": [
    "### Split the Dataset"
   ]
  },
  {
   "cell_type": "code",
   "execution_count": 12,
   "id": "a3a9eced",
   "metadata": {},
   "outputs": [],
   "source": [
    "# split into train and test sets\n",
    "X = series.values\n",
    "size = int(len(X) * 0.66)\n",
    "##size = int(len(series) * 0.66)\n",
    "train = X[0:size]\n",
    "test = X[size:len(X)]\n",
    "history = [x for x in train]\n",
    "predictions = list()"
   ]
  },
  {
   "cell_type": "markdown",
   "id": "9fbdcc4d",
   "metadata": {},
   "source": [
    "### Validate"
   ]
  },
  {
   "cell_type": "code",
   "execution_count": 13,
   "id": "270a143d",
   "metadata": {},
   "outputs": [
    {
     "name": "stdout",
     "output_type": "stream",
     "text": [
      "predicted=6.100000, expected=6.200000\n",
      "predicted=6.200000, expected=6.100000\n",
      "predicted=6.100000, expected=5.900000\n",
      "predicted=5.900000, expected=5.700000\n",
      "predicted=5.700000, expected=5.800000\n",
      "predicted=5.800000, expected=5.600000\n",
      "predicted=5.600000, expected=5.700000\n",
      "predicted=5.700000, expected=5.500000\n",
      "predicted=5.500000, expected=5.400000\n",
      "predicted=5.400000, expected=5.400000\n",
      "predicted=5.400000, expected=5.600000\n",
      "predicted=5.600000, expected=5.300000\n",
      "predicted=5.300000, expected=5.200000\n",
      "predicted=5.200000, expected=5.100000\n",
      "predicted=5.100000, expected=5.000000\n",
      "predicted=5.000000, expected=5.000000\n",
      "predicted=5.000000, expected=5.100000\n",
      "predicted=5.100000, expected=5.000000\n",
      "predicted=5.000000, expected=4.800000\n",
      "predicted=4.800000, expected=4.900000\n",
      "predicted=4.900000, expected=5.000000\n",
      "predicted=5.000000, expected=5.100000\n",
      "predicted=5.100000, expected=4.800000\n",
      "predicted=4.800000, expected=4.900000\n",
      "predicted=4.900000, expected=4.800000\n",
      "predicted=4.800000, expected=4.900000\n",
      "predicted=4.900000, expected=5.000000\n",
      "predicted=5.000000, expected=4.900000\n",
      "predicted=4.900000, expected=4.700000\n",
      "predicted=4.700000, expected=4.700000\n",
      "predicted=4.700000, expected=4.700000\n",
      "predicted=4.700000, expected=4.600000\n",
      "predicted=4.600000, expected=4.400000\n",
      "predicted=4.400000, expected=4.400000\n",
      "predicted=4.400000, expected=4.400000\n",
      "predicted=4.400000, expected=4.300000\n",
      "predicted=4.300000, expected=4.300000\n",
      "predicted=4.300000, expected=4.400000\n",
      "predicted=4.400000, expected=4.300000\n",
      "predicted=4.300000, expected=4.200000\n",
      "predicted=4.200000, expected=4.200000\n",
      "predicted=4.200000, expected=4.100000\n",
      "predicted=4.100000, expected=4.000000\n",
      "predicted=4.000000, expected=4.100000\n",
      "predicted=4.100000, expected=4.000000\n",
      "predicted=4.000000, expected=4.000000\n",
      "predicted=4.000000, expected=3.800000\n",
      "predicted=3.800000, expected=4.000000\n",
      "predicted=4.000000, expected=3.800000\n",
      "predicted=3.800000, expected=3.800000\n",
      "predicted=3.800000, expected=3.700000\n",
      "predicted=3.700000, expected=3.800000\n",
      "predicted=3.800000, expected=3.800000\n",
      "predicted=3.800000, expected=3.900000\n",
      "predicted=3.900000, expected=4.000000\n",
      "predicted=4.000000, expected=3.800000\n",
      "predicted=3.800000, expected=3.800000\n",
      "predicted=3.800000, expected=3.600000\n",
      "predicted=3.600000, expected=3.600000\n",
      "predicted=3.600000, expected=3.600000\n",
      "predicted=3.600000, expected=3.700000\n",
      "predicted=3.700000, expected=3.700000\n",
      "predicted=3.700000, expected=3.500000\n",
      "predicted=3.500000, expected=3.600000\n",
      "predicted=3.600000, expected=3.600000\n",
      "predicted=3.600000, expected=3.600000\n",
      "predicted=3.600000, expected=3.500000\n",
      "predicted=3.500000, expected=3.500000\n",
      "predicted=3.500000, expected=4.400000\n",
      "predicted=4.400000, expected=14.700000\n",
      "predicted=14.700000, expected=13.200000\n",
      "predicted=13.200000, expected=11.000000\n",
      "predicted=11.000000, expected=10.200000\n",
      "predicted=10.200000, expected=8.400000\n",
      "predicted=8.400000, expected=7.900000\n",
      "predicted=7.900000, expected=6.900000\n",
      "predicted=6.900000, expected=6.700000\n",
      "predicted=6.700000, expected=6.700000\n",
      "predicted=6.700000, expected=6.400000\n",
      "predicted=6.400000, expected=6.200000\n",
      "predicted=6.200000, expected=6.000000\n",
      "predicted=6.000000, expected=6.000000\n",
      "predicted=6.000000, expected=5.800000\n",
      "predicted=5.800000, expected=5.900000\n",
      "predicted=5.900000, expected=5.400000\n",
      "predicted=5.400000, expected=5.200000\n",
      "predicted=5.200000, expected=4.700000\n",
      "predicted=4.700000, expected=4.600000\n",
      "predicted=4.600000, expected=4.200000\n",
      "predicted=4.200000, expected=3.900000\n"
     ]
    }
   ],
   "source": [
    "# walk-forward validation\n",
    "for t in range(len(test)):\n",
    "\tmodel = ARIMA(history, order=(0,1,0))\n",
    "\tmodel_fit = model.fit()\n",
    "\toutput = model_fit.forecast()\n",
    "\tyhat = output[0]\n",
    "\tpredictions.append(yhat)\n",
    "\tobs = test[t]\n",
    "\thistory.append(obs)\n",
    "\tprint('predicted=%f, expected=%f' % (yhat, obs))"
   ]
  },
  {
   "cell_type": "code",
   "execution_count": 14,
   "id": "b7465f23",
   "metadata": {},
   "outputs": [
    {
     "name": "stdout",
     "output_type": "stream",
     "text": [
      "Test RMSE: 1.161\n"
     ]
    }
   ],
   "source": [
    "# evaluate forecasts\n",
    "rmse = sqrt(mean_squared_error(test, predictions))\n",
    "print('Test RMSE: %.3f' % rmse)"
   ]
  },
  {
   "cell_type": "code",
   "execution_count": 15,
   "id": "07312d87",
   "metadata": {},
   "outputs": [
    {
     "data": {
      "image/png": "[encoded data removed]",
      "text/plain": [
       "<Figure size 432x288 with 1 Axes>"
      ]
     },
     "metadata": {
      "needs_background": "light"
     },
     "output_type": "display_data"
    }
   ],
   "source": [
    "# plot forecasts against actual outcomes\n",
    "pyplot.plot(test)\n",
    "pyplot.plot(predictions, color='red')\n",
    "pyplot.show()"
   ]
  },
  {
   "cell_type": "markdown",
   "id": "36f8757b",
   "metadata": {},
   "source": [
    "### Predictions ???"
   ]
  },
  {
   "cell_type": "code",
   "execution_count": 16,
   "id": "308b4cc0",
   "metadata": {},
   "outputs": [],
   "source": [
    "# ??"
   ]
  }
 ],
 "metadata": {
  "kernelspec": {
   "display_name": "mlenv",
   "language": "python",
   "name": "mlenv"
  },
  "language_info": {
   "codemirror_mode": {
    "name": "ipython",
    "version": 3
   },
   "file_extension": ".py",
   "mimetype": "text/x-python",
   "name": "python",
   "nbconvert_exporter": "python",
   "pygments_lexer": "ipython3",
   "version": "3.7.11"
  }
 },
 "nbformat": 4,
 "nbformat_minor": 5
}
