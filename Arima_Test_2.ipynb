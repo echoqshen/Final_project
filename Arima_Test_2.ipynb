{
 "cells": [
  {
   "cell_type": "code",
   "execution_count": 1,
   "id": "4ae6e97c",
   "metadata": {},
   "outputs": [
    {
     "name": "stdout",
     "output_type": "stream",
     "text": [
      "Requirement already satisfied: pmdarima in c:\\users\\aaron\\anaconda3\\envs\\mlenv\\lib\\site-packages (1.8.5)\n",
      "Requirement already satisfied: setuptools!=50.0.0,>=38.6.0 in c:\\users\\aaron\\anaconda3\\envs\\mlenv\\lib\\site-packages (from pmdarima) (58.0.4)\n",
      "Requirement already satisfied: scikit-learn>=0.22 in c:\\users\\aaron\\anaconda3\\envs\\mlenv\\lib\\site-packages (from pmdarima) (1.0.2)\n",
      "Requirement already satisfied: numpy>=1.19.3 in c:\\users\\aaron\\anaconda3\\envs\\mlenv\\lib\\site-packages (from pmdarima) (1.20.3)\n",
      "Requirement already satisfied: Cython!=0.29.18,>=0.29 in c:\\users\\aaron\\anaconda3\\envs\\mlenv\\lib\\site-packages (from pmdarima) (0.29.25)\n",
      "Requirement already satisfied: scipy>=1.3.2 in c:\\users\\aaron\\anaconda3\\envs\\mlenv\\lib\\site-packages (from pmdarima) (1.7.3)\n",
      "Requirement already satisfied: statsmodels!=0.12.0,>=0.11 in c:\\users\\aaron\\anaconda3\\envs\\mlenv\\lib\\site-packages (from pmdarima) (0.12.2)\n",
      "Requirement already satisfied: pandas>=0.19 in c:\\users\\aaron\\anaconda3\\envs\\mlenv\\lib\\site-packages (from pmdarima) (1.3.5)\n",
      "Requirement already satisfied: urllib3 in c:\\users\\aaron\\anaconda3\\envs\\mlenv\\lib\\site-packages (from pmdarima) (1.26.7)\n",
      "Requirement already satisfied: joblib>=0.11 in c:\\users\\aaron\\anaconda3\\envs\\mlenv\\lib\\site-packages (from pmdarima) (1.1.0)\n",
      "Requirement already satisfied: pytz>=2017.3 in c:\\users\\aaron\\anaconda3\\envs\\mlenv\\lib\\site-packages (from pandas>=0.19->pmdarima) (2021.3)\n",
      "Requirement already satisfied: python-dateutil>=2.7.3 in c:\\users\\aaron\\anaconda3\\envs\\mlenv\\lib\\site-packages (from pandas>=0.19->pmdarima) (2.8.2)\n",
      "Requirement already satisfied: six>=1.5 in c:\\users\\aaron\\anaconda3\\envs\\mlenv\\lib\\site-packages (from python-dateutil>=2.7.3->pandas>=0.19->pmdarima) (1.16.0)\n",
      "Requirement already satisfied: threadpoolctl>=2.0.0 in c:\\users\\aaron\\anaconda3\\envs\\mlenv\\lib\\site-packages (from scikit-learn>=0.22->pmdarima) (2.2.0)\n",
      "Requirement already satisfied: patsy>=0.5 in c:\\users\\aaron\\anaconda3\\envs\\mlenv\\lib\\site-packages (from statsmodels!=0.12.0,>=0.11->pmdarima) (0.5.2)\n",
      "Note: you may need to restart the kernel to use updated packages.\n"
     ]
    }
   ],
   "source": [
    "pip install pmdarima"
   ]
  },
  {
   "cell_type": "markdown",
   "id": "435870e7",
   "metadata": {},
   "source": [
    "### Read Data"
   ]
  },
  {
   "cell_type": "code",
   "execution_count": 2,
   "id": "836da348",
   "metadata": {},
   "outputs": [
    {
     "name": "stdout",
     "output_type": "stream",
     "text": [
      "Shape of data (264, 11)\n"
     ]
    },
    {
     "data": {
      "text/html": [
       "<div>\n",
       "<style scoped>\n",
       "    .dataframe tbody tr th:only-of-type {\n",
       "        vertical-align: middle;\n",
       "    }\n",
       "\n",
       "    .dataframe tbody tr th {\n",
       "        vertical-align: top;\n",
       "    }\n",
       "\n",
       "    .dataframe thead th {\n",
       "        text-align: right;\n",
       "    }\n",
       "</style>\n",
       "<table border=\"1\" class=\"dataframe\">\n",
       "  <thead>\n",
       "    <tr style=\"text-align: right;\">\n",
       "      <th></th>\n",
       "      <th>Rate_High_School</th>\n",
       "      <th>Rate_Bachelors</th>\n",
       "      <th>Rate_Masters</th>\n",
       "      <th>Rate_Doctoral</th>\n",
       "      <th>Rate_Men</th>\n",
       "      <th>Rate_Women</th>\n",
       "      <th>Rate_Asian</th>\n",
       "      <th>Rate_Black</th>\n",
       "      <th>Rate_White</th>\n",
       "      <th>Rate_Latino</th>\n",
       "      <th>Rate_Overall</th>\n",
       "    </tr>\n",
       "    <tr>\n",
       "      <th>DATE</th>\n",
       "      <th></th>\n",
       "      <th></th>\n",
       "      <th></th>\n",
       "      <th></th>\n",
       "      <th></th>\n",
       "      <th></th>\n",
       "      <th></th>\n",
       "      <th></th>\n",
       "      <th></th>\n",
       "      <th></th>\n",
       "      <th></th>\n",
       "    </tr>\n",
       "  </thead>\n",
       "  <tbody>\n",
       "    <tr>\n",
       "      <th>2000-01-01</th>\n",
       "      <td>3.4</td>\n",
       "      <td>1.8</td>\n",
       "      <td>1.6</td>\n",
       "      <td>1.4</td>\n",
       "      <td>3.9</td>\n",
       "      <td>4.1</td>\n",
       "      <td>4.0</td>\n",
       "      <td>8.2</td>\n",
       "      <td>3.4</td>\n",
       "      <td>5.6</td>\n",
       "      <td>4.0</td>\n",
       "    </tr>\n",
       "    <tr>\n",
       "      <th>2000-02-01</th>\n",
       "      <td>3.4</td>\n",
       "      <td>1.6</td>\n",
       "      <td>1.6</td>\n",
       "      <td>1.4</td>\n",
       "      <td>4.1</td>\n",
       "      <td>4.1</td>\n",
       "      <td>3.4</td>\n",
       "      <td>8.1</td>\n",
       "      <td>3.6</td>\n",
       "      <td>5.7</td>\n",
       "      <td>4.1</td>\n",
       "    </tr>\n",
       "    <tr>\n",
       "      <th>2000-03-01</th>\n",
       "      <td>3.3</td>\n",
       "      <td>1.7</td>\n",
       "      <td>1.7</td>\n",
       "      <td>0.9</td>\n",
       "      <td>3.8</td>\n",
       "      <td>4.3</td>\n",
       "      <td>4.1</td>\n",
       "      <td>7.4</td>\n",
       "      <td>3.5</td>\n",
       "      <td>6.1</td>\n",
       "      <td>4.0</td>\n",
       "    </tr>\n",
       "    <tr>\n",
       "      <th>2000-04-01</th>\n",
       "      <td>3.3</td>\n",
       "      <td>1.5</td>\n",
       "      <td>1.2</td>\n",
       "      <td>0.6</td>\n",
       "      <td>3.7</td>\n",
       "      <td>4.0</td>\n",
       "      <td>3.1</td>\n",
       "      <td>7.0</td>\n",
       "      <td>3.4</td>\n",
       "      <td>5.5</td>\n",
       "      <td>3.8</td>\n",
       "    </tr>\n",
       "    <tr>\n",
       "      <th>2000-05-01</th>\n",
       "      <td>3.4</td>\n",
       "      <td>1.6</td>\n",
       "      <td>1.0</td>\n",
       "      <td>0.8</td>\n",
       "      <td>3.9</td>\n",
       "      <td>4.2</td>\n",
       "      <td>3.5</td>\n",
       "      <td>7.7</td>\n",
       "      <td>3.5</td>\n",
       "      <td>5.8</td>\n",
       "      <td>4.0</td>\n",
       "    </tr>\n",
       "  </tbody>\n",
       "</table>\n",
       "</div>"
      ],
      "text/plain": [
       "            Rate_High_School  Rate_Bachelors  Rate_Masters  Rate_Doctoral  \\\n",
       "DATE                                                                        \n",
       "2000-01-01               3.4             1.8           1.6            1.4   \n",
       "2000-02-01               3.4             1.6           1.6            1.4   \n",
       "2000-03-01               3.3             1.7           1.7            0.9   \n",
       "2000-04-01               3.3             1.5           1.2            0.6   \n",
       "2000-05-01               3.4             1.6           1.0            0.8   \n",
       "\n",
       "            Rate_Men  Rate_Women  Rate_Asian  Rate_Black  Rate_White  \\\n",
       "DATE                                                                   \n",
       "2000-01-01       3.9         4.1         4.0         8.2         3.4   \n",
       "2000-02-01       4.1         4.1         3.4         8.1         3.6   \n",
       "2000-03-01       3.8         4.3         4.1         7.4         3.5   \n",
       "2000-04-01       3.7         4.0         3.1         7.0         3.4   \n",
       "2000-05-01       3.9         4.2         3.5         7.7         3.5   \n",
       "\n",
       "            Rate_Latino  Rate_Overall  \n",
       "DATE                                   \n",
       "2000-01-01          5.6           4.0  \n",
       "2000-02-01          5.7           4.1  \n",
       "2000-03-01          6.1           4.0  \n",
       "2000-04-01          5.5           3.8  \n",
       "2000-05-01          5.8           4.0  "
      ]
     },
     "execution_count": 2,
     "metadata": {},
     "output_type": "execute_result"
    }
   ],
   "source": [
    "# line plot of time series\n",
    "import pandas as pd\n",
    "from pandas import read_csv\n",
    "from matplotlib import pyplot\n",
    "import numpy as np\n",
    "# load dataset\n",
    "df = pd.read_csv('Resources/full.csv', header=0, index_col='DATE', parse_dates=True)\n",
    "df=df.dropna()\n",
    "print('Shape of data', df.shape)\n",
    "\n",
    "# display first few rows\n",
    "df.head()"
   ]
  },
  {
   "cell_type": "markdown",
   "id": "8b818833",
   "metadata": {},
   "source": [
    "### Plot Your Data"
   ]
  },
  {
   "cell_type": "code",
   "execution_count": 3,
   "id": "7db94af6",
   "metadata": {},
   "outputs": [
    {
     "data": {
      "text/plain": [
       "<AxesSubplot:xlabel='DATE'>"
      ]
     },
     "execution_count": 3,
     "metadata": {},
     "output_type": "execute_result"
    },
    {
     "data": {
      "image/png": "[encoded data removed]",
      "text/plain": [
       "<Figure size 864x360 with 1 Axes>"
      ]
     },
     "metadata": {
      "needs_background": "light"
     },
     "output_type": "display_data"
    }
   ],
   "source": [
    "df['Rate_Overall'].plot(figsize=(12,5))"
   ]
  },
  {
   "cell_type": "markdown",
   "id": "4472909c",
   "metadata": {},
   "source": [
    "### Check for Stationarity"
   ]
  },
  {
   "cell_type": "code",
   "execution_count": 4,
   "id": "3eff08b1",
   "metadata": {},
   "outputs": [],
   "source": [
    "from statsmodels.tsa.stattools import adfuller"
   ]
  },
  {
   "cell_type": "code",
   "execution_count": 5,
   "id": "d26603fc",
   "metadata": {},
   "outputs": [],
   "source": [
    "def ad_test(dataset):\n",
    "    dftest = adfuller(dataset, autolag = 'AIC')\n",
    "    print(\"1. ADF : \", dftest[0])\n",
    "    print(\"2. P-Value : \", dftest[1])\n",
    "    print(\"3. Num of Lags : \", dftest[2])\n",
    "    print(\"4. Num Of Observations Used For ADF Regression and Critical Values Calculation :\", dftest[3])\n",
    "    print(\"5. Critical Values :\")\n",
    "    for key, val in dftest[4].items():\n",
    "        print(\"\\t\",key, \": \", val)"
   ]
  },
  {
   "cell_type": "code",
   "execution_count": 6,
   "id": "85f66b9c",
   "metadata": {},
   "outputs": [
    {
     "name": "stdout",
     "output_type": "stream",
     "text": [
      "1. ADF :  -2.92252167817022\n",
      "2. P-Value :  0.04279101681629297\n",
      "3. Num of Lags :  0\n",
      "4. Num Of Observations Used For ADF Regression and Critical Values Calculation : 263\n",
      "5. Critical Values :\n",
      "\t 1% :  -3.4554613060274972\n",
      "\t 5% :  -2.8725931472675046\n",
      "\t 10% :  -2.5726600403359887\n"
     ]
    }
   ],
   "source": [
    "ad_test(df['Rate_Overall'])"
   ]
  },
  {
   "cell_type": "markdown",
   "id": "9124ddc9",
   "metadata": {},
   "source": [
    "### Figure Out Order for ARIMA Model"
   ]
  },
  {
   "cell_type": "code",
   "execution_count": 7,
   "id": "b0637b94",
   "metadata": {},
   "outputs": [],
   "source": [
    "from pmdarima import auto_arima\n",
    "# Ignore harmless warnings\n",
    "import warnings\n",
    "warnings.filterwarnings(\"ignore\")"
   ]
  },
  {
   "cell_type": "code",
   "execution_count": 8,
   "id": "214bec8f",
   "metadata": {},
   "outputs": [
    {
     "name": "stdout",
     "output_type": "stream",
     "text": [
      "Performing stepwise search to minimize aic\n",
      " ARIMA(2,1,2)(0,0,0)[0] intercept   : AIC=inf, Time=0.32 sec\n",
      " ARIMA(0,1,0)(0,0,0)[0] intercept   : AIC=557.473, Time=0.03 sec\n",
      " ARIMA(1,1,0)(0,0,0)[0] intercept   : AIC=559.263, Time=0.03 sec\n",
      " ARIMA(0,1,1)(0,0,0)[0] intercept   : AIC=559.203, Time=0.04 sec\n",
      " ARIMA(0,1,0)(0,0,0)[0]             : AIC=555.474, Time=0.01 sec\n",
      " ARIMA(1,1,1)(0,0,0)[0] intercept   : AIC=558.404, Time=0.10 sec\n",
      "\n",
      "Best model:  ARIMA(0,1,0)(0,0,0)[0]          \n",
      "Total fit time: 0.526 seconds\n"
     ]
    },
    {
     "data": {
      "text/html": [
       "<table class=\"simpletable\">\n",
       "<caption>SARIMAX Results</caption>\n",
       "<tr>\n",
       "  <th>Dep. Variable:</th>           <td>y</td>        <th>  No. Observations:  </th>    <td>264</td>  \n",
       "</tr>\n",
       "<tr>\n",
       "  <th>Model:</th>           <td>SARIMAX(0, 1, 0)</td> <th>  Log Likelihood     </th> <td>-276.737</td>\n",
       "</tr>\n",
       "<tr>\n",
       "  <th>Date:</th>            <td>Sun, 20 Mar 2022</td> <th>  AIC                </th>  <td>555.474</td>\n",
       "</tr>\n",
       "<tr>\n",
       "  <th>Time:</th>                <td>19:57:40</td>     <th>  BIC                </th>  <td>559.046</td>\n",
       "</tr>\n",
       "<tr>\n",
       "  <th>Sample:</th>                  <td>0</td>        <th>  HQIC               </th>  <td>556.909</td>\n",
       "</tr>\n",
       "<tr>\n",
       "  <th></th>                      <td> - 264</td>      <th>                     </th>     <td> </td>   \n",
       "</tr>\n",
       "<tr>\n",
       "  <th>Covariance Type:</th>        <td>opg</td>       <th>                     </th>     <td> </td>   \n",
       "</tr>\n",
       "</table>\n",
       "<table class=\"simpletable\">\n",
       "<tr>\n",
       "     <td></td>       <th>coef</th>     <th>std err</th>      <th>z</th>      <th>P>|z|</th>  <th>[0.025</th>    <th>0.975]</th>  \n",
       "</tr>\n",
       "<tr>\n",
       "  <th>sigma2</th> <td>    0.4803</td> <td>    0.004</td> <td>  110.357</td> <td> 0.000</td> <td>    0.472</td> <td>    0.489</td>\n",
       "</tr>\n",
       "</table>\n",
       "<table class=\"simpletable\">\n",
       "<tr>\n",
       "  <th>Ljung-Box (L1) (Q):</th>     <td>0.21</td>  <th>  Jarque-Bera (JB):  </th> <td>374579.88</td>\n",
       "</tr>\n",
       "<tr>\n",
       "  <th>Prob(Q):</th>                <td>0.64</td>  <th>  Prob(JB):          </th>   <td>0.00</td>   \n",
       "</tr>\n",
       "<tr>\n",
       "  <th>Heteroskedasticity (H):</th> <td>89.15</td> <th>  Skew:              </th>   <td>12.25</td>  \n",
       "</tr>\n",
       "<tr>\n",
       "  <th>Prob(H) (two-sided):</th>    <td>0.00</td>  <th>  Kurtosis:          </th>  <td>186.25</td>  \n",
       "</tr>\n",
       "</table><br/><br/>Warnings:<br/>[1] Covariance matrix calculated using the outer product of gradients (complex-step)."
      ],
      "text/plain": [
       "<class 'statsmodels.iolib.summary.Summary'>\n",
       "\"\"\"\n",
       "                               SARIMAX Results                                \n",
       "==============================================================================\n",
       "Dep. Variable:                      y   No. Observations:                  264\n",
       "Model:               SARIMAX(0, 1, 0)   Log Likelihood                -276.737\n",
       "Date:                Sun, 20 Mar 2022   AIC                            555.474\n",
       "Time:                        19:57:40   BIC                            559.046\n",
       "Sample:                             0   HQIC                           556.909\n",
       "                                - 264                                         \n",
       "Covariance Type:                  opg                                         \n",
       "==============================================================================\n",
       "                 coef    std err          z      P>|z|      [0.025      0.975]\n",
       "------------------------------------------------------------------------------\n",
       "sigma2         0.4803      0.004    110.357      0.000       0.472       0.489\n",
       "===================================================================================\n",
       "Ljung-Box (L1) (Q):                   0.21   Jarque-Bera (JB):            374579.88\n",
       "Prob(Q):                              0.64   Prob(JB):                         0.00\n",
       "Heteroskedasticity (H):              89.15   Skew:                            12.25\n",
       "Prob(H) (two-sided):                  0.00   Kurtosis:                       186.25\n",
       "===================================================================================\n",
       "\n",
       "Warnings:\n",
       "[1] Covariance matrix calculated using the outer product of gradients (complex-step).\n",
       "\"\"\""
      ]
     },
     "execution_count": 8,
     "metadata": {},
     "output_type": "execute_result"
    }
   ],
   "source": [
    "stepwise_fit = auto_arima(df['Rate_Overall'], trace=True,\n",
    "                         suppress_warnings=True)\n",
    "\n",
    "stepwise_fit.summary()"
   ]
  },
  {
   "cell_type": "code",
   "execution_count": 9,
   "id": "892125c5",
   "metadata": {},
   "outputs": [],
   "source": [
    "from statsmodels.tsa.arima.model import ARIMA"
   ]
  },
  {
   "cell_type": "markdown",
   "id": "33f0f5e9",
   "metadata": {},
   "source": [
    "### Split Data into Training and Testing"
   ]
  },
  {
   "cell_type": "code",
   "execution_count": 10,
   "id": "1cd858d6",
   "metadata": {},
   "outputs": [
    {
     "name": "stdout",
     "output_type": "stream",
     "text": [
      "(264, 11)\n",
      "(252, 11) (12, 11)\n"
     ]
    }
   ],
   "source": [
    "print(df.shape)\n",
    "train = df.iloc[:-12]\n",
    "test = df.iloc[-12:]\n",
    "print(train.shape,test.shape)"
   ]
  },
  {
   "cell_type": "markdown",
   "id": "14ec9801",
   "metadata": {},
   "source": [
    "### Train the Model"
   ]
  },
  {
   "cell_type": "code",
   "execution_count": 11,
   "id": "4edc8c79",
   "metadata": {},
   "outputs": [
    {
     "data": {
      "text/html": [
       "<table class=\"simpletable\">\n",
       "<caption>SARIMAX Results</caption>\n",
       "<tr>\n",
       "  <th>Dep. Variable:</th>     <td>Rate_Overall</td>   <th>  No. Observations:  </th>    <td>252</td>  \n",
       "</tr>\n",
       "<tr>\n",
       "  <th>Model:</th>            <td>ARIMA(0, 1, 0)</td>  <th>  Log Likelihood     </th> <td>-268.953</td>\n",
       "</tr>\n",
       "<tr>\n",
       "  <th>Date:</th>            <td>Sun, 20 Mar 2022</td> <th>  AIC                </th>  <td>539.907</td>\n",
       "</tr>\n",
       "<tr>\n",
       "  <th>Time:</th>                <td>19:57:40</td>     <th>  BIC                </th>  <td>543.432</td>\n",
       "</tr>\n",
       "<tr>\n",
       "  <th>Sample:</th>             <td>01-01-2000</td>    <th>  HQIC               </th>  <td>541.326</td>\n",
       "</tr>\n",
       "<tr>\n",
       "  <th></th>                   <td>- 12-01-2020</td>   <th>                     </th>     <td> </td>   \n",
       "</tr>\n",
       "<tr>\n",
       "  <th>Covariance Type:</th>        <td>opg</td>       <th>                     </th>     <td> </td>   \n",
       "</tr>\n",
       "</table>\n",
       "<table class=\"simpletable\">\n",
       "<tr>\n",
       "     <td></td>       <th>coef</th>     <th>std err</th>      <th>z</th>      <th>P>|z|</th>  <th>[0.025</th>    <th>0.975]</th>  \n",
       "</tr>\n",
       "<tr>\n",
       "  <th>sigma2</th> <td>    0.4992</td> <td>    0.005</td> <td>  106.169</td> <td> 0.000</td> <td>    0.490</td> <td>    0.508</td>\n",
       "</tr>\n",
       "</table>\n",
       "<table class=\"simpletable\">\n",
       "<tr>\n",
       "  <th>Ljung-Box (L1) (Q):</th>     <td>0.16</td>  <th>  Jarque-Bera (JB):  </th> <td>333673.32</td>\n",
       "</tr>\n",
       "<tr>\n",
       "  <th>Prob(Q):</th>                <td>0.69</td>  <th>  Prob(JB):          </th>   <td>0.00</td>   \n",
       "</tr>\n",
       "<tr>\n",
       "  <th>Heteroskedasticity (H):</th> <td>91.33</td> <th>  Skew:              </th>   <td>12.07</td>  \n",
       "</tr>\n",
       "<tr>\n",
       "  <th>Prob(H) (two-sided):</th>    <td>0.00</td>  <th>  Kurtosis:          </th>  <td>179.98</td>  \n",
       "</tr>\n",
       "</table><br/><br/>Warnings:<br/>[1] Covariance matrix calculated using the outer product of gradients (complex-step)."
      ],
      "text/plain": [
       "<class 'statsmodels.iolib.summary.Summary'>\n",
       "\"\"\"\n",
       "                               SARIMAX Results                                \n",
       "==============================================================================\n",
       "Dep. Variable:           Rate_Overall   No. Observations:                  252\n",
       "Model:                 ARIMA(0, 1, 0)   Log Likelihood                -268.953\n",
       "Date:                Sun, 20 Mar 2022   AIC                            539.907\n",
       "Time:                        19:57:40   BIC                            543.432\n",
       "Sample:                    01-01-2000   HQIC                           541.326\n",
       "                         - 12-01-2020                                         \n",
       "Covariance Type:                  opg                                         \n",
       "==============================================================================\n",
       "                 coef    std err          z      P>|z|      [0.025      0.975]\n",
       "------------------------------------------------------------------------------\n",
       "sigma2         0.4992      0.005    106.169      0.000       0.490       0.508\n",
       "===================================================================================\n",
       "Ljung-Box (L1) (Q):                   0.16   Jarque-Bera (JB):            333673.32\n",
       "Prob(Q):                              0.69   Prob(JB):                         0.00\n",
       "Heteroskedasticity (H):              91.33   Skew:                            12.07\n",
       "Prob(H) (two-sided):                  0.00   Kurtosis:                       179.98\n",
       "===================================================================================\n",
       "\n",
       "Warnings:\n",
       "[1] Covariance matrix calculated using the outer product of gradients (complex-step).\n",
       "\"\"\""
      ]
     },
     "execution_count": 11,
     "metadata": {},
     "output_type": "execute_result"
    }
   ],
   "source": [
    "model=ARIMA(train['Rate_Overall'], order=(0,1,0))\n",
    "model=model.fit()\n",
    "model.summary()"
   ]
  },
  {
   "cell_type": "markdown",
   "id": "ed64ac2a",
   "metadata": {},
   "source": [
    "### Make Predictions on Test Set"
   ]
  },
  {
   "cell_type": "code",
   "execution_count": 12,
   "id": "253b6bf8",
   "metadata": {},
   "outputs": [
    {
     "name": "stdout",
     "output_type": "stream",
     "text": [
      "DATE\n",
      "2021-01-01    6.7\n",
      "2021-02-01    6.7\n",
      "2021-03-01    6.7\n",
      "2021-04-01    6.7\n",
      "2021-05-01    6.7\n",
      "2021-06-01    6.7\n",
      "2021-07-01    6.7\n",
      "2021-08-01    6.7\n",
      "2021-09-01    6.7\n",
      "2021-10-01    6.7\n",
      "2021-11-01    6.7\n",
      "2021-12-01    6.7\n",
      "Name: predicted_mean, dtype: float64\n"
     ]
    }
   ],
   "source": [
    "start = len(train)\n",
    "end = len(train) + len(test) - 1\n",
    "pred = model.predict(start=start, end=end, typ='levels')\n",
    "#print(pred)\n",
    "pred.index=df.index[start:end+1]\n",
    "print(pred)"
   ]
  },
  {
   "cell_type": "code",
   "execution_count": 13,
   "id": "495d4450",
   "metadata": {},
   "outputs": [
    {
     "data": {
      "text/plain": [
       "<AxesSubplot:xlabel='DATE'>"
      ]
     },
     "execution_count": 13,
     "metadata": {},
     "output_type": "execute_result"
    },
    {
     "data": {
      "image/png": "[encoded data removed]",
      "text/plain": [
       "<Figure size 432x288 with 1 Axes>"
      ]
     },
     "metadata": {
      "needs_background": "light"
     },
     "output_type": "display_data"
    }
   ],
   "source": [
    "pred.plot(legend=True)\n",
    "test['Rate_Overall'].plot(legend=True)"
   ]
  },
  {
   "cell_type": "code",
   "execution_count": 14,
   "id": "51c5d3c1",
   "metadata": {},
   "outputs": [
    {
     "data": {
      "text/plain": [
       "5.358333333333334"
      ]
     },
     "execution_count": 14,
     "metadata": {},
     "output_type": "execute_result"
    }
   ],
   "source": [
    "test['Rate_Overall'].mean()"
   ]
  },
  {
   "cell_type": "code",
   "execution_count": 15,
   "id": "87a734ec",
   "metadata": {},
   "outputs": [
    {
     "name": "stdout",
     "output_type": "stream",
     "text": [
      "1.5601816133600177\n"
     ]
    }
   ],
   "source": [
    "from sklearn.metrics import mean_squared_error\n",
    "from math import sqrt\n",
    "rmse=sqrt(mean_squared_error(pred,test['Rate_Overall']))\n",
    "print(rmse)"
   ]
  },
  {
   "cell_type": "code",
   "execution_count": 16,
   "id": "3ad8c037",
   "metadata": {},
   "outputs": [
    {
     "data": {
      "text/html": [
       "<div>\n",
       "<style scoped>\n",
       "    .dataframe tbody tr th:only-of-type {\n",
       "        vertical-align: middle;\n",
       "    }\n",
       "\n",
       "    .dataframe tbody tr th {\n",
       "        vertical-align: top;\n",
       "    }\n",
       "\n",
       "    .dataframe thead th {\n",
       "        text-align: right;\n",
       "    }\n",
       "</style>\n",
       "<table border=\"1\" class=\"dataframe\">\n",
       "  <thead>\n",
       "    <tr style=\"text-align: right;\">\n",
       "      <th></th>\n",
       "      <th>Rate_High_School</th>\n",
       "      <th>Rate_Bachelors</th>\n",
       "      <th>Rate_Masters</th>\n",
       "      <th>Rate_Doctoral</th>\n",
       "      <th>Rate_Men</th>\n",
       "      <th>Rate_Women</th>\n",
       "      <th>Rate_Asian</th>\n",
       "      <th>Rate_Black</th>\n",
       "      <th>Rate_White</th>\n",
       "      <th>Rate_Latino</th>\n",
       "      <th>Rate_Overall</th>\n",
       "    </tr>\n",
       "    <tr>\n",
       "      <th>DATE</th>\n",
       "      <th></th>\n",
       "      <th></th>\n",
       "      <th></th>\n",
       "      <th></th>\n",
       "      <th></th>\n",
       "      <th></th>\n",
       "      <th></th>\n",
       "      <th></th>\n",
       "      <th></th>\n",
       "      <th></th>\n",
       "      <th></th>\n",
       "    </tr>\n",
       "  </thead>\n",
       "  <tbody>\n",
       "    <tr>\n",
       "      <th>2021-08-01</th>\n",
       "      <td>5.9</td>\n",
       "      <td>2.7</td>\n",
       "      <td>2.5</td>\n",
       "      <td>1.7</td>\n",
       "      <td>5.3</td>\n",
       "      <td>5.0</td>\n",
       "      <td>4.6</td>\n",
       "      <td>8.7</td>\n",
       "      <td>4.5</td>\n",
       "      <td>6.2</td>\n",
       "      <td>5.2</td>\n",
       "    </tr>\n",
       "    <tr>\n",
       "      <th>2021-09-01</th>\n",
       "      <td>5.7</td>\n",
       "      <td>2.5</td>\n",
       "      <td>2.1</td>\n",
       "      <td>1.6</td>\n",
       "      <td>5.0</td>\n",
       "      <td>4.5</td>\n",
       "      <td>4.1</td>\n",
       "      <td>7.8</td>\n",
       "      <td>4.2</td>\n",
       "      <td>6.1</td>\n",
       "      <td>4.7</td>\n",
       "    </tr>\n",
       "    <tr>\n",
       "      <th>2021-10-01</th>\n",
       "      <td>5.4</td>\n",
       "      <td>2.4</td>\n",
       "      <td>1.8</td>\n",
       "      <td>1.2</td>\n",
       "      <td>4.5</td>\n",
       "      <td>4.6</td>\n",
       "      <td>4.1</td>\n",
       "      <td>7.8</td>\n",
       "      <td>3.9</td>\n",
       "      <td>5.7</td>\n",
       "      <td>4.6</td>\n",
       "    </tr>\n",
       "    <tr>\n",
       "      <th>2021-11-01</th>\n",
       "      <td>5.2</td>\n",
       "      <td>2.2</td>\n",
       "      <td>1.5</td>\n",
       "      <td>0.9</td>\n",
       "      <td>4.2</td>\n",
       "      <td>4.2</td>\n",
       "      <td>3.7</td>\n",
       "      <td>6.5</td>\n",
       "      <td>3.7</td>\n",
       "      <td>5.2</td>\n",
       "      <td>4.2</td>\n",
       "    </tr>\n",
       "    <tr>\n",
       "      <th>2021-12-01</th>\n",
       "      <td>4.6</td>\n",
       "      <td>2.1</td>\n",
       "      <td>1.2</td>\n",
       "      <td>1.1</td>\n",
       "      <td>3.9</td>\n",
       "      <td>3.9</td>\n",
       "      <td>3.6</td>\n",
       "      <td>7.1</td>\n",
       "      <td>3.2</td>\n",
       "      <td>4.9</td>\n",
       "      <td>3.9</td>\n",
       "    </tr>\n",
       "  </tbody>\n",
       "</table>\n",
       "</div>"
      ],
      "text/plain": [
       "            Rate_High_School  Rate_Bachelors  Rate_Masters  Rate_Doctoral  \\\n",
       "DATE                                                                        \n",
       "2021-08-01               5.9             2.7           2.5            1.7   \n",
       "2021-09-01               5.7             2.5           2.1            1.6   \n",
       "2021-10-01               5.4             2.4           1.8            1.2   \n",
       "2021-11-01               5.2             2.2           1.5            0.9   \n",
       "2021-12-01               4.6             2.1           1.2            1.1   \n",
       "\n",
       "            Rate_Men  Rate_Women  Rate_Asian  Rate_Black  Rate_White  \\\n",
       "DATE                                                                   \n",
       "2021-08-01       5.3         5.0         4.6         8.7         4.5   \n",
       "2021-09-01       5.0         4.5         4.1         7.8         4.2   \n",
       "2021-10-01       4.5         4.6         4.1         7.8         3.9   \n",
       "2021-11-01       4.2         4.2         3.7         6.5         3.7   \n",
       "2021-12-01       3.9         3.9         3.6         7.1         3.2   \n",
       "\n",
       "            Rate_Latino  Rate_Overall  \n",
       "DATE                                   \n",
       "2021-08-01          6.2           5.2  \n",
       "2021-09-01          6.1           4.7  \n",
       "2021-10-01          5.7           4.6  \n",
       "2021-11-01          5.2           4.2  \n",
       "2021-12-01          4.9           3.9  "
      ]
     },
     "execution_count": 16,
     "metadata": {},
     "output_type": "execute_result"
    }
   ],
   "source": [
    "model2=ARIMA(df['Rate_Overall'], order=(0,1,0))\n",
    "model2=model2.fit()\n",
    "df.tail()"
   ]
  },
  {
   "cell_type": "markdown",
   "id": "fd46b100",
   "metadata": {},
   "source": [
    "### For Future Dates"
   ]
  },
  {
   "cell_type": "code",
   "execution_count": 17,
   "id": "9add1959",
   "metadata": {},
   "outputs": [
    {
     "name": "stdout",
     "output_type": "stream",
     "text": [
      "2021-12-01    3.9\n",
      "2021-12-02    3.9\n",
      "2021-12-03    3.9\n",
      "2021-12-04    3.9\n",
      "2021-12-05    3.9\n",
      "2021-12-06    3.9\n",
      "2021-12-07    3.9\n",
      "2021-12-08    3.9\n",
      "2021-12-09    3.9\n",
      "2021-12-10    3.9\n",
      "2021-12-11    3.9\n",
      "2021-12-12    3.9\n",
      "2021-12-13    3.9\n",
      "2021-12-14    3.9\n",
      "2021-12-15    3.9\n",
      "2021-12-16    3.9\n",
      "2021-12-17    3.9\n",
      "2021-12-18    3.9\n",
      "2021-12-19    3.9\n",
      "2021-12-20    3.9\n",
      "2021-12-21    3.9\n",
      "2021-12-22    3.9\n",
      "2021-12-23    3.9\n",
      "2021-12-24    3.9\n",
      "2021-12-25    3.9\n",
      "2021-12-26    3.9\n",
      "2021-12-27    3.9\n",
      "2021-12-28    3.9\n",
      "2021-12-29    3.9\n",
      "2021-12-30    3.9\n",
      "2021-12-31    3.9\n",
      "2022-01-01    3.9\n",
      "Freq: D, Name: ARIMA Predictions, dtype: float64\n"
     ]
    }
   ],
   "source": [
    "index_future_dates=pd.date_range(start='2021-12-01', end='2022-01-01')\n",
    "#print(index_future_dates)\n",
    "pred=model2.predict(start=len(df), end=len(df)+31, typ='levels').rename('ARIMA Predictions')\n",
    "#print(comp_pred)\n",
    "pred.index=index_future_dates\n",
    "print(pred)"
   ]
  }
 ],
 "metadata": {
  "kernelspec": {
   "display_name": "mlenv",
   "language": "python",
   "name": "mlenv"
  },
  "language_info": {
   "codemirror_mode": {
    "name": "ipython",
    "version": 3
   },
   "file_extension": ".py",
   "mimetype": "text/x-python",
   "name": "python",
   "nbconvert_exporter": "python",
   "pygments_lexer": "ipython3",
   "version": "3.7.11"
  }
 },
 "nbformat": 4,
 "nbformat_minor": 5
}
