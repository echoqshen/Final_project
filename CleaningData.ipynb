{
 "cells": [
  {
   "cell_type": "code",
   "execution_count": 15,
   "id": "061b00a1",
   "metadata": {},
   "outputs": [],
   "source": [
    "import pandas as pd"
   ]
  },
  {
   "cell_type": "code",
   "execution_count": 16,
   "id": "820fa2f9",
   "metadata": {},
   "outputs": [],
   "source": [
    "asian = pd.read_csv('Resources/asian.csv')\n",
    "black = pd.read_csv('Resources/black.csv')\n",
    "white = pd.read_csv('Resources/black.csv')"
   ]
  },
  {
   "cell_type": "code",
   "execution_count": 17,
   "id": "742596c9",
   "metadata": {},
   "outputs": [],
   "source": [
    "#combine the race based dataframes to ensure merge is working\n",
    "race = asian.merge(black, on='DATE').merge(white, on='DATE')"
   ]
  },
  {
   "cell_type": "code",
   "execution_count": 18,
   "id": "71a5999f",
   "metadata": {},
   "outputs": [
    {
     "data": {
      "text/html": [
       "<div>\n",
       "<style scoped>\n",
       "    .dataframe tbody tr th:only-of-type {\n",
       "        vertical-align: middle;\n",
       "    }\n",
       "\n",
       "    .dataframe tbody tr th {\n",
       "        vertical-align: top;\n",
       "    }\n",
       "\n",
       "    .dataframe thead th {\n",
       "        text-align: right;\n",
       "    }\n",
       "</style>\n",
       "<table border=\"1\" class=\"dataframe\">\n",
       "  <thead>\n",
       "    <tr style=\"text-align: right;\">\n",
       "      <th></th>\n",
       "      <th>DATE</th>\n",
       "      <th>ASIAN</th>\n",
       "      <th>BLACK_x</th>\n",
       "      <th>BLACK_y</th>\n",
       "    </tr>\n",
       "  </thead>\n",
       "  <tbody>\n",
       "    <tr>\n",
       "      <th>0</th>\n",
       "      <td>1/1/2003</td>\n",
       "      <td>5.5</td>\n",
       "      <td>10.5</td>\n",
       "      <td>10.5</td>\n",
       "    </tr>\n",
       "    <tr>\n",
       "      <th>1</th>\n",
       "      <td>2/1/2003</td>\n",
       "      <td>5.8</td>\n",
       "      <td>10.7</td>\n",
       "      <td>10.7</td>\n",
       "    </tr>\n",
       "    <tr>\n",
       "      <th>2</th>\n",
       "      <td>3/1/2003</td>\n",
       "      <td>6.5</td>\n",
       "      <td>10.3</td>\n",
       "      <td>10.3</td>\n",
       "    </tr>\n",
       "    <tr>\n",
       "      <th>3</th>\n",
       "      <td>4/1/2003</td>\n",
       "      <td>6.0</td>\n",
       "      <td>10.9</td>\n",
       "      <td>10.9</td>\n",
       "    </tr>\n",
       "    <tr>\n",
       "      <th>4</th>\n",
       "      <td>5/1/2003</td>\n",
       "      <td>5.5</td>\n",
       "      <td>10.9</td>\n",
       "      <td>10.9</td>\n",
       "    </tr>\n",
       "  </tbody>\n",
       "</table>\n",
       "</div>"
      ],
      "text/plain": [
       "       DATE  ASIAN  BLACK_x  BLACK_y\n",
       "0  1/1/2003    5.5     10.5     10.5\n",
       "1  2/1/2003    5.8     10.7     10.7\n",
       "2  3/1/2003    6.5     10.3     10.3\n",
       "3  4/1/2003    6.0     10.9     10.9\n",
       "4  5/1/2003    5.5     10.9     10.9"
      ]
     },
     "execution_count": 18,
     "metadata": {},
     "output_type": "execute_result"
    }
   ],
   "source": [
    "race.head()"
   ]
  },
  {
   "cell_type": "code",
   "execution_count": 19,
   "id": "b3eded29",
   "metadata": {},
   "outputs": [],
   "source": [
    "#read the gender dfs in\n",
    "men = pd.read_csv('Resources/men_rate.csv')\n",
    "women = pd.read_csv('Resources/women_rate.csv')"
   ]
  },
  {
   "cell_type": "code",
   "execution_count": 20,
   "id": "573f0e3d",
   "metadata": {},
   "outputs": [
    {
     "data": {
      "text/html": [
       "<div>\n",
       "<style scoped>\n",
       "    .dataframe tbody tr th:only-of-type {\n",
       "        vertical-align: middle;\n",
       "    }\n",
       "\n",
       "    .dataframe tbody tr th {\n",
       "        vertical-align: top;\n",
       "    }\n",
       "\n",
       "    .dataframe thead th {\n",
       "        text-align: right;\n",
       "    }\n",
       "</style>\n",
       "<table border=\"1\" class=\"dataframe\">\n",
       "  <thead>\n",
       "    <tr style=\"text-align: right;\">\n",
       "      <th></th>\n",
       "      <th>DATE</th>\n",
       "      <th>MEN</th>\n",
       "      <th>WOMEN</th>\n",
       "    </tr>\n",
       "  </thead>\n",
       "  <tbody>\n",
       "    <tr>\n",
       "      <th>0</th>\n",
       "      <td>1/1/2000</td>\n",
       "      <td>3.9</td>\n",
       "      <td>4.1</td>\n",
       "    </tr>\n",
       "    <tr>\n",
       "      <th>1</th>\n",
       "      <td>2/1/2000</td>\n",
       "      <td>4.1</td>\n",
       "      <td>4.1</td>\n",
       "    </tr>\n",
       "    <tr>\n",
       "      <th>2</th>\n",
       "      <td>3/1/2000</td>\n",
       "      <td>3.8</td>\n",
       "      <td>4.3</td>\n",
       "    </tr>\n",
       "    <tr>\n",
       "      <th>3</th>\n",
       "      <td>4/1/2000</td>\n",
       "      <td>3.7</td>\n",
       "      <td>4.0</td>\n",
       "    </tr>\n",
       "    <tr>\n",
       "      <th>4</th>\n",
       "      <td>5/1/2000</td>\n",
       "      <td>3.9</td>\n",
       "      <td>4.2</td>\n",
       "    </tr>\n",
       "  </tbody>\n",
       "</table>\n",
       "</div>"
      ],
      "text/plain": [
       "       DATE  MEN  WOMEN\n",
       "0  1/1/2000  3.9    4.1\n",
       "1  2/1/2000  4.1    4.1\n",
       "2  3/1/2000  3.8    4.3\n",
       "3  4/1/2000  3.7    4.0\n",
       "4  5/1/2000  3.9    4.2"
      ]
     },
     "execution_count": 20,
     "metadata": {},
     "output_type": "execute_result"
    }
   ],
   "source": [
    "#combine the gender dfs into one dataframe for easy viewing\n",
    "gender_df = men.merge(women, how='outer', on='DATE')\n",
    "gender_df.head()"
   ]
  },
  {
   "cell_type": "code",
   "execution_count": 21,
   "id": "be559713",
   "metadata": {},
   "outputs": [],
   "source": [
    "#read in the education csv files for unemployment\n",
    "highschool = pd.read_csv('Resources/highschool.csv')\n",
    "bachelors = pd.read_csv('Resources/bachelors.csv')\n",
    "masters = pd.read_csv('Resources/masters.csv')\n",
    "doctorate = pd.read_csv('Resources/doctorals.csv')"
   ]
  },
  {
   "cell_type": "code",
   "execution_count": 22,
   "id": "ed47ee50",
   "metadata": {},
   "outputs": [
    {
     "data": {
      "text/html": [
       "<div>\n",
       "<style scoped>\n",
       "    .dataframe tbody tr th:only-of-type {\n",
       "        vertical-align: middle;\n",
       "    }\n",
       "\n",
       "    .dataframe tbody tr th {\n",
       "        vertical-align: top;\n",
       "    }\n",
       "\n",
       "    .dataframe thead th {\n",
       "        text-align: right;\n",
       "    }\n",
       "</style>\n",
       "<table border=\"1\" class=\"dataframe\">\n",
       "  <thead>\n",
       "    <tr style=\"text-align: right;\">\n",
       "      <th></th>\n",
       "      <th>DATE</th>\n",
       "      <th>HIGH SCHOOL</th>\n",
       "      <th>BACHELORS</th>\n",
       "      <th>MASTERS</th>\n",
       "      <th>DOCTORAL</th>\n",
       "    </tr>\n",
       "  </thead>\n",
       "  <tbody>\n",
       "    <tr>\n",
       "      <th>0</th>\n",
       "      <td>1/1/2000</td>\n",
       "      <td>3.4</td>\n",
       "      <td>1.8</td>\n",
       "      <td>1.6</td>\n",
       "      <td>1.4</td>\n",
       "    </tr>\n",
       "    <tr>\n",
       "      <th>1</th>\n",
       "      <td>2/1/2000</td>\n",
       "      <td>3.4</td>\n",
       "      <td>1.6</td>\n",
       "      <td>1.6</td>\n",
       "      <td>1.4</td>\n",
       "    </tr>\n",
       "    <tr>\n",
       "      <th>2</th>\n",
       "      <td>3/1/2000</td>\n",
       "      <td>3.3</td>\n",
       "      <td>1.7</td>\n",
       "      <td>1.7</td>\n",
       "      <td>0.9</td>\n",
       "    </tr>\n",
       "    <tr>\n",
       "      <th>3</th>\n",
       "      <td>4/1/2000</td>\n",
       "      <td>3.3</td>\n",
       "      <td>1.5</td>\n",
       "      <td>1.2</td>\n",
       "      <td>0.6</td>\n",
       "    </tr>\n",
       "    <tr>\n",
       "      <th>4</th>\n",
       "      <td>5/1/2000</td>\n",
       "      <td>3.4</td>\n",
       "      <td>1.6</td>\n",
       "      <td>1.0</td>\n",
       "      <td>0.8</td>\n",
       "    </tr>\n",
       "  </tbody>\n",
       "</table>\n",
       "</div>"
      ],
      "text/plain": [
       "       DATE  HIGH SCHOOL  BACHELORS  MASTERS  DOCTORAL\n",
       "0  1/1/2000          3.4        1.8      1.6       1.4\n",
       "1  2/1/2000          3.4        1.6      1.6       1.4\n",
       "2  3/1/2000          3.3        1.7      1.7       0.9\n",
       "3  4/1/2000          3.3        1.5      1.2       0.6\n",
       "4  5/1/2000          3.4        1.6      1.0       0.8"
      ]
     },
     "execution_count": 22,
     "metadata": {},
     "output_type": "execute_result"
    }
   ],
   "source": [
    "#combine all three dataframes for database purpose\n",
    "education = highschool.merge(bachelors,on='DATE').merge(masters,on='DATE').merge(doctorate,on='DATE')\n",
    "education.head()"
   ]
  }
 ],
 "metadata": {
  "interpreter": {
   "hash": "66b7490794c447b61b40bf1e084e0e2a67cc317a6a0f1e4466b31137ae34506c"
  },
  "kernelspec": {
   "display_name": "PythonData",
   "language": "python",
   "name": "python3"
  },
  "language_info": {
   "codemirror_mode": {
    "name": "ipython",
    "version": 3
   },
   "file_extension": ".py",
   "mimetype": "text/x-python",
   "name": "python",
   "nbconvert_exporter": "python",
   "pygments_lexer": "ipython3",
   "version": "3.7.10"
  }
 },
 "nbformat": 4,
 "nbformat_minor": 5
}
