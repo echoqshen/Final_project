{
 "cells": [
  {
   "cell_type": "code",
   "execution_count": 1,
   "id": "ce2caac9",
   "metadata": {},
   "outputs": [
    {
     "name": "stdout",
     "output_type": "stream",
     "text": [
      "           Rate_Overall\n",
      "DATE                   \n",
      "1/1/2000            4.0\n",
      "2/1/2000            4.1\n",
      "3/1/2000            4.0\n",
      "4/1/2000            3.8\n",
      "5/1/2000            4.0\n",
      "6/1/2000            4.0\n",
      "7/1/2000            4.0\n",
      "8/1/2000            4.1\n",
      "9/1/2000            3.9\n",
      "10/1/2000           3.9\n",
      "11/1/2000           3.9\n",
      "12/1/2000           3.9\n",
      "1/1/2001            4.2\n",
      "2/1/2001            4.2\n",
      "3/1/2001            4.3\n",
      "4/1/2001            4.4\n",
      "5/1/2001            4.3\n",
      "6/1/2001            4.5\n",
      "7/1/2001            4.6\n",
      "8/1/2001            4.9\n"
     ]
    }
   ],
   "source": [
    "# line plot of time series\n",
    "import pandas as pd\n",
    "from pandas import read_csv\n",
    "from matplotlib import pyplot\n",
    "# load dataset\n",
    "series = read_csv('Resources/overall_monthly.csv', header=0, index_col=0)\n",
    "# display first few rows\n",
    "print(series.head(20))"
   ]
  },
  {
   "cell_type": "code",
   "execution_count": 2,
   "id": "5f71374f",
   "metadata": {},
   "outputs": [
    {
     "data": {
      "image/png": "[encoded data removed]",
      "text/plain": [
       "<Figure size 432x288 with 1 Axes>"
      ]
     },
     "metadata": {
      "needs_background": "light"
     },
     "output_type": "display_data"
    }
   ],
   "source": [
    "# line plot of dataset\n",
    "series.plot()\n",
    "pyplot.show()"
   ]
  },
  {
   "cell_type": "markdown",
   "id": "280419a5",
   "metadata": {},
   "source": [
    "## Split the Dataset"
   ]
  },
  {
   "cell_type": "code",
   "execution_count": 3,
   "id": "956da704",
   "metadata": {},
   "outputs": [
    {
     "name": "stdout",
     "output_type": "stream",
     "text": [
      "Dataset 252, Validation 12\n"
     ]
    }
   ],
   "source": [
    "# split the dataset\n",
    "split_point = len(series) - 12\n",
    "dataset, validation = series[0:split_point], series[split_point:]\n",
    "print('Dataset %d, Validation %d' % (len(dataset), len(validation)))"
   ]
  },
  {
   "cell_type": "code",
   "execution_count": 4,
   "id": "d23dd458",
   "metadata": {},
   "outputs": [],
   "source": [
    "dataset.to_csv('dataset.csv', index=False)\n",
    "validation.to_csv('validation.csv', index=False)"
   ]
  },
  {
   "cell_type": "markdown",
   "id": "062abc12",
   "metadata": {},
   "source": [
    "## Develop the Model"
   ]
  },
  {
   "cell_type": "code",
   "execution_count": 5,
   "id": "e1072a2b",
   "metadata": {},
   "outputs": [],
   "source": [
    "# create a differenced series\n",
    "def difference(dataset, interval=1):\n",
    "    diff = list()\n",
    "    for i in range(interval, len(dataset)):\n",
    "        value = dataset[i] - dataset[i - interval]\n",
    "        diff.append(value)\n",
    "    return numpy.array(diff)"
   ]
  },
  {
   "cell_type": "code",
   "execution_count": 6,
   "id": "a84d0691",
   "metadata": {},
   "outputs": [],
   "source": [
    "# invert differenced value\n",
    "def inverse_difference(history, yhat, interval=1):\n",
    "    return yhat + history[-interval]"
   ]
  },
  {
   "cell_type": "code",
   "execution_count": 7,
   "id": "0a95fb00",
   "metadata": {},
   "outputs": [],
   "source": [
    "from statsmodels.tsa.arima.model import ARIMA\n",
    "import numpy\n",
    " \n",
    "# create a differenced series\n",
    "def difference(dataset, interval=1):\n",
    "    diff = list()\n",
    "    for i in range(interval, len(dataset)):\n",
    "        value = dataset[i] - dataset[i - interval]\n",
    "        diff.append(value)\n",
    "    return numpy.array(diff)"
   ]
  },
  {
   "cell_type": "code",
   "execution_count": 8,
   "id": "18ba1087",
   "metadata": {},
   "outputs": [
    {
     "name": "stdout",
     "output_type": "stream",
     "text": [
      "                               SARIMAX Results                                \n",
      "==============================================================================\n",
      "Dep. Variable:                      y   No. Observations:                  240\n",
      "Model:                 ARIMA(0, 1, 0)   Log Likelihood                -271.408\n",
      "Date:                Sun, 20 Mar 2022   AIC                            544.816\n",
      "Time:                        19:46:42   BIC                            548.292\n",
      "Sample:                             0   HQIC                           546.217\n",
      "                                - 240                                         \n",
      "Covariance Type:                  opg                                         \n",
      "==============================================================================\n",
      "                 coef    std err          z      P>|z|      [0.025      0.975]\n",
      "------------------------------------------------------------------------------\n",
      "sigma2         0.5674      0.006     97.020      0.000       0.556       0.579\n",
      "===================================================================================\n",
      "Ljung-Box (L1) (Q):                   0.08   Jarque-Bera (JB):            243840.50\n",
      "Prob(Q):                              0.78   Prob(JB):                         0.00\n",
      "Heteroskedasticity (H):              50.19   Skew:                            11.08\n",
      "Prob(H) (two-sided):                  0.00   Kurtosis:                       157.90\n",
      "===================================================================================\n",
      "\n",
      "Warnings:\n",
      "[1] Covariance matrix calculated using the outer product of gradients (complex-step).\n"
     ]
    }
   ],
   "source": [
    "import warnings\n",
    "warnings.filterwarnings('ignore')\n",
    "# load dataset\n",
    "series1 = read_csv('dataset.csv', header=0)\n",
    "# seasonal difference\n",
    "X = series1.values\n",
    "months_in_year = 12\n",
    "differenced = difference(X, months_in_year)\n",
    "# fit model\n",
    "model = ARIMA(differenced, order=(0,1,0))\n",
    "model_fit = model.fit()\n",
    "# print summary of fit model\n",
    "print(model_fit.summary())"
   ]
  },
  {
   "cell_type": "markdown",
   "id": "55fe8b76",
   "metadata": {},
   "source": [
    "## One-Step-Out-of-Sample Forecast"
   ]
  },
  {
   "cell_type": "markdown",
   "id": "e021c909",
   "metadata": {},
   "source": [
    "### Forecast Function"
   ]
  },
  {
   "cell_type": "code",
   "execution_count": 9,
   "id": "b23aeea1",
   "metadata": {},
   "outputs": [],
   "source": [
    "# one-step out-of sample forecast\n",
    "forecast = model_fit.forecast()[0]"
   ]
  },
  {
   "cell_type": "code",
   "execution_count": 10,
   "id": "aca56cbd",
   "metadata": {},
   "outputs": [],
   "source": [
    "# invert the differenced forecast to something usable\n",
    "forecast = inverse_difference(X, forecast, months_in_year)"
   ]
  },
  {
   "cell_type": "code",
   "execution_count": 11,
   "id": "4ba2b37c",
   "metadata": {},
   "outputs": [
    {
     "name": "stdout",
     "output_type": "stream",
     "text": [
      "Forecast: 6.600000\n"
     ]
    }
   ],
   "source": [
    "print('Forecast: %f' % forecast)"
   ]
  },
  {
   "cell_type": "markdown",
   "id": "929246f9",
   "metadata": {},
   "source": [
    "### Predict Function"
   ]
  },
  {
   "cell_type": "code",
   "execution_count": 12,
   "id": "b3809005",
   "metadata": {},
   "outputs": [],
   "source": [
    "# one-step out of sample forecast\n",
    "start_index = len(differenced)\n",
    "end_index = len(differenced)\n",
    "forecast = model_fit.predict(start=start_index, end=end_index)"
   ]
  },
  {
   "cell_type": "code",
   "execution_count": 13,
   "id": "f4a70035",
   "metadata": {},
   "outputs": [
    {
     "name": "stdout",
     "output_type": "stream",
     "text": [
      "Forecast: 6.600000\n"
     ]
    }
   ],
   "source": [
    "# invert the differenced forecast to something usable\n",
    "forecast = inverse_difference(X, forecast, months_in_year)\n",
    "print('Forecast: %f' % forecast)"
   ]
  },
  {
   "cell_type": "markdown",
   "id": "20aacc0e",
   "metadata": {},
   "source": [
    "## Multi-Step Out-of-Sample Forecast"
   ]
  },
  {
   "cell_type": "markdown",
   "id": "018631e9",
   "metadata": {},
   "source": [
    "### Forecast Function"
   ]
  },
  {
   "cell_type": "code",
   "execution_count": 14,
   "id": "6217fc72",
   "metadata": {},
   "outputs": [],
   "source": [
    "# multi-step out-of-sample forecast\n",
    "forecast = model_fit.forecast(steps=12)[0]"
   ]
  },
  {
   "cell_type": "code",
   "execution_count": 15,
   "id": "28c212dc",
   "metadata": {},
   "outputs": [
    {
     "name": "stdout",
     "output_type": "stream",
     "text": [
      "Month 1: 6.600000\n",
      "Month 2: 6.600000\n",
      "Month 3: 7.500000\n",
      "Month 4: 17.800000\n",
      "Month 5: 16.300000\n",
      "Month 6: 14.100000\n",
      "Month 7: 13.300000\n",
      "Month 8: 11.500000\n",
      "Month 9: 11.000000\n",
      "Month 10: 10.000000\n",
      "Month 11: 9.800000\n",
      "Month 12: 9.800000\n"
     ]
    }
   ],
   "source": [
    "from pandas import read_csv\n",
    "from statsmodels.tsa.arima.model import ARIMA\n",
    "import numpy\n",
    " \n",
    "# create a differenced series\n",
    "def difference(dataset, interval=1):\n",
    "\tdiff = list()\n",
    "\tfor i in range(interval, len(dataset)):\n",
    "\t\tvalue = dataset[i] - dataset[i - interval]\n",
    "\t\tdiff.append(value)\n",
    "\treturn numpy.array(diff)\n",
    " \n",
    "# invert differenced value\n",
    "def inverse_difference(history, yhat, interval=1):\n",
    "\treturn yhat + history[-interval]\n",
    " \n",
    "# load dataset\n",
    "series = read_csv('dataset.csv', header=0)\n",
    "# seasonal difference\n",
    "X = series.values\n",
    "months_in_year = 12\n",
    "differenced = difference(X, months_in_year)\n",
    "# fit model\n",
    "model = ARIMA(differenced, order=(0,1,0))\n",
    "model_fit = model.fit()\n",
    "# multi-step out-of-sample forecast\n",
    "forecast = model_fit.forecast(steps=12)\n",
    "# invert the differenced forecast to something usable\n",
    "history = [x for x in X]\n",
    "month = 1\n",
    "for yhat in forecast:\n",
    "\tinverted = inverse_difference(history, yhat, months_in_year)\n",
    "\tprint('Month %d: %f' % (month, inverted))\n",
    "\thistory.append(inverted)\n",
    "\tmonth += 1"
   ]
  },
  {
   "cell_type": "markdown",
   "id": "2a65c8f2",
   "metadata": {},
   "source": [
    "### Predict Function"
   ]
  },
  {
   "cell_type": "code",
   "execution_count": 16,
   "id": "bf7ece89",
   "metadata": {},
   "outputs": [],
   "source": [
    "# multi-step out-of-sample forecast\n",
    "start_index = len(differenced)\n",
    "end_index = start_index + 11\n",
    "forecast = model_fit.predict(start=start_index, end=end_index)"
   ]
  },
  {
   "cell_type": "code",
   "execution_count": 17,
   "id": "9508566e",
   "metadata": {},
   "outputs": [
    {
     "name": "stdout",
     "output_type": "stream",
     "text": [
      "Month 1: 6.600000\n",
      "Month 2: 6.600000\n",
      "Month 3: 7.500000\n",
      "Month 4: 17.800000\n",
      "Month 5: 16.300000\n",
      "Month 6: 14.100000\n",
      "Month 7: 13.300000\n",
      "Month 8: 11.500000\n",
      "Month 9: 11.000000\n",
      "Month 10: 10.000000\n",
      "Month 11: 9.800000\n",
      "Month 12: 9.800000\n"
     ]
    }
   ],
   "source": [
    "# Predict Function\n",
    "from pandas import read_csv\n",
    "from statsmodels.tsa.arima.model import ARIMA\n",
    "import numpy\n",
    " \n",
    "# create a differenced series\n",
    "def difference(dataset, interval=1):\n",
    "\tdiff = list()\n",
    "\tfor i in range(interval, len(dataset)):\n",
    "\t\tvalue = dataset[i] - dataset[i - interval]\n",
    "\t\tdiff.append(value)\n",
    "\treturn numpy.array(diff)\n",
    " \n",
    "# invert differenced value\n",
    "def inverse_difference(history, yhat, interval=1):\n",
    "\treturn yhat + history[-interval]\n",
    " \n",
    "# load dataset\n",
    "series = read_csv('dataset.csv', header=0)\n",
    "# seasonal difference\n",
    "X = series.values\n",
    "months_in_year = 12\n",
    "differenced = difference(X, months_in_year)\n",
    "# fit model\n",
    "model = ARIMA(differenced, order=(0,1,0))\n",
    "model_fit = model.fit()\n",
    "# multi-step out-of-sample forecast\n",
    "start_index = len(differenced)\n",
    "end_index = start_index + 11\n",
    "forecast = model_fit.predict(start=start_index, end=end_index)\n",
    "# invert the differenced forecast to something usable\n",
    "history = [x for x in X]\n",
    "month = 1\n",
    "for yhat in forecast:\n",
    "\tinverted = inverse_difference(history, yhat, months_in_year)\n",
    "\tprint('Month %d: %f' % (month, inverted))\n",
    "\thistory.append(inverted)\n",
    "\tmonth += 1"
   ]
  },
  {
   "cell_type": "code",
   "execution_count": null,
   "id": "a070f093",
   "metadata": {},
   "outputs": [],
   "source": []
  }
 ],
 "metadata": {
  "kernelspec": {
   "display_name": "mlenv",
   "language": "python",
   "name": "mlenv"
  },
  "language_info": {
   "codemirror_mode": {
    "name": "ipython",
    "version": 3
   },
   "file_extension": ".py",
   "mimetype": "text/x-python",
   "name": "python",
   "nbconvert_exporter": "python",
   "pygments_lexer": "ipython3",
   "version": "3.7.11"
  }
 },
 "nbformat": 4,
 "nbformat_minor": 5
}
